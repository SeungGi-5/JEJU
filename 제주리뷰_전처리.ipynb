{
 "cells": [
  {
   "cell_type": "code",
   "execution_count": 1,
   "id": "6f8b18a0-1ed7-4699-8a98-5846fafed2ce",
   "metadata": {},
   "outputs": [],
   "source": [
    "import re\n",
    "import pandas as pd"
   ]
  },
  {
   "cell_type": "code",
   "execution_count": 3,
   "id": "8a031ab5-d4a4-427e-a676-558717edb5c0",
   "metadata": {},
   "outputs": [],
   "source": [
    "plt.rcParams['font.family']='AppleGothic'\n",
    "plt.rcParams['axes.unicode_minus']=False"
   ]
  },
  {
   "cell_type": "code",
   "execution_count": 2,
   "id": "219f505e-f495-4d59-b5d8-e8f10cb7b138",
   "metadata": {},
   "outputs": [
    {
     "ename": "NameError",
     "evalue": "name 'pd' is not defined",
     "output_type": "error",
     "traceback": [
      "\u001b[0;31m---------------------------------------------------------------------------\u001b[0m",
      "\u001b[0;31mNameError\u001b[0m                                 Traceback (most recent call last)",
      "\u001b[0;32m/var/folders/_g/kl94k0td3h1gy80byz1z3wbc0000gn/T/ipykernel_17603/2995213085.py\u001b[0m in \u001b[0;36m<module>\u001b[0;34m\u001b[0m\n\u001b[0;32m----> 1\u001b[0;31m \u001b[0m구글리뷰\u001b[0m\u001b[0;34m=\u001b[0m\u001b[0mpd\u001b[0m\u001b[0;34m.\u001b[0m\u001b[0mread_csv\u001b[0m\u001b[0;34m(\u001b[0m\u001b[0;34m'구글리뷰_백업.csv'\u001b[0m\u001b[0;34m)\u001b[0m\u001b[0;34m\u001b[0m\u001b[0;34m\u001b[0m\u001b[0m\n\u001b[0m\u001b[1;32m      2\u001b[0m \u001b[0m리뷰\u001b[0m\u001b[0;34m=\u001b[0m\u001b[0mpd\u001b[0m\u001b[0;34m.\u001b[0m\u001b[0mread_csv\u001b[0m\u001b[0;34m(\u001b[0m\u001b[0;34m\"한식리뷰_카카오.csv\"\u001b[0m\u001b[0;34m)\u001b[0m\u001b[0;34m\u001b[0m\u001b[0;34m\u001b[0m\u001b[0m\n",
      "\u001b[0;31mNameError\u001b[0m: name 'pd' is not defined"
     ]
    }
   ],
   "source": [
    "구글리뷰=pd.read_csv('구글리뷰_백업.csv')\n",
    "리뷰=pd.read_csv(\"한식리뷰_카카오.csv\")"
   ]
  },
  {
   "cell_type": "code",
   "execution_count": 6,
   "id": "302efe41-38fa-49fb-ae47-b29e82c7d0b3",
   "metadata": {},
   "outputs": [],
   "source": [
    "구글리뷰.drop_duplicates(inplace=True)\n",
    "구글리뷰['label']=구글리뷰.별점.map({' 별표 5개 ':0, ' 별표 3개 ':2, ' 별표 4개 ':0, ' 별표 1개 ':1, ' 별표 2개 ':1})\n",
    "구글리뷰['리뷰']=구글리뷰['리뷰'].str.replace(\"[^ㄱ-ㅎㅏ-ㅣ가-힣0-9\\s]\", \"\", regex=True)\n",
    "구글리뷰['리뷰'].replace('',np.nan,inplace=True)\n",
    "구글리뷰.dropna(inplace=True)\n",
    "리뷰.drop_duplicates(inplace=True)\n",
    "리뷰['label']=리뷰.별점.map({'5점':0,'4점':0,'3점':2,'2점':1,'1점':1})\n",
    "리뷰['리뷰']=리뷰['리뷰'].str.replace(\"[^ㄱ-ㅎㅏ-ㅣ가-힣0-9\\s]\", \"\", regex=True)\n",
    "리뷰['리뷰'].replace('',np.nan,inplace=True)\n",
    "리뷰.dropna(inplace=True)\n",
    "리뷰=리뷰.append(구글리뷰)\n",
    "리뷰=리뷰.reset_index().drop('index',axis=1)\n",
    "for i in 리뷰[리뷰['리뷰'].str.contains('번역 제공')].index:\n",
    "    리뷰.loc[i,'리뷰']=리뷰.loc[i,'리뷰'].replace('번역 제공','').replace('원문','')\n",
    "for i in 리뷰[리뷰['리뷰'].str.contains('\\n')].index:\n",
    "    리뷰.loc[i,'리뷰']=리뷰.loc[i,'리뷰'].replace('\\n','')\n",
    "for i in 리뷰[리뷰['리뷰'].str.contains('\\u2028')].index:\n",
    "    리뷰.loc[i,'리뷰']=리뷰.loc[i,'리뷰'].replace('\\u2028','')"
   ]
  },
  {
   "cell_type": "code",
   "execution_count": 11,
   "id": "e8e2e7ff-f510-4ae0-92b0-347c9c291368",
   "metadata": {},
   "outputs": [],
   "source": [
    "checked_sents=[spell_checker.check(i).checked for i in 리뷰['리뷰']]"
   ]
  },
  {
   "cell_type": "code",
   "execution_count": 13,
   "id": "89024fce-a330-4704-9cc6-ed76255c37f1",
   "metadata": {},
   "outputs": [
    {
     "data": {
      "text/plain": [
       "'가보면 내 맘 알지'"
      ]
     },
     "execution_count": 13,
     "metadata": {},
     "output_type": "execute_result"
    }
   ],
   "source": [
    "checked_sents[0]"
   ]
  },
  {
   "cell_type": "code",
   "execution_count": 14,
   "id": "e0a7d0ec-37a8-4877-a210-647c11e349d5",
   "metadata": {},
   "outputs": [],
   "source": [
    "리뷰['리뷰']=checked_sents"
   ]
  },
  {
   "cell_type": "code",
   "execution_count": 16,
   "id": "98a10ffc-3116-444a-a8e6-6765c2b79b11",
   "metadata": {},
   "outputs": [
    {
     "data": {
      "text/plain": [
       "리뷰       0\n",
       "별점       0\n",
       "label    0\n",
       "dtype: int64"
      ]
     },
     "execution_count": 16,
     "metadata": {},
     "output_type": "execute_result"
    }
   ],
   "source": [
    "리뷰.isna().sum()"
   ]
  },
  {
   "cell_type": "code",
   "execution_count": 18,
   "id": "0b55d1db-99a2-4e2b-90e3-8e97c0c5d6a4",
   "metadata": {},
   "outputs": [],
   "source": [
    "리뷰.to_csv('review.csv',index=False)"
   ]
  },
  {
   "cell_type": "code",
   "execution_count": 23,
   "id": "08241a62-d175-4a3f-bf99-8825d9e76f5c",
   "metadata": {},
   "outputs": [
    {
     "data": {
      "text/plain": [
       "array([0.5, 5. , 4. , 4.5, 1.5, 2.5, 3.5, 2. , 3. , 1. ])"
      ]
     },
     "execution_count": 23,
     "metadata": {},
     "output_type": "execute_result"
    }
   ],
   "source": [
    "네이버=pd.read_csv('naver_review.csv')\n",
    "네이버.label.unique()"
   ]
  },
  {
   "cell_type": "code",
   "execution_count": 116,
   "id": "1dd50a72-3fc6-4025-a177-e99f7e688b93",
   "metadata": {},
   "outputs": [],
   "source": [
    "네이버_fil=네이버[(네이버['label']==0.5)|(네이버['label']==1.)|(네이버['label']==2.)|(네이버['label']==1.5)|(네이버['label']==2.5)]\n",
    "네이버_fil_3=네이버[네이버['label']==3]"
   ]
  },
  {
   "cell_type": "code",
   "execution_count": 117,
   "id": "7c9727bc-6afb-4405-9501-e8963b204740",
   "metadata": {},
   "outputs": [
    {
     "name": "stderr",
     "output_type": "stream",
     "text": [
      "/opt/homebrew/Caskroom/miniforge/base/envs/tf/lib/python3.8/site-packages/pandas/core/frame.py:4901: SettingWithCopyWarning: \n",
      "A value is trying to be set on a copy of a slice from a DataFrame\n",
      "\n",
      "See the caveats in the documentation: https://pandas.pydata.org/pandas-docs/stable/user_guide/indexing.html#returning-a-view-versus-a-copy\n",
      "  return super().drop(\n"
     ]
    }
   ],
   "source": [
    "for i in 네이버_fil.query('[\"굿\",\"굳\",\"좋아요\",\"good\",\"ㅇ\",\"Good\",\"GOOD\"] in text').index:\n",
    "    네이버_fil.drop(i,inplace=True)\n",
    "for i in 네이버_fil_3.query('[\"굿\",\"굳\",\"좋아요\",\"good\",\"ㅇ\",\"Good\",\"GOOD\"] in text').index:\n",
    "    네이버_fil_3.drop(i,inplace=True)"
   ]
  },
  {
   "cell_type": "code",
   "execution_count": 121,
   "id": "55fba700-0a0b-4fe4-943d-65b8e8110bcc",
   "metadata": {},
   "outputs": [
    {
     "data": {
      "text/html": [
       "<div>\n",
       "<style scoped>\n",
       "    .dataframe tbody tr th:only-of-type {\n",
       "        vertical-align: middle;\n",
       "    }\n",
       "\n",
       "    .dataframe tbody tr th {\n",
       "        vertical-align: top;\n",
       "    }\n",
       "\n",
       "    .dataframe thead th {\n",
       "        text-align: right;\n",
       "    }\n",
       "</style>\n",
       "<table border=\"1\" class=\"dataframe\">\n",
       "  <thead>\n",
       "    <tr style=\"text-align: right;\">\n",
       "      <th></th>\n",
       "      <th>text</th>\n",
       "    </tr>\n",
       "  </thead>\n",
       "  <tbody>\n",
       "    <tr>\n",
       "      <th>0</th>\n",
       "      <td>전체적으로 사람이 너무 몰려 정신이 없어요. \\n음료는 이십분이 다되서 나왔고\\n음...</td>\n",
       "    </tr>\n",
       "    <tr>\n",
       "      <th>1</th>\n",
       "      <td>Not a value for money so disappointing . We pa...</td>\n",
       "    </tr>\n",
       "    <tr>\n",
       "      <th>2</th>\n",
       "      <td>아이들이 많아서 룸으로 된 식당 검색하다 방문 했는데 별로 좋지 않은 기억만 남았....</td>\n",
       "    </tr>\n",
       "    <tr>\n",
       "      <th>3</th>\n",
       "      <td>런치먹으러 광원으로 향하는 길에 차가 너무 많이 막히길래 전화해서 3시에서 5분정....</td>\n",
       "    </tr>\n",
       "    <tr>\n",
       "      <th>4</th>\n",
       "      <td>Overprice, Low level Beef, Bad Services, Stres...</td>\n",
       "    </tr>\n",
       "    <tr>\n",
       "      <th>...</th>\n",
       "      <td>...</td>\n",
       "    </tr>\n",
       "    <tr>\n",
       "      <th>977</th>\n",
       "      <td>파리 네마리가 쌍으로 날라다니는데 잡을생각도안하시고 문제있더라구요 맛은 달콤하니 ....</td>\n",
       "    </tr>\n",
       "    <tr>\n",
       "      <th>978</th>\n",
       "      <td>刺し身とか、シーフードがいろいろ安いとは思いますが、店員さんの愛想は悪いです。店もあまりきれ...</td>\n",
       "    </tr>\n",
       "    <tr>\n",
       "      <th>979</th>\n",
       "      <td>관광버스가 열심히 들락거립니다.\\n돗대기 시장 저리가라 입니다.식사중에 와서 계산하...</td>\n",
       "    </tr>\n",
       "    <tr>\n",
       "      <th>980</th>\n",
       "      <td>제주 2박3일 일정\\n마지막 저녁식사 장소\\n그러나.\\n공항에서부터 구토..\\n비행...</td>\n",
       "    </tr>\n",
       "    <tr>\n",
       "      <th>981</th>\n",
       "      <td>조금 대기하다 식사하였고 많은 추천으로 방문했지만 상당히 실망스러웠음.\\n그저 관광...</td>\n",
       "    </tr>\n",
       "  </tbody>\n",
       "</table>\n",
       "<p>982 rows × 1 columns</p>\n",
       "</div>"
      ],
      "text/plain": [
       "                                                  text\n",
       "0    전체적으로 사람이 너무 몰려 정신이 없어요. \\n음료는 이십분이 다되서 나왔고\\n음...\n",
       "1    Not a value for money so disappointing . We pa...\n",
       "2    아이들이 많아서 룸으로 된 식당 검색하다 방문 했는데 별로 좋지 않은 기억만 남았....\n",
       "3    런치먹으러 광원으로 향하는 길에 차가 너무 많이 막히길래 전화해서 3시에서 5분정....\n",
       "4    Overprice, Low level Beef, Bad Services, Stres...\n",
       "..                                                 ...\n",
       "977  파리 네마리가 쌍으로 날라다니는데 잡을생각도안하시고 문제있더라구요 맛은 달콤하니 ....\n",
       "978  刺し身とか、シーフードがいろいろ安いとは思いますが、店員さんの愛想は悪いです。店もあまりきれ...\n",
       "979  관광버스가 열심히 들락거립니다.\\n돗대기 시장 저리가라 입니다.식사중에 와서 계산하...\n",
       "980  제주 2박3일 일정\\n마지막 저녁식사 장소\\n그러나.\\n공항에서부터 구토..\\n비행...\n",
       "981  조금 대기하다 식사하였고 많은 추천으로 방문했지만 상당히 실망스러웠음.\\n그저 관광...\n",
       "\n",
       "[982 rows x 1 columns]"
      ]
     },
     "execution_count": 121,
     "metadata": {},
     "output_type": "execute_result"
    }
   ],
   "source": [
    "트립=pd.read_csv('trip.csv').drop('Unnamed: 0',axis=1).rename(columns={'0':'text'})\n",
    "트립"
   ]
  },
  {
   "cell_type": "code",
   "execution_count": 125,
   "id": "8dfc528d-c652-4ae7-a257-d018a6dc8c0c",
   "metadata": {},
   "outputs": [],
   "source": [
    "text_df=네이버_fil[['text']].append(트립)\n",
    "text_df_3=네이버_fil_3[['text']]"
   ]
  },
  {
   "cell_type": "code",
   "execution_count": 126,
   "id": "aaf77f61-0b92-4832-aec5-300c1f7ee973",
   "metadata": {},
   "outputs": [
    {
     "data": {
      "text/html": [
       "<div>\n",
       "<style scoped>\n",
       "    .dataframe tbody tr th:only-of-type {\n",
       "        vertical-align: middle;\n",
       "    }\n",
       "\n",
       "    .dataframe tbody tr th {\n",
       "        vertical-align: top;\n",
       "    }\n",
       "\n",
       "    .dataframe thead th {\n",
       "        text-align: right;\n",
       "    }\n",
       "</style>\n",
       "<table border=\"1\" class=\"dataframe\">\n",
       "  <thead>\n",
       "    <tr style=\"text-align: right;\">\n",
       "      <th></th>\n",
       "      <th>text</th>\n",
       "    </tr>\n",
       "  </thead>\n",
       "  <tbody>\n",
       "    <tr>\n",
       "      <th>0</th>\n",
       "      <td>왜? 맞집일까요?\\n빈대떡은 타고 기름이..넘쳐나고\\n내가 왜  왔을까요?</td>\n",
       "    </tr>\n",
       "    <tr>\n",
       "      <th>1</th>\n",
       "      <td>뚝배기에 김만 모락모락?? 돈앞에 음식이 무너지면 망합니다. 그냥 SNS용 관광식당...</td>\n",
       "    </tr>\n",
       "    <tr>\n",
       "      <th>2</th>\n",
       "      <td>고사리 육개장 맛있는데 빈대떡은 다 흩어지고\\n앞에 사장님인지 대기표 주시는 어머님...</td>\n",
       "    </tr>\n",
       "    <tr>\n",
       "      <th>3</th>\n",
       "      <td>고사리 죽이었음. 한시간 기다려셔 먹은것 치고 후회됨. 이빨없는 어르신들 가시면좋을듯.</td>\n",
       "    </tr>\n",
       "    <tr>\n",
       "      <th>4</th>\n",
       "      <td>왜줄서서먹는지.이해1도안감</td>\n",
       "    </tr>\n",
       "    <tr>\n",
       "      <th>...</th>\n",
       "      <td>...</td>\n",
       "    </tr>\n",
       "    <tr>\n",
       "      <th>9956</th>\n",
       "      <td>파리 네마리가 쌍으로 날라다니는데 잡을생각도안하시고 문제있더라구요 맛은 달콤하니 ....</td>\n",
       "    </tr>\n",
       "    <tr>\n",
       "      <th>9957</th>\n",
       "      <td>刺し身とか、シーフードがいろいろ安いとは思いますが、店員さんの愛想は悪いです。店もあまりきれ...</td>\n",
       "    </tr>\n",
       "    <tr>\n",
       "      <th>9958</th>\n",
       "      <td>관광버스가 열심히 들락거립니다.\\n돗대기 시장 저리가라 입니다.식사중에 와서 계산하...</td>\n",
       "    </tr>\n",
       "    <tr>\n",
       "      <th>9959</th>\n",
       "      <td>제주 2박3일 일정\\n마지막 저녁식사 장소\\n그러나.\\n공항에서부터 구토..\\n비행...</td>\n",
       "    </tr>\n",
       "    <tr>\n",
       "      <th>9960</th>\n",
       "      <td>조금 대기하다 식사하였고 많은 추천으로 방문했지만 상당히 실망스러웠음.\\n그저 관광...</td>\n",
       "    </tr>\n",
       "  </tbody>\n",
       "</table>\n",
       "<p>9961 rows × 1 columns</p>\n",
       "</div>"
      ],
      "text/plain": [
       "                                                   text\n",
       "0             왜? 맞집일까요?\\n빈대떡은 타고 기름이..넘쳐나고\\n내가 왜  왔을까요?\n",
       "1     뚝배기에 김만 모락모락?? 돈앞에 음식이 무너지면 망합니다. 그냥 SNS용 관광식당...\n",
       "2     고사리 육개장 맛있는데 빈대떡은 다 흩어지고\\n앞에 사장님인지 대기표 주시는 어머님...\n",
       "3      고사리 죽이었음. 한시간 기다려셔 먹은것 치고 후회됨. 이빨없는 어르신들 가시면좋을듯.\n",
       "4                                        왜줄서서먹는지.이해1도안감\n",
       "...                                                 ...\n",
       "9956  파리 네마리가 쌍으로 날라다니는데 잡을생각도안하시고 문제있더라구요 맛은 달콤하니 ....\n",
       "9957  刺し身とか、シーフードがいろいろ安いとは思いますが、店員さんの愛想は悪いです。店もあまりきれ...\n",
       "9958  관광버스가 열심히 들락거립니다.\\n돗대기 시장 저리가라 입니다.식사중에 와서 계산하...\n",
       "9959  제주 2박3일 일정\\n마지막 저녁식사 장소\\n그러나.\\n공항에서부터 구토..\\n비행...\n",
       "9960  조금 대기하다 식사하였고 많은 추천으로 방문했지만 상당히 실망스러웠음.\\n그저 관광...\n",
       "\n",
       "[9961 rows x 1 columns]"
      ]
     },
     "execution_count": 126,
     "metadata": {},
     "output_type": "execute_result"
    }
   ],
   "source": [
    "text_df=text_df.reset_index().drop('index',axis=1)\n",
    "text_df"
   ]
  },
  {
   "cell_type": "code",
   "execution_count": 127,
   "id": "dabc6de9-c4e0-4927-a82b-f1650ef89221",
   "metadata": {},
   "outputs": [
    {
     "name": "stderr",
     "output_type": "stream",
     "text": [
      "/opt/homebrew/Caskroom/miniforge/base/envs/tf/lib/python3.8/site-packages/pandas/core/indexing.py:1732: SettingWithCopyWarning: \n",
      "A value is trying to be set on a copy of a slice from a DataFrame\n",
      "\n",
      "See the caveats in the documentation: https://pandas.pydata.org/pandas-docs/stable/user_guide/indexing.html#returning-a-view-versus-a-copy\n",
      "  self._setitem_single_block(indexer, value, name)\n",
      "/opt/homebrew/Caskroom/miniforge/base/envs/tf/lib/python3.8/site-packages/pandas/core/indexing.py:723: SettingWithCopyWarning: \n",
      "A value is trying to be set on a copy of a slice from a DataFrame\n",
      "\n",
      "See the caveats in the documentation: https://pandas.pydata.org/pandas-docs/stable/user_guide/indexing.html#returning-a-view-versus-a-copy\n",
      "  iloc._setitem_with_indexer(indexer, value, self.name)\n"
     ]
    }
   ],
   "source": [
    "for i in text_df.index:\n",
    "    text_df.loc[i,'text']=text_df.loc[i,'text'].replace('\\n',' ').replace('...','').replace('ㅋ','').replace('ㅎ','').replace('ㅜ','').replace('ㅠ','').replace('더 보기','')\n",
    "for i in text_df_3.index:\n",
    "    text_df_3.loc[i,'text']=text_df_3.loc[i,'text'].replace('\\n',' ').replace('...','').replace('ㅋ','').replace('ㅎ','').replace('ㅜ','').replace('ㅠ','').replace('더 보기','')"
   ]
  },
  {
   "cell_type": "code",
   "execution_count": 128,
   "id": "f9e45977-8bc8-42dd-9069-8a95c8d5c7d5",
   "metadata": {},
   "outputs": [
    {
     "name": "stderr",
     "output_type": "stream",
     "text": [
      "/opt/homebrew/Caskroom/miniforge/base/envs/tf/lib/python3.8/site-packages/pandas/core/frame.py:3607: SettingWithCopyWarning: \n",
      "A value is trying to be set on a copy of a slice from a DataFrame.\n",
      "Try using .loc[row_indexer,col_indexer] = value instead\n",
      "\n",
      "See the caveats in the documentation: https://pandas.pydata.org/pandas-docs/stable/user_guide/indexing.html#returning-a-view-versus-a-copy\n",
      "  self._set_item(key, value)\n"
     ]
    }
   ],
   "source": [
    "text_df['text'] = text_df['text'].str.replace(\"[^ㄱ-ㅎㅏ-ㅣ가-힣 ]\", \"\", regex=True)\n",
    "text_df_3['text'] = text_df_3['text'].str.replace(\"[^ㄱ-ㅎㅏ-ㅣ가-힣 ]\", \"\", regex=True)"
   ]
  },
  {
   "cell_type": "code",
   "execution_count": 129,
   "id": "dbf253c1-a4f3-4356-9b57-c9a88a8d6f8a",
   "metadata": {},
   "outputs": [
    {
     "name": "stderr",
     "output_type": "stream",
     "text": [
      "/opt/homebrew/Caskroom/miniforge/base/envs/tf/lib/python3.8/site-packages/pandas/core/generic.py:6610: SettingWithCopyWarning: \n",
      "A value is trying to be set on a copy of a slice from a DataFrame\n",
      "\n",
      "See the caveats in the documentation: https://pandas.pydata.org/pandas-docs/stable/user_guide/indexing.html#returning-a-view-versus-a-copy\n",
      "  return self._update_inplace(result)\n"
     ]
    }
   ],
   "source": [
    "text_df['text'].replace('', np.nan, inplace=True)\n",
    "text_df_3['text'].replace('', np.nan, inplace=True)"
   ]
  },
  {
   "cell_type": "code",
   "execution_count": 130,
   "id": "0a0d38d6-6795-453c-8c54-69996f71f875",
   "metadata": {},
   "outputs": [
    {
     "name": "stderr",
     "output_type": "stream",
     "text": [
      "/opt/homebrew/Caskroom/miniforge/base/envs/tf/lib/python3.8/site-packages/pandas/util/_decorators.py:311: SettingWithCopyWarning: \n",
      "A value is trying to be set on a copy of a slice from a DataFrame\n",
      "\n",
      "See the caveats in the documentation: https://pandas.pydata.org/pandas-docs/stable/user_guide/indexing.html#returning-a-view-versus-a-copy\n",
      "  return func(*args, **kwargs)\n"
     ]
    },
    {
     "data": {
      "text/plain": [
       "text    0\n",
       "dtype: int64"
      ]
     },
     "execution_count": 130,
     "metadata": {},
     "output_type": "execute_result"
    }
   ],
   "source": [
    "text_df.dropna(inplace=True)\n",
    "text_df_3.dropna(inplace=True)\n",
    "text_df.isna().sum()"
   ]
  },
  {
   "cell_type": "code",
   "execution_count": 137,
   "id": "64d1ca27-8526-4439-82d9-aaa26d606919",
   "metadata": {},
   "outputs": [],
   "source": [
    "checked_sents=[spell_checker.check(i).checked for i in text_df['text']]\n",
    "checked_sents_3=[spell_checker.check(i).checked for i in text_df_3['text']]"
   ]
  },
  {
   "cell_type": "code",
   "execution_count": 335,
   "id": "3149f0ed-d3ed-4cf1-8247-03eb54497450",
   "metadata": {},
   "outputs": [
    {
     "data": {
      "text/html": [
       "<div>\n",
       "<style scoped>\n",
       "    .dataframe tbody tr th:only-of-type {\n",
       "        vertical-align: middle;\n",
       "    }\n",
       "\n",
       "    .dataframe tbody tr th {\n",
       "        vertical-align: top;\n",
       "    }\n",
       "\n",
       "    .dataframe thead th {\n",
       "        text-align: right;\n",
       "    }\n",
       "</style>\n",
       "<table border=\"1\" class=\"dataframe\">\n",
       "  <thead>\n",
       "    <tr style=\"text-align: right;\">\n",
       "      <th></th>\n",
       "      <th>text</th>\n",
       "      <th>label</th>\n",
       "    </tr>\n",
       "  </thead>\n",
       "  <tbody>\n",
       "    <tr>\n",
       "      <th>0</th>\n",
       "      <td>왜? 맞집일까요?\\n빈대떡은 타고 기름이..넘쳐나고\\n내가 왜  왔을까요?</td>\n",
       "      <td>0.5</td>\n",
       "    </tr>\n",
       "    <tr>\n",
       "      <th>1</th>\n",
       "      <td>친절과 위생은 ㅎㅎ.. 그치만 맛있어요</td>\n",
       "      <td>5.0</td>\n",
       "    </tr>\n",
       "    <tr>\n",
       "      <th>2</th>\n",
       "      <td>늘 맛있는 곳</td>\n",
       "      <td>5.0</td>\n",
       "    </tr>\n",
       "    <tr>\n",
       "      <th>3</th>\n",
       "      <td>별 다섯개주기엔 대기가 넘 길어요 이정도면 확장하셔요~~~ 포장하면 호딱들고갈수있음...</td>\n",
       "      <td>4.0</td>\n",
       "    </tr>\n",
       "    <tr>\n",
       "      <th>4</th>\n",
       "      <td>소문대로 맛나요</td>\n",
       "      <td>5.0</td>\n",
       "    </tr>\n",
       "    <tr>\n",
       "      <th>...</th>\n",
       "      <td>...</td>\n",
       "      <td>...</td>\n",
       "    </tr>\n",
       "    <tr>\n",
       "      <th>158727</th>\n",
       "      <td>제주하면 뭐다 ? 갈치조림 ~~~~🧡 서비스도 넉넉해서 배터져죽을뻔했어요 ㅠㅠㅠ 담...</td>\n",
       "      <td>5.0</td>\n",
       "    </tr>\n",
       "    <tr>\n",
       "      <th>158728</th>\n",
       "      <td>별한개도 아깝습니다. 처음으로 리뷰쓸려고 영수증 리뷰에 가입했습니다.해물뚝배기 먹었...</td>\n",
       "      <td>1.0</td>\n",
       "    </tr>\n",
       "    <tr>\n",
       "      <th>158729</th>\n",
       "      <td>성게미역국은 밍밍 \\n조림만 그나마 먹을만</td>\n",
       "      <td>3.0</td>\n",
       "    </tr>\n",
       "    <tr>\n",
       "      <th>158730</th>\n",
       "      <td>전복해물뚝배기 먹었는데\\n가격은 15,000원 대비\\n그냥저냥 먹을만하다</td>\n",
       "      <td>4.0</td>\n",
       "    </tr>\n",
       "    <tr>\n",
       "      <th>158731</th>\n",
       "      <td>비린내 하나도 못 느꼈고 반찬들도 맛있게 먹었어요 직원분들도 친절하세요! 우도 땅콩...</td>\n",
       "      <td>4.0</td>\n",
       "    </tr>\n",
       "  </tbody>\n",
       "</table>\n",
       "<p>158732 rows × 2 columns</p>\n",
       "</div>"
      ],
      "text/plain": [
       "                                                     text  label\n",
       "0               왜? 맞집일까요?\\n빈대떡은 타고 기름이..넘쳐나고\\n내가 왜  왔을까요?    0.5\n",
       "1                                   친절과 위생은 ㅎㅎ.. 그치만 맛있어요    5.0\n",
       "2                                                 늘 맛있는 곳    5.0\n",
       "3       별 다섯개주기엔 대기가 넘 길어요 이정도면 확장하셔요~~~ 포장하면 호딱들고갈수있음...    4.0\n",
       "4                                                소문대로 맛나요    5.0\n",
       "...                                                   ...    ...\n",
       "158727  제주하면 뭐다 ? 갈치조림 ~~~~🧡 서비스도 넉넉해서 배터져죽을뻔했어요 ㅠㅠㅠ 담...    5.0\n",
       "158728  별한개도 아깝습니다. 처음으로 리뷰쓸려고 영수증 리뷰에 가입했습니다.해물뚝배기 먹었...    1.0\n",
       "158729                            성게미역국은 밍밍 \\n조림만 그나마 먹을만    3.0\n",
       "158730           전복해물뚝배기 먹었는데\\n가격은 15,000원 대비\\n그냥저냥 먹을만하다    4.0\n",
       "158731  비린내 하나도 못 느꼈고 반찬들도 맛있게 먹었어요 직원분들도 친절하세요! 우도 땅콩...    4.0\n",
       "\n",
       "[158732 rows x 2 columns]"
      ]
     },
     "execution_count": 335,
     "metadata": {},
     "output_type": "execute_result"
    }
   ],
   "source": [
    "naver=pd.read_csv('naver_review.csv')\n",
    "naver"
   ]
  },
  {
   "cell_type": "code",
   "execution_count": 241,
   "id": "451a301b-535a-40df-bdcc-907924070b39",
   "metadata": {},
   "outputs": [],
   "source": [
    "naver=naver[(naver.label==5.0)|(naver.label==4.5)|(naver.label==4.0)]"
   ]
  },
  {
   "cell_type": "code",
   "execution_count": 244,
   "id": "09bbdd8b-962a-46c5-acda-1388e86e572c",
   "metadata": {},
   "outputs": [
    {
     "data": {
      "text/html": [
       "<div>\n",
       "<style scoped>\n",
       "    .dataframe tbody tr th:only-of-type {\n",
       "        vertical-align: middle;\n",
       "    }\n",
       "\n",
       "    .dataframe tbody tr th {\n",
       "        vertical-align: top;\n",
       "    }\n",
       "\n",
       "    .dataframe thead th {\n",
       "        text-align: right;\n",
       "    }\n",
       "</style>\n",
       "<table border=\"1\" class=\"dataframe\">\n",
       "  <thead>\n",
       "    <tr style=\"text-align: right;\">\n",
       "      <th></th>\n",
       "      <th>text</th>\n",
       "      <th>label</th>\n",
       "    </tr>\n",
       "  </thead>\n",
       "  <tbody>\n",
       "    <tr>\n",
       "      <th>1</th>\n",
       "      <td>친절과 위생은 ㅎㅎ 그치만 맛있어요</td>\n",
       "      <td>5.0</td>\n",
       "    </tr>\n",
       "    <tr>\n",
       "      <th>2</th>\n",
       "      <td>늘 맛있는 곳</td>\n",
       "      <td>5.0</td>\n",
       "    </tr>\n",
       "    <tr>\n",
       "      <th>3</th>\n",
       "      <td>별 다섯개주기엔 대기가 넘 길어요 이정도면 확장하셔요 포장하면 호딱들고갈수있음 담부...</td>\n",
       "      <td>4.0</td>\n",
       "    </tr>\n",
       "    <tr>\n",
       "      <th>4</th>\n",
       "      <td>소문대로 맛나요</td>\n",
       "      <td>5.0</td>\n",
       "    </tr>\n",
       "    <tr>\n",
       "      <th>6</th>\n",
       "      <td>맛있어요</td>\n",
       "      <td>5.0</td>\n",
       "    </tr>\n",
       "    <tr>\n",
       "      <th>...</th>\n",
       "      <td>...</td>\n",
       "      <td>...</td>\n",
       "    </tr>\n",
       "    <tr>\n",
       "      <th>158725</th>\n",
       "      <td>점심으로 먹고 왔어용 ㅎㅎ 제주 인심을 느낄수있었어용  국물도 진해서 너무 든든해요...</td>\n",
       "      <td>5.0</td>\n",
       "    </tr>\n",
       "    <tr>\n",
       "      <th>158726</th>\n",
       "      <td>너무 맛있게 잘 먹고 갑니당 ㅎㅎ 모든 음식이 다 맛있었네요</td>\n",
       "      <td>5.0</td>\n",
       "    </tr>\n",
       "    <tr>\n",
       "      <th>158727</th>\n",
       "      <td>제주하면 뭐다  갈치조림  서비스도 넉넉해서 배터져죽을뻔했어요 ㅠㅠㅠ 담엔 부모님 ...</td>\n",
       "      <td>5.0</td>\n",
       "    </tr>\n",
       "    <tr>\n",
       "      <th>158730</th>\n",
       "      <td>전복해물뚝배기 먹었는데가격은 원 대비그냥저냥 먹을만하다</td>\n",
       "      <td>4.0</td>\n",
       "    </tr>\n",
       "    <tr>\n",
       "      <th>158731</th>\n",
       "      <td>비린내 하나도 못 느꼈고 반찬들도 맛있게 먹었어요 직원분들도 친절하세요 우도 땅콩 ...</td>\n",
       "      <td>4.0</td>\n",
       "    </tr>\n",
       "  </tbody>\n",
       "</table>\n",
       "<p>139295 rows × 2 columns</p>\n",
       "</div>"
      ],
      "text/plain": [
       "                                                     text  label\n",
       "1                                     친절과 위생은 ㅎㅎ 그치만 맛있어요    5.0\n",
       "2                                                 늘 맛있는 곳    5.0\n",
       "3       별 다섯개주기엔 대기가 넘 길어요 이정도면 확장하셔요 포장하면 호딱들고갈수있음 담부...    4.0\n",
       "4                                                소문대로 맛나요    5.0\n",
       "6                                                    맛있어요    5.0\n",
       "...                                                   ...    ...\n",
       "158725  점심으로 먹고 왔어용 ㅎㅎ 제주 인심을 느낄수있었어용  국물도 진해서 너무 든든해요...    5.0\n",
       "158726                 너무 맛있게 잘 먹고 갑니당 ㅎㅎ 모든 음식이 다 맛있었네요     5.0\n",
       "158727  제주하면 뭐다  갈치조림  서비스도 넉넉해서 배터져죽을뻔했어요 ㅠㅠㅠ 담엔 부모님 ...    5.0\n",
       "158730                     전복해물뚝배기 먹었는데가격은 원 대비그냥저냥 먹을만하다    4.0\n",
       "158731  비린내 하나도 못 느꼈고 반찬들도 맛있게 먹었어요 직원분들도 친절하세요 우도 땅콩 ...    4.0\n",
       "\n",
       "[139295 rows x 2 columns]"
      ]
     },
     "execution_count": 244,
     "metadata": {},
     "output_type": "execute_result"
    }
   ],
   "source": [
    "naver"
   ]
  },
  {
   "cell_type": "code",
   "execution_count": null,
   "id": "5250f0c4-e805-46dd-974c-1fe292c49378",
   "metadata": {},
   "outputs": [],
   "source": [
    "RandomUnderSampler()"
   ]
  },
  {
   "cell_type": "code",
   "execution_count": 234,
   "id": "6bab2381-afbd-4452-b501-cb275fc396a3",
   "metadata": {},
   "outputs": [
    {
     "data": {
      "text/html": [
       "<div>\n",
       "<style scoped>\n",
       "    .dataframe tbody tr th:only-of-type {\n",
       "        vertical-align: middle;\n",
       "    }\n",
       "\n",
       "    .dataframe tbody tr th {\n",
       "        vertical-align: top;\n",
       "    }\n",
       "\n",
       "    .dataframe thead th {\n",
       "        text-align: right;\n",
       "    }\n",
       "</style>\n",
       "<table border=\"1\" class=\"dataframe\">\n",
       "  <thead>\n",
       "    <tr style=\"text-align: right;\">\n",
       "      <th></th>\n",
       "      <th>text</th>\n",
       "    </tr>\n",
       "    <tr>\n",
       "      <th>label</th>\n",
       "      <th></th>\n",
       "    </tr>\n",
       "  </thead>\n",
       "  <tbody>\n",
       "    <tr>\n",
       "      <th>4.0</th>\n",
       "      <td>20160</td>\n",
       "    </tr>\n",
       "    <tr>\n",
       "      <th>4.5</th>\n",
       "      <td>13758</td>\n",
       "    </tr>\n",
       "    <tr>\n",
       "      <th>5.0</th>\n",
       "      <td>105377</td>\n",
       "    </tr>\n",
       "  </tbody>\n",
       "</table>\n",
       "</div>"
      ],
      "text/plain": [
       "         text\n",
       "label        \n",
       "4.0     20160\n",
       "4.5     13758\n",
       "5.0    105377"
      ]
     },
     "execution_count": 234,
     "metadata": {},
     "output_type": "execute_result"
    }
   ],
   "source": [
    "naver.groupby('label').count()"
   ]
  },
  {
   "cell_type": "code",
   "execution_count": 243,
   "id": "d837e1c2-3b94-4fb6-b153-a2b29b81acc0",
   "metadata": {},
   "outputs": [
    {
     "name": "stderr",
     "output_type": "stream",
     "text": [
      "/opt/homebrew/Caskroom/miniforge/base/envs/tf/lib/python3.8/site-packages/pandas/core/frame.py:3607: SettingWithCopyWarning: \n",
      "A value is trying to be set on a copy of a slice from a DataFrame.\n",
      "Try using .loc[row_indexer,col_indexer] = value instead\n",
      "\n",
      "See the caveats in the documentation: https://pandas.pydata.org/pandas-docs/stable/user_guide/indexing.html#returning-a-view-versus-a-copy\n",
      "  self._set_item(key, value)\n"
     ]
    }
   ],
   "source": [
    "naver['text']=naver['text'].str.replace(\"[^ㄱ-ㅎㅏ-ㅣ가-힣 ]\", \"\", regex=True)"
   ]
  },
  {
   "cell_type": "code",
   "execution_count": 245,
   "id": "02448ec2-6c0d-423b-b2d9-cc9df7d57e55",
   "metadata": {},
   "outputs": [
    {
     "name": "stderr",
     "output_type": "stream",
     "text": [
      "/opt/homebrew/Caskroom/miniforge/base/envs/tf/lib/python3.8/site-packages/pandas/core/frame.py:3607: SettingWithCopyWarning: \n",
      "A value is trying to be set on a copy of a slice from a DataFrame.\n",
      "Try using .loc[row_indexer,col_indexer] = value instead\n",
      "\n",
      "See the caveats in the documentation: https://pandas.pydata.org/pandas-docs/stable/user_guide/indexing.html#returning-a-view-versus-a-copy\n",
      "  self._set_item(key, value)\n"
     ]
    }
   ],
   "source": [
    "naver['text']=naver['text'].replace('\\n',' ').replace('ㅋ','').replace('ㅎ','').replace('ㅜ','').replace('ㅠ','')"
   ]
  },
  {
   "cell_type": "code",
   "execution_count": 246,
   "id": "33221502-d4ef-49ea-898e-2a9de466eeb6",
   "metadata": {},
   "outputs": [
    {
     "name": "stderr",
     "output_type": "stream",
     "text": [
      "/opt/homebrew/Caskroom/miniforge/base/envs/tf/lib/python3.8/site-packages/pandas/core/indexing.py:1817: SettingWithCopyWarning: \n",
      "A value is trying to be set on a copy of a slice from a DataFrame.\n",
      "Try using .loc[row_indexer,col_indexer] = value instead\n",
      "\n",
      "See the caveats in the documentation: https://pandas.pydata.org/pandas-docs/stable/user_guide/indexing.html#returning-a-view-versus-a-copy\n",
      "  self._setitem_single_column(loc, value, pi)\n"
     ]
    }
   ],
   "source": [
    "for i in naver.index:\n",
    "    naver.loc[i,'text']=naver.loc[i,'text'].replace('\\n',' ').replace('ㅋ','').replace('ㅎ','').replace('ㅜ','').replace('ㅠ','')"
   ]
  },
  {
   "cell_type": "code",
   "execution_count": 247,
   "id": "cd866df4-54d5-4322-9118-41c558f7fc1f",
   "metadata": {},
   "outputs": [
    {
     "name": "stderr",
     "output_type": "stream",
     "text": [
      "/opt/homebrew/Caskroom/miniforge/base/envs/tf/lib/python3.8/site-packages/pandas/core/generic.py:6610: SettingWithCopyWarning: \n",
      "A value is trying to be set on a copy of a slice from a DataFrame\n",
      "\n",
      "See the caveats in the documentation: https://pandas.pydata.org/pandas-docs/stable/user_guide/indexing.html#returning-a-view-versus-a-copy\n",
      "  return self._update_inplace(result)\n"
     ]
    }
   ],
   "source": [
    "naver['text'].replace('', np.nan, inplace=True)"
   ]
  },
  {
   "cell_type": "code",
   "execution_count": 249,
   "id": "fcedd5f7-75ea-4ca6-882a-fccb6ca9c035",
   "metadata": {},
   "outputs": [
    {
     "name": "stderr",
     "output_type": "stream",
     "text": [
      "/opt/homebrew/Caskroom/miniforge/base/envs/tf/lib/python3.8/site-packages/pandas/util/_decorators.py:311: SettingWithCopyWarning: \n",
      "A value is trying to be set on a copy of a slice from a DataFrame\n",
      "\n",
      "See the caveats in the documentation: https://pandas.pydata.org/pandas-docs/stable/user_guide/indexing.html#returning-a-view-versus-a-copy\n",
      "  return func(*args, **kwargs)\n"
     ]
    }
   ],
   "source": [
    "naver.dropna(inplace=True)"
   ]
  },
  {
   "cell_type": "code",
   "execution_count": 250,
   "id": "1846b99d-b1c5-4a89-8410-b28bd01a0a10",
   "metadata": {},
   "outputs": [
    {
     "data": {
      "text/plain": [
       "text     0\n",
       "label    0\n",
       "dtype: int64"
      ]
     },
     "execution_count": 250,
     "metadata": {},
     "output_type": "execute_result"
    }
   ],
   "source": [
    "naver.isna().sum()"
   ]
  },
  {
   "cell_type": "code",
   "execution_count": 251,
   "id": "828b094c-8b67-4f21-9b29-dfc63b6d5377",
   "metadata": {},
   "outputs": [],
   "source": [
    "naver['label']=naver.label.map({5.0:0,4.0:0,4.5:0})"
   ]
  },
  {
   "cell_type": "code",
   "execution_count": 252,
   "id": "d01ecbb0-66b3-4a00-baea-bbaf3377b419",
   "metadata": {},
   "outputs": [
    {
     "name": "stderr",
     "output_type": "stream",
     "text": [
      "/opt/homebrew/Caskroom/miniforge/base/envs/tf/lib/python3.8/site-packages/pandas/core/frame.py:5034: SettingWithCopyWarning: \n",
      "A value is trying to be set on a copy of a slice from a DataFrame\n",
      "\n",
      "See the caveats in the documentation: https://pandas.pydata.org/pandas-docs/stable/user_guide/indexing.html#returning-a-view-versus-a-copy\n",
      "  return super().rename(\n"
     ]
    }
   ],
   "source": [
    "naver.rename(columns={'text':'리뷰'},inplace=True)"
   ]
  },
  {
   "cell_type": "code",
   "execution_count": 255,
   "id": "68e6edbf-2a10-472e-8cdc-2ca9eee16bf6",
   "metadata": {},
   "outputs": [],
   "source": [
    "review=pd.read_csv('review.csv')"
   ]
  },
  {
   "cell_type": "code",
   "execution_count": 256,
   "id": "37e93ee2-8e19-4755-9902-8a104ce06762",
   "metadata": {},
   "outputs": [
    {
     "data": {
      "text/html": [
       "<div>\n",
       "<style scoped>\n",
       "    .dataframe tbody tr th:only-of-type {\n",
       "        vertical-align: middle;\n",
       "    }\n",
       "\n",
       "    .dataframe tbody tr th {\n",
       "        vertical-align: top;\n",
       "    }\n",
       "\n",
       "    .dataframe thead th {\n",
       "        text-align: right;\n",
       "    }\n",
       "</style>\n",
       "<table border=\"1\" class=\"dataframe\">\n",
       "  <thead>\n",
       "    <tr style=\"text-align: right;\">\n",
       "      <th></th>\n",
       "      <th>리뷰</th>\n",
       "    </tr>\n",
       "    <tr>\n",
       "      <th>label</th>\n",
       "      <th></th>\n",
       "    </tr>\n",
       "  </thead>\n",
       "  <tbody>\n",
       "    <tr>\n",
       "      <th>0</th>\n",
       "      <td>56486</td>\n",
       "    </tr>\n",
       "    <tr>\n",
       "      <th>1</th>\n",
       "      <td>22479</td>\n",
       "    </tr>\n",
       "    <tr>\n",
       "      <th>2</th>\n",
       "      <td>13328</td>\n",
       "    </tr>\n",
       "  </tbody>\n",
       "</table>\n",
       "</div>"
      ],
      "text/plain": [
       "          리뷰\n",
       "label       \n",
       "0      56486\n",
       "1      22479\n",
       "2      13328"
      ]
     },
     "execution_count": 256,
     "metadata": {},
     "output_type": "execute_result"
    }
   ],
   "source": [
    "review.groupby('label').count()"
   ]
  },
  {
   "cell_type": "code",
   "execution_count": 262,
   "id": "c5b96b88-2af7-41d8-b1d0-acd36ace484e",
   "metadata": {},
   "outputs": [],
   "source": [
    "review=review[review.label==1]"
   ]
  },
  {
   "cell_type": "code",
   "execution_count": 263,
   "id": "7e4a70fa-ac3f-4103-909d-e12079e62a53",
   "metadata": {},
   "outputs": [],
   "source": [
    "review=review.append(naver)"
   ]
  },
  {
   "cell_type": "code",
   "execution_count": 264,
   "id": "ec2ab9c6-19b2-4bd1-8552-66cef3248a07",
   "metadata": {},
   "outputs": [
    {
     "data": {
      "text/html": [
       "<div>\n",
       "<style scoped>\n",
       "    .dataframe tbody tr th:only-of-type {\n",
       "        vertical-align: middle;\n",
       "    }\n",
       "\n",
       "    .dataframe tbody tr th {\n",
       "        vertical-align: top;\n",
       "    }\n",
       "\n",
       "    .dataframe thead th {\n",
       "        text-align: right;\n",
       "    }\n",
       "</style>\n",
       "<table border=\"1\" class=\"dataframe\">\n",
       "  <thead>\n",
       "    <tr style=\"text-align: right;\">\n",
       "      <th></th>\n",
       "      <th>리뷰</th>\n",
       "    </tr>\n",
       "    <tr>\n",
       "      <th>label</th>\n",
       "      <th></th>\n",
       "    </tr>\n",
       "  </thead>\n",
       "  <tbody>\n",
       "    <tr>\n",
       "      <th>0</th>\n",
       "      <td>138221</td>\n",
       "    </tr>\n",
       "    <tr>\n",
       "      <th>1</th>\n",
       "      <td>22479</td>\n",
       "    </tr>\n",
       "  </tbody>\n",
       "</table>\n",
       "</div>"
      ],
      "text/plain": [
       "           리뷰\n",
       "label        \n",
       "0      138221\n",
       "1       22479"
      ]
     },
     "execution_count": 264,
     "metadata": {},
     "output_type": "execute_result"
    }
   ],
   "source": [
    "review.groupby('label').count()"
   ]
  },
  {
   "cell_type": "code",
   "execution_count": 265,
   "id": "f6f2b6f9-3e70-4e7a-96a4-03cd34f68d91",
   "metadata": {},
   "outputs": [],
   "source": [
    "txt=review['리뷰']\n",
    "label=review['label']"
   ]
  },
  {
   "cell_type": "code",
   "execution_count": 274,
   "id": "d67505a8-c298-4744-a712-baaa7a629a84",
   "metadata": {},
   "outputs": [],
   "source": [
    "txt=np.array(txt).reshape(-1,1)\n",
    "label=np.array(label).reshape(-1,1)"
   ]
  },
  {
   "cell_type": "code",
   "execution_count": 261,
   "id": "ef83b026-80d8-4c67-93e7-f390b78421a9",
   "metadata": {},
   "outputs": [],
   "source": [
    "from imblearn.under_sampling import RandomUnderSampler"
   ]
  },
  {
   "cell_type": "code",
   "execution_count": 275,
   "id": "127aff28-69c9-4880-b1e5-4b90d8a48023",
   "metadata": {},
   "outputs": [],
   "source": [
    "txt, label= RandomUnderSampler(random_state=0).fit_resample(txt, label)"
   ]
  },
  {
   "cell_type": "code",
   "execution_count": 312,
   "id": "5cb95919-683b-4e79-ab27-24b1968d4b82",
   "metadata": {},
   "outputs": [],
   "source": [
    "naver=pd.DataFrame(txt,label).reset_index().rename(columns={'index':'label',0:'리뷰'})"
   ]
  },
  {
   "cell_type": "code",
   "execution_count": 314,
   "id": "000c1461-d8bb-4f11-9978-3bcb5f13eb08",
   "metadata": {},
   "outputs": [],
   "source": [
    "review=pd.read_csv('review.csv')\n",
    "review=review[(review.label==2)]"
   ]
  },
  {
   "cell_type": "code",
   "execution_count": 318,
   "id": "d58472ed-f9f2-4f22-b455-534280c98bde",
   "metadata": {},
   "outputs": [],
   "source": [
    "review=review.append(naver)"
   ]
  },
  {
   "cell_type": "code",
   "execution_count": 326,
   "id": "d115d308-de83-4413-ad04-493fa6648dfa",
   "metadata": {},
   "outputs": [],
   "source": [
    "checked_sents=[spell_checker.check(i).checked for i in review[review['label']==0]['리뷰']]"
   ]
  },
  {
   "cell_type": "code",
   "execution_count": 333,
   "id": "52cef013-7642-4631-aaf8-3030a8358528",
   "metadata": {
    "tags": []
   },
   "outputs": [
    {
     "name": "stdout",
     "output_type": "stream",
     "text": [
      "['왜 인기 많은지 알 거 같아요 해삼 먹으려고 했는데 해삼은 일찍 가야 있고 나머진 시비 후에도 먹을 수 있어요', '구성비 굳 서빙  불쾌하여  점 감점', '광어 고등어 농어회 포장해서 먹었는데 저렴하고 맛있었어요 사람들도 엄청 많아요', '월 할 때부터 다녔는데 이제 너무 비싸졌지만 정말 사람 많습니다 그래도 맛은 따라올 수가 없죠 ', '맛있네요 사장님도 친절하고 또 올게요', '친절  맛  위생 내용물 실하고 맛있어요', '비싸서 걱정했는데 가격 값을 분명히 합니다 고등어 냄새가 하나도 안 나네요 맛있게 잘 먹고 갑니다', '육지에서 친척들이 내려와서 심사숙고 끝에 예약해서 찾아갔는데 웨이팅도 적당했고 단체 인원이 식사하기에 괜찮았어요 어르신들 입맛이 워낙 까다로웠는데 다들 만족하셔서 안심했어요 다음에도 또 데려가도 될 만큼 여기 인정합니다 중문 맛 집 제주갈치조림', '여기 진짜 맛있었어요 해물만두전골 처음 먹어봤는데 딱새우가 먹기 힘들었지만 나머지는 정말 맛있었어요', '정말 맛있게 잘 먹었습니다 구성도 좋고 가격 대비 이렇게 나와도 되나 싶을 정도로 퀄리티가 굉장히 좋았습니다']\n",
      "0     왜 인기 많은지 알거같아요 해삼 먹으려고 했는데 해삼은 일찍가야 있고 나머진 시이후...\n",
      "1                                  가성비 굳 서빙  불쾌하여  점 감점\n",
      "2              광어고등어농어회 포장해서 먹었는데 저렴하고 맛있었어요 사람들도 엄청많아요\n",
      "3     월 할때부터 다녔는데 이제 너무 비싸졌지만 정말 사람많습니다그래도 맛은 따라올수가 없죠 \n",
      "4                                  맛있네요 사장님도 친절하고 또 올게요\n",
      "5                                친절  맛  위생 내용물 실하고 맛있어요\n",
      "6     비싸서 걱정했는데 가격 값을 분명히 합니다 고등어 냄새가 하나도 안나네요 맛있게 잘...\n",
      "7     육지에서 친척들이 내려와서 심사숙고 끝에 예약해서 찾아갔는데 웨이팅도 적당했고 단체...\n",
      "8     여기 진짜 맛있었어요 해물만두전골 처음 먹어봤는데 딱새우가 먹기 힘들었지만 나머지는...\n",
      "9     정말 맛있게 잘먹었습니다 구성도 좋고 가격대비 이렇게 나와도 되나 싶을정도로 퀄리티...\n",
      "10                                                    굿\n",
      "Name: 리뷰, dtype: object\n"
     ]
    }
   ],
   "source": [
    "print(checked_sents[:10])\n",
    "print(review[review['label']==0].loc[:10,'리뷰'])"
   ]
  },
  {
   "cell_type": "code",
   "execution_count": 325,
   "id": "de28ac2b-92f9-4564-bae2-abf9c397f17e",
   "metadata": {},
   "outputs": [],
   "source": [
    "review.to_csv('re_review.csv',encoding='utf-8',index=False)"
   ]
  },
  {
   "cell_type": "code",
   "execution_count": 141,
   "id": "024f3d20-949c-4d00-8c9b-c772ce9ae261",
   "metadata": {},
   "outputs": [
    {
     "data": {
      "text/html": [
       "<div>\n",
       "<style scoped>\n",
       "    .dataframe tbody tr th:only-of-type {\n",
       "        vertical-align: middle;\n",
       "    }\n",
       "\n",
       "    .dataframe tbody tr th {\n",
       "        vertical-align: top;\n",
       "    }\n",
       "\n",
       "    .dataframe thead th {\n",
       "        text-align: right;\n",
       "    }\n",
       "</style>\n",
       "<table border=\"1\" class=\"dataframe\">\n",
       "  <thead>\n",
       "    <tr style=\"text-align: right;\">\n",
       "      <th></th>\n",
       "      <th>리뷰</th>\n",
       "      <th>label</th>\n",
       "    </tr>\n",
       "  </thead>\n",
       "  <tbody>\n",
       "    <tr>\n",
       "      <th>0</th>\n",
       "      <td>특별했던 육개장입니다</td>\n",
       "      <td>2</td>\n",
       "    </tr>\n",
       "    <tr>\n",
       "      <th>1</th>\n",
       "      <td>해장국은 진짜 아무 맛이 안 나네요 선지도 너무 적고 무조건 고사리 육개장만 드세요...</td>\n",
       "      <td>2</td>\n",
       "    </tr>\n",
       "    <tr>\n",
       "      <th>2</th>\n",
       "      <td>닭개장 같은 맛이에요 한 시간 기다려서 먹을 정도는 아니고 포장하면 분만에 나오니까...</td>\n",
       "      <td>2</td>\n",
       "    </tr>\n",
       "    <tr>\n",
       "      <th>3</th>\n",
       "      <td>제주 고사리에 대한 환상으로 갔다 푹 퍼진 육개장에 실망했습니다 제가 뭘 모르고 갔...</td>\n",
       "      <td>2</td>\n",
       "    </tr>\n",
       "    <tr>\n",
       "      <th>4</th>\n",
       "      <td>해장국은 맛있는데 밑반찬은 아쉬워요</td>\n",
       "      <td>2</td>\n",
       "    </tr>\n",
       "    <tr>\n",
       "      <th>...</th>\n",
       "      <td>...</td>\n",
       "      <td>...</td>\n",
       "    </tr>\n",
       "    <tr>\n",
       "      <th>5380</th>\n",
       "      <td>그냥저냥   별루별류</td>\n",
       "      <td>2</td>\n",
       "    </tr>\n",
       "    <tr>\n",
       "      <th>5381</th>\n",
       "      <td>맛있는데  푸짐하지는 않아요</td>\n",
       "      <td>2</td>\n",
       "    </tr>\n",
       "    <tr>\n",
       "      <th>5382</th>\n",
       "      <td>아치 먹으러 갔어요 딱 거기까지</td>\n",
       "      <td>2</td>\n",
       "    </tr>\n",
       "    <tr>\n",
       "      <th>5383</th>\n",
       "      <td>성게알 미역국을 먹었습니다 첨 먹어본 음식이긴 한데 많이 짜고 맛도 잘 모르겠습니다...</td>\n",
       "      <td>2</td>\n",
       "    </tr>\n",
       "    <tr>\n",
       "      <th>5384</th>\n",
       "      <td>성게미역국은 밍밍  조림만 그나마 먹을만</td>\n",
       "      <td>2</td>\n",
       "    </tr>\n",
       "  </tbody>\n",
       "</table>\n",
       "<p>5385 rows × 2 columns</p>\n",
       "</div>"
      ],
      "text/plain": [
       "                                                     리뷰  label\n",
       "0                                           특별했던 육개장입니다      2\n",
       "1     해장국은 진짜 아무 맛이 안 나네요 선지도 너무 적고 무조건 고사리 육개장만 드세요...      2\n",
       "2     닭개장 같은 맛이에요 한 시간 기다려서 먹을 정도는 아니고 포장하면 분만에 나오니까...      2\n",
       "3     제주 고사리에 대한 환상으로 갔다 푹 퍼진 육개장에 실망했습니다 제가 뭘 모르고 갔...      2\n",
       "4                                   해장국은 맛있는데 밑반찬은 아쉬워요      2\n",
       "...                                                 ...    ...\n",
       "5380                                        그냥저냥   별루별류      2\n",
       "5381                                    맛있는데  푸짐하지는 않아요      2\n",
       "5382                                  아치 먹으러 갔어요 딱 거기까지      2\n",
       "5383  성게알 미역국을 먹었습니다 첨 먹어본 음식이긴 한데 많이 짜고 맛도 잘 모르겠습니다...      2\n",
       "5384                             성게미역국은 밍밍  조림만 그나마 먹을만      2\n",
       "\n",
       "[5385 rows x 2 columns]"
      ]
     },
     "execution_count": 141,
     "metadata": {},
     "output_type": "execute_result"
    }
   ],
   "source": [
    "checked_df=pd.DataFrame(checked_sents,columns=['리뷰'])\n",
    "checked_df['label']=1\n",
    "checked_df3=pd.DataFrame(checked_sents_3,columns=['리뷰'])\n",
    "checked_df3['label']=2\n",
    "checked_df3"
   ]
  },
  {
   "cell_type": "code",
   "execution_count": 143,
   "id": "dff30d87-03b8-40c3-90c4-571781a3bfbe",
   "metadata": {},
   "outputs": [],
   "source": [
    "review=review.append([checked_df,checked_df3])"
   ]
  },
  {
   "cell_type": "code",
   "execution_count": 144,
   "id": "17d2c4c4-86ea-450a-938c-1c0923b949bc",
   "metadata": {},
   "outputs": [
    {
     "data": {
      "text/html": [
       "<div>\n",
       "<style scoped>\n",
       "    .dataframe tbody tr th:only-of-type {\n",
       "        vertical-align: middle;\n",
       "    }\n",
       "\n",
       "    .dataframe tbody tr th {\n",
       "        vertical-align: top;\n",
       "    }\n",
       "\n",
       "    .dataframe thead th {\n",
       "        text-align: right;\n",
       "    }\n",
       "</style>\n",
       "<table border=\"1\" class=\"dataframe\">\n",
       "  <thead>\n",
       "    <tr style=\"text-align: right;\">\n",
       "      <th></th>\n",
       "      <th>리뷰</th>\n",
       "      <th>별점</th>\n",
       "      <th>label</th>\n",
       "    </tr>\n",
       "  </thead>\n",
       "  <tbody>\n",
       "    <tr>\n",
       "      <th>0</th>\n",
       "      <td>가보면 내 맘 알지</td>\n",
       "      <td>5점</td>\n",
       "      <td>0</td>\n",
       "    </tr>\n",
       "    <tr>\n",
       "      <th>1</th>\n",
       "      <td>일주일 동안 흑돼지 3번 먹었는데 여기가 2위로 괜찮았으면 좋은 점   직원 친절도...</td>\n",
       "      <td>3점</td>\n",
       "      <td>2</td>\n",
       "    </tr>\n",
       "    <tr>\n",
       "      <th>2</th>\n",
       "      <td>2번째 방문했어요 ㅎㅎ 고기는 당연히 맛있고 사장님께서 엄청나게 깔끔하신 성격 같아...</td>\n",
       "      <td>5점</td>\n",
       "      <td>0</td>\n",
       "    </tr>\n",
       "    <tr>\n",
       "      <th>3</th>\n",
       "      <td>평점 5점이 아닌 게 이상하다 생각이 드는 식당</td>\n",
       "      <td>5점</td>\n",
       "      <td>0</td>\n",
       "    </tr>\n",
       "    <tr>\n",
       "      <th>4</th>\n",
       "      <td>제주 갈 때마다 늘 가요</td>\n",
       "      <td>5점</td>\n",
       "      <td>0</td>\n",
       "    </tr>\n",
       "    <tr>\n",
       "      <th>...</th>\n",
       "      <td>...</td>\n",
       "      <td>...</td>\n",
       "      <td>...</td>\n",
       "    </tr>\n",
       "    <tr>\n",
       "      <th>5380</th>\n",
       "      <td>그냥저냥   별루별류</td>\n",
       "      <td>NaN</td>\n",
       "      <td>2</td>\n",
       "    </tr>\n",
       "    <tr>\n",
       "      <th>5381</th>\n",
       "      <td>맛있는데  푸짐하지는 않아요</td>\n",
       "      <td>NaN</td>\n",
       "      <td>2</td>\n",
       "    </tr>\n",
       "    <tr>\n",
       "      <th>5382</th>\n",
       "      <td>아치 먹으러 갔어요 딱 거기까지</td>\n",
       "      <td>NaN</td>\n",
       "      <td>2</td>\n",
       "    </tr>\n",
       "    <tr>\n",
       "      <th>5383</th>\n",
       "      <td>성게알 미역국을 먹었습니다 첨 먹어본 음식이긴 한데 많이 짜고 맛도 잘 모르겠습니다...</td>\n",
       "      <td>NaN</td>\n",
       "      <td>2</td>\n",
       "    </tr>\n",
       "    <tr>\n",
       "      <th>5384</th>\n",
       "      <td>성게미역국은 밍밍  조림만 그나마 먹을만</td>\n",
       "      <td>NaN</td>\n",
       "      <td>2</td>\n",
       "    </tr>\n",
       "  </tbody>\n",
       "</table>\n",
       "<p>92321 rows × 3 columns</p>\n",
       "</div>"
      ],
      "text/plain": [
       "                                                     리뷰   별점  label\n",
       "0                                            가보면 내 맘 알지   5점      0\n",
       "1     일주일 동안 흑돼지 3번 먹었는데 여기가 2위로 괜찮았으면 좋은 점   직원 친절도...   3점      2\n",
       "2     2번째 방문했어요 ㅎㅎ 고기는 당연히 맛있고 사장님께서 엄청나게 깔끔하신 성격 같아...   5점      0\n",
       "3                            평점 5점이 아닌 게 이상하다 생각이 드는 식당   5점      0\n",
       "4                                         제주 갈 때마다 늘 가요   5점      0\n",
       "...                                                 ...  ...    ...\n",
       "5380                                        그냥저냥   별루별류  NaN      2\n",
       "5381                                    맛있는데  푸짐하지는 않아요  NaN      2\n",
       "5382                                  아치 먹으러 갔어요 딱 거기까지  NaN      2\n",
       "5383  성게알 미역국을 먹었습니다 첨 먹어본 음식이긴 한데 많이 짜고 맛도 잘 모르겠습니다...  NaN      2\n",
       "5384                             성게미역국은 밍밍  조림만 그나마 먹을만  NaN      2\n",
       "\n",
       "[92321 rows x 3 columns]"
      ]
     },
     "execution_count": 144,
     "metadata": {},
     "output_type": "execute_result"
    }
   ],
   "source": [
    "review"
   ]
  },
  {
   "cell_type": "code",
   "execution_count": 145,
   "id": "5ccece3a-e003-4a24-b88a-833cfd9ea37e",
   "metadata": {},
   "outputs": [],
   "source": [
    "review.to_csv('review.csv',index=False,encoding='utf-8')"
   ]
  },
  {
   "cell_type": "code",
   "execution_count": 364,
   "id": "07584e51-3e78-470e-ad5e-21deaaca4022",
   "metadata": {},
   "outputs": [],
   "source": [
    "rereview=pd.read_csv('re_re_review.csv')"
   ]
  },
  {
   "cell_type": "code",
   "execution_count": 366,
   "id": "34307c25-a739-4b8f-820b-ed22e52ebcc0",
   "metadata": {},
   "outputs": [],
   "source": [
    "checked_sents=[spell_checker.check(i).checked for i in rereview[rereview.label==0]['리뷰']]"
   ]
  },
  {
   "cell_type": "code",
   "execution_count": 367,
   "id": "af58c8fb-4a1f-4a23-a0d8-1be0f1c4eeca",
   "metadata": {},
   "outputs": [],
   "source": [
    "rereview=rereview[(rereview.label==1)|(rereview.label==2)]\n",
    "for i in checked_sents:\n",
    "    rereview=rereview.append([{'리뷰':i,'label':0}])\n"
   ]
  },
  {
   "cell_type": "code",
   "execution_count": 368,
   "id": "895c5470-a819-49ac-8701-e37f215e6295",
   "metadata": {},
   "outputs": [],
   "source": [
    "rereview=rereview.reset_index().drop('index',axis=1)"
   ]
  },
  {
   "cell_type": "code",
   "execution_count": 370,
   "id": "9886d684-947f-4d11-afb8-3f8ba405b3a8",
   "metadata": {},
   "outputs": [],
   "source": [
    "rereview.to_csv('re_re_review.csv',index=False,encoding='utf-8')"
   ]
  }
 ],
 "metadata": {
  "kernelspec": {
   "display_name": "Python 3 (ipykernel)",
   "language": "python",
   "name": "python3"
  },
  "language_info": {
   "codemirror_mode": {
    "name": "ipython",
    "version": 3
   },
   "file_extension": ".py",
   "mimetype": "text/x-python",
   "name": "python",
   "nbconvert_exporter": "python",
   "pygments_lexer": "ipython3",
   "version": "3.8.6"
  }
 },
 "nbformat": 4,
 "nbformat_minor": 5
}
