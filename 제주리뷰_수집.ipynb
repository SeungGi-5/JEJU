{
 "cells": [
  {
   "cell_type": "code",
   "execution_count": 257,
   "id": "36709af6-fc28-4d9c-a6a6-13fdaf9e4494",
   "metadata": {},
   "outputs": [],
   "source": [
    "import json\n",
    "from bs4 import BeautifulSoup\n",
    "import requests\n",
    "import urllib\n",
    "import time\n",
    "from selenium import webdriver\n",
    "from selenium.webdriver.support.ui import WebDriverWait\n",
    "import re\n",
    "import pandas as pd\n",
    "import numpy as np\n",
    "import seaborn as sns\n",
    "import matplotlib.pyplot as plt\n",
    "from selenium.webdriver.common.keys import Keys\n",
    "from selenium.webdriver import ActionChains"
   ]
  },
  {
   "cell_type": "code",
   "execution_count": 572,
   "id": "53bc22d5-0cd6-4ff4-b3bf-c36b2002ca40",
   "metadata": {},
   "outputs": [],
   "source": [
    "agent='Mozilla/5.0 (Macintosh; Intel Mac OS X 10_15_7) AppleWebKit/537.36 (KHTML, like Gecko) Chrome/92.0.4515.131 Safari/537.36'\n",
    "header_info={'user-agent':agent,'referer':None}"
   ]
  },
  {
   "cell_type": "code",
   "execution_count": 579,
   "id": "ea519fb9-d5ba-479d-aeb0-75c028403a63",
   "metadata": {},
   "outputs": [],
   "source": [
    "driver = webdriver.Chrome()\n",
    "base_url='https://pcmap.place.naver.com'"
   ]
  },
  {
   "cell_type": "code",
   "execution_count": 476,
   "id": "ff1ead4b-1fb6-461e-8b3a-70c64d941431",
   "metadata": {},
   "outputs": [],
   "source": [
    "driver.get('https://map.naver.com/v5/search/%EC%A0%9C%EC%A3%BC%ED%8A%B9%EB%B3%84%EC%9E%90%EC%B9%98%EB%8F%84%20%ED%95%9C%EC%8B%9D?c=14030736.5496444,3952164.0916793,8,0,0,0,dh')"
   ]
  },
  {
   "cell_type": "code",
   "execution_count": 477,
   "id": "be1f4f18-a0da-4e49-b0d0-92fdfdc791b0",
   "metadata": {},
   "outputs": [
    {
     "name": "stderr",
     "output_type": "stream",
     "text": [
      "/var/folders/_g/kl94k0td3h1gy80byz1z3wbc0000gn/T/ipykernel_27914/714513396.py:2: DeprecationWarning: use driver.switch_to.frame instead\n",
      "  driver.switch_to_frame(driver.find_element_by_id('searchIframe'))\n",
      "/var/folders/_g/kl94k0td3h1gy80byz1z3wbc0000gn/T/ipykernel_27914/714513396.py:16: DeprecationWarning: use driver.switch_to.frame instead\n",
      "  driver.switch_to_frame(driver.find_element_by_id('entryIframe'))\n",
      "/var/folders/_g/kl94k0td3h1gy80byz1z3wbc0000gn/T/ipykernel_27914/714513396.py:39: DeprecationWarning: use driver.switch_to.frame instead\n",
      "  driver.switch_to_frame(driver.find_element_by_id('searchIframe'))\n"
     ]
    }
   ],
   "source": [
    "url_list=[]\n",
    "driver.switch_to_frame(driver.find_element_by_id('searchIframe'))\n",
    "bs=BeautifulSoup(driver.page_source,'html.parser')\n",
    "for i in range(len(bs.select('#app-root > div > div:nth-child(2) > div:nth-child(2) > a'))-1):\n",
    "    while bs.select('#_pcmap_list_scroll_container > ul > .lazyload-placeholder'):\n",
    "        some_tag=driver.find_element_by_css_selector('#_pcmap_list_scroll_container > ul > .lazyload-placeholder')\n",
    "        action=ActionChains(driver)\n",
    "        action.move_to_element(some_tag).perform()\n",
    "        bs=BeautifulSoup(driver.page_source,'html.parser')\n",
    "    for y in range(1,len(bs.select('#_pcmap_list_scroll_container > ul > li'))+1):\n",
    "        cont=False\n",
    "        a=WebDriverWait(driver,10).until(lambda x:x.find_element_by_css_selector('#_pcmap_list_scroll_container > ul > li:nth-child(%s) > div > a'%y))\n",
    "        driver.execute_script(\"arguments[0].click();\",a)\n",
    "        time.sleep(1)\n",
    "        driver.switch_to.default_content()\n",
    "        driver.switch_to_frame(driver.find_element_by_id('entryIframe'))\n",
    "        \n",
    "        some_tag=driver.find_element_by_css_selector('#app-root > div > footer')\n",
    "        action=ActionChains(driver)\n",
    "        action.move_to_element(some_tag).perform()\n",
    "        time.sleep(1.5)\n",
    "        if not BeautifulSoup(driver.page_source,'html.parser').select('div[data-nclicks-area-code=\"rrr\"]'):\n",
    "            action.move_to_element(some_tag).perform()\n",
    "            time.sleep(1.5)\n",
    "        for v in range(3):\n",
    "            bs=BeautifulSoup(driver.page_source,'html.parser')\n",
    "            if not bs.select('div[data-nclicks-area-code=\"rrr\"] > div:nth-child(3) > a') and v<2:\n",
    "                continue\n",
    "            elif not bs.select('div[data-nclicks-area-code=\"rrr\"] > div:nth-child(3) > a') and v==2:\n",
    "                cont=True\n",
    "            else:\n",
    "                break\n",
    "        if cont:\n",
    "            driver.switch_to.default_content()\n",
    "            driver.switch_to_frame(driver.find_element_by_id('searchIframe'))\n",
    "            continue\n",
    "        url_list.append(base_url+bs.select('div[data-nclicks-area-code=\"rrr\"] > div:nth-child(3) > a[href]')[0].attrs['href'])\n",
    "        driver.switch_to.default_content()\n",
    "        driver.switch_to_frame(driver.find_element_by_id('searchIframe'))\n",
    "    a=WebDriverWait(driver,10).until(lambda x:x.find_element_by_css_selector('#app-root > div > div:nth-child(2) > div:nth-child(2) > a:nth-last-child(1)'))\n",
    "    driver.execute_script(\"arguments[0].click();\",a)\n",
    "    bs=BeautifulSoup(driver.page_source,'html.parser')"
   ]
  },
  {
   "cell_type": "code",
   "execution_count": 481,
   "id": "cd3a53bb-3551-42a1-81b4-e9afcf4186e0",
   "metadata": {},
   "outputs": [],
   "source": [
    "driver.switch_to.default_content()"
   ]
  },
  {
   "cell_type": "code",
   "execution_count": 568,
   "id": "ebd1e1ec-bd0d-4a91-abf5-b3ebf0b33b66",
   "metadata": {
    "tags": []
   },
   "outputs": [
    {
     "data": {
      "text/plain": [
       "300"
      ]
     },
     "execution_count": 568,
     "metadata": {},
     "output_type": "execute_result"
    }
   ],
   "source": [
    "len(url_list)"
   ]
  },
  {
   "cell_type": "code",
   "execution_count": 567,
   "id": "5b8c23e6-1a8b-485e-b198-731d8cb7ea91",
   "metadata": {},
   "outputs": [],
   "source": [
    "with open('기타/url_list.text','w',encoding='utf-8') as f:\n",
    "    for i in url_list:\n",
    "        f.write(i+'\\n')"
   ]
  },
  {
   "cell_type": "code",
   "execution_count": 571,
   "id": "e1140f09-f348-4f76-925d-692989f218e5",
   "metadata": {},
   "outputs": [
    {
     "data": {
      "text/plain": [
       "'https://pcmap.place.naver.com/restaurant/11866447/review/visitor?reviewItem=0&theme=allTypes&isPhotoUsed=false&order=NaN'"
      ]
     },
     "execution_count": 571,
     "metadata": {},
     "output_type": "execute_result"
    }
   ],
   "source": [
    "url_list[1]"
   ]
  },
  {
   "cell_type": "code",
   "execution_count": 527,
   "id": "846cb48f-a827-45d4-ace4-cc55c7c2fcdb",
   "metadata": {},
   "outputs": [
    {
     "data": {
      "text/plain": [
       "'5'"
      ]
     },
     "execution_count": 527,
     "metadata": {},
     "output_type": "execute_result"
    }
   ],
   "source": [
    "#bs=BeautifulSoup(driver.page_source,'html.parser')\n",
    "bs.select('div[data-nclicks-area-code=\"rrv\"] > .place_section > div > ul li')[0].select('div > div:nth-child(2) > div > span:nth-child(2)')[0].text\n",
    "bs.select('div[data-nclicks-area-code=\"rrv\"] > .place_section > div > ul li > div')[0].select('div > div:nth-child(3)')[0].text"
   ]
  },
  {
   "cell_type": "code",
   "execution_count": 732,
   "id": "3a880539-44a3-431c-adaa-03844cf03ba9",
   "metadata": {},
   "outputs": [],
   "source": [
    "naver_review=[]\n",
    "for i in url_list[150:]:\n",
    "    driver.get(i)\n",
    "    while True:\n",
    "        bs=BeautifulSoup(driver.page_source,'html.parser')\n",
    "        if bs.select('div[data-nclicks-area-code=\"rrv\"] > .place_section > div >a[target=\"_self\"]'):\n",
    "            a=WebDriverWait(driver,10).until(lambda x:x.find_element_by_css_selector('div[data-nclicks-area-code=\"rrv\"] > .place_section > div >a[target=\"_self\"]'))\n",
    "            driver.execute_script(\"arguments[0].click();\",a)\n",
    "            driver.execute_script(\"window.scrollTo(0, document.body.scrollHeight);\")\n",
    "            time.sleep(0.5)\n",
    "        else:\n",
    "            bs=BeautifulSoup(driver.page_source,'html.parser')\n",
    "            for i in bs.select('div[data-nclicks-area-code=\"rrv\"] > .place_section > div > ul li > div'):\n",
    "                if not i.select('div > div:nth-last-child(1) > a'):\n",
    "                    continue\n",
    "                if 'style' not in i.select('div > div:nth-last-child(1) > a')[-1].attrs:\n",
    "                    continue\n",
    "                if not i.select('div > div:nth-child(2)')[1].select('a'):\n",
    "                    score=i.select('div > div:nth-child(2) > div > span:nth-child(2)')[0].text\n",
    "                    review=i.select('div > div:nth-last-child(1) > a > span')[0].text\n",
    "                    naver_review.append({score:review})\n",
    "                else:\n",
    "                    score=i.select('div > div:nth-child(3) > div > span:nth-child(2)')[0].text\n",
    "                    review=i.select('div > div:nth-last-child(1) > a > span')[0].text\n",
    "                    naver_review.append({score:review})\n",
    "            break"
   ]
  },
  {
   "cell_type": "code",
   "execution_count": 729,
   "id": "100be696-1618-4291-bf48-49cabbdcbeed",
   "metadata": {},
   "outputs": [],
   "source": [
    "bs=BeautifulSoup(driver.page_source,'html.parser')\n",
    "for i in bs.select('div[data-nclicks-area-code=\"rrv\"] > .place_section > div > ul li > div'):\n",
    "    if not i.select('div > div:nth-last-child(1) > a'):\n",
    "        continue\n",
    "    if 'style' not in i.select('div > div:nth-last-child(1) > a')[-1].attrs:\n",
    "        continue\n",
    "    if not i.select('div > div:nth-child(2)')[1].select('a'):\n",
    "        score=i.select('div > div:nth-child(2) > div > span:nth-child(2)')[0].text\n",
    "        review=i.select('div > div:nth-last-child(1) > a > span')[0].text\n",
    "        naver_review.append({score:review})\n",
    "    else:\n",
    "        score=i.select('div > div:nth-child(3) > div > span:nth-child(2)')[0].text\n",
    "        review=i.select('div > div:nth-last-child(1) > a > span')[0].text\n",
    "        naver_review.append({score:review})"
   ]
  },
  {
   "cell_type": "code",
   "execution_count": 731,
   "id": "61b7cb3b-3712-4f5b-bf03-499e60c2875e",
   "metadata": {},
   "outputs": [
    {
     "name": "stdout",
     "output_type": "stream",
     "text": [
      "149 https://pcmap.place.naver.com/restaurant/1131393322/review/visitor?reviewItem=0&theme=allTypes&isPhotoUsed=false&order=NaN\n"
     ]
    }
   ],
   "source": [
    "for i,v in enumerate(url_list):\n",
    "    if v == 'https://pcmap.place.naver.com/restaurant/1131393322/review/visitor?reviewItem=0&theme=allTypes&isPhotoUsed=false&order=NaN':\n",
    "        print(i,v)"
   ]
  },
  {
   "cell_type": "code",
   "execution_count": 725,
   "id": "ca19512c-d0a6-48e3-b0db-2ffde3a4e6d2",
   "metadata": {},
   "outputs": [
    {
     "data": {
      "text/plain": [
       "'https://pcmap.place.naver.com/restaurant/12830391/review/visitor?reviewItem=0&theme=allTypes&isPhotoUsed=false&order=NaN'"
      ]
     },
     "execution_count": 725,
     "metadata": {},
     "output_type": "execute_result"
    }
   ],
   "source": [
    "url_list[126]"
   ]
  },
  {
   "cell_type": "code",
   "execution_count": 733,
   "id": "a082d446-ba68-487d-9969-c98c83bd9f19",
   "metadata": {},
   "outputs": [
    {
     "data": {
      "text/plain": [
       "61260"
      ]
     },
     "execution_count": 733,
     "metadata": {},
     "output_type": "execute_result"
    }
   ],
   "source": [
    "len(naver_review)"
   ]
  },
  {
   "cell_type": "code",
   "execution_count": 735,
   "id": "ef934551-4221-4c28-aeeb-44a150df9833",
   "metadata": {},
   "outputs": [],
   "source": [
    "naver_backup=naver_review"
   ]
  },
  {
   "cell_type": "code",
   "execution_count": 736,
   "id": "2c1d52d7-ff4a-4017-9186-9a539748761c",
   "metadata": {},
   "outputs": [
    {
     "data": {
      "text/plain": [
       "61260"
      ]
     },
     "execution_count": 736,
     "metadata": {},
     "output_type": "execute_result"
    }
   ],
   "source": [
    "len(naver_backup)"
   ]
  },
  {
   "cell_type": "code",
   "execution_count": 737,
   "id": "37166c8f-d6ec-47f4-bb13-65c8d0b4f72c",
   "metadata": {},
   "outputs": [],
   "source": [
    "for i in naver_backup:\n",
    "    naver_df=naver_df.append(pd.DataFrame({'text':i.values(),'label':i.keys()}))"
   ]
  },
  {
   "cell_type": "code",
   "execution_count": 741,
   "id": "f33f56a1-d046-4227-a4df-f945d4232562",
   "metadata": {},
   "outputs": [
    {
     "data": {
      "text/html": [
       "<div>\n",
       "<style scoped>\n",
       "    .dataframe tbody tr th:only-of-type {\n",
       "        vertical-align: middle;\n",
       "    }\n",
       "\n",
       "    .dataframe tbody tr th {\n",
       "        vertical-align: top;\n",
       "    }\n",
       "\n",
       "    .dataframe thead th {\n",
       "        text-align: right;\n",
       "    }\n",
       "</style>\n",
       "<table border=\"1\" class=\"dataframe\">\n",
       "  <thead>\n",
       "    <tr style=\"text-align: right;\">\n",
       "      <th></th>\n",
       "      <th>text</th>\n",
       "    </tr>\n",
       "    <tr>\n",
       "      <th>label</th>\n",
       "      <th></th>\n",
       "    </tr>\n",
       "  </thead>\n",
       "  <tbody>\n",
       "    <tr>\n",
       "      <th>0.5</th>\n",
       "      <td>3176</td>\n",
       "    </tr>\n",
       "    <tr>\n",
       "      <th>1</th>\n",
       "      <td>1849</td>\n",
       "    </tr>\n",
       "    <tr>\n",
       "      <th>1.5</th>\n",
       "      <td>733</td>\n",
       "    </tr>\n",
       "    <tr>\n",
       "      <th>2</th>\n",
       "      <td>1801</td>\n",
       "    </tr>\n",
       "    <tr>\n",
       "      <th>2.5</th>\n",
       "      <td>1491</td>\n",
       "    </tr>\n",
       "    <tr>\n",
       "      <th>3</th>\n",
       "      <td>5810</td>\n",
       "    </tr>\n",
       "    <tr>\n",
       "      <th>3.5</th>\n",
       "      <td>4577</td>\n",
       "    </tr>\n",
       "    <tr>\n",
       "      <th>4</th>\n",
       "      <td>20160</td>\n",
       "    </tr>\n",
       "    <tr>\n",
       "      <th>4.5</th>\n",
       "      <td>13758</td>\n",
       "    </tr>\n",
       "    <tr>\n",
       "      <th>5</th>\n",
       "      <td>105377</td>\n",
       "    </tr>\n",
       "  </tbody>\n",
       "</table>\n",
       "</div>"
      ],
      "text/plain": [
       "         text\n",
       "label        \n",
       "0.5      3176\n",
       "1        1849\n",
       "1.5       733\n",
       "2        1801\n",
       "2.5      1491\n",
       "3        5810\n",
       "3.5      4577\n",
       "4       20160\n",
       "4.5     13758\n",
       "5      105377"
      ]
     },
     "execution_count": 741,
     "metadata": {},
     "output_type": "execute_result"
    }
   ],
   "source": [
    "naver_df.groupby('label').count()"
   ]
  },
  {
   "cell_type": "code",
   "execution_count": 739,
   "id": "f962f7d9-fd31-4de1-8a6a-61d97ff6a5e7",
   "metadata": {},
   "outputs": [],
   "source": [
    "naver_df.to_csv('기타/naver_review.csv',encoding='utf-8',index=False)"
   ]
  },
  {
   "cell_type": "code",
   "execution_count": 740,
   "id": "a99d4dfd-b7af-4d7e-8164-630e6a4878ca",
   "metadata": {},
   "outputs": [
    {
     "data": {
      "text/html": [
       "<div>\n",
       "<style scoped>\n",
       "    .dataframe tbody tr th:only-of-type {\n",
       "        vertical-align: middle;\n",
       "    }\n",
       "\n",
       "    .dataframe tbody tr th {\n",
       "        vertical-align: top;\n",
       "    }\n",
       "\n",
       "    .dataframe thead th {\n",
       "        text-align: right;\n",
       "    }\n",
       "</style>\n",
       "<table border=\"1\" class=\"dataframe\">\n",
       "  <thead>\n",
       "    <tr style=\"text-align: right;\">\n",
       "      <th></th>\n",
       "      <th>text</th>\n",
       "      <th>label</th>\n",
       "    </tr>\n",
       "  </thead>\n",
       "  <tbody>\n",
       "    <tr>\n",
       "      <th>0</th>\n",
       "      <td>왜? 맞집일까요?\\n빈대떡은 타고 기름이..넘쳐나고\\n내가 왜  왔을까요?</td>\n",
       "      <td>0.5</td>\n",
       "    </tr>\n",
       "    <tr>\n",
       "      <th>1</th>\n",
       "      <td>친절과 위생은 ㅎㅎ.. 그치만 맛있어요</td>\n",
       "      <td>5.0</td>\n",
       "    </tr>\n",
       "    <tr>\n",
       "      <th>2</th>\n",
       "      <td>늘 맛있는 곳</td>\n",
       "      <td>5.0</td>\n",
       "    </tr>\n",
       "    <tr>\n",
       "      <th>3</th>\n",
       "      <td>별 다섯개주기엔 대기가 넘 길어요 이정도면 확장하셔요~~~ 포장하면 호딱들고갈수있음...</td>\n",
       "      <td>4.0</td>\n",
       "    </tr>\n",
       "    <tr>\n",
       "      <th>4</th>\n",
       "      <td>소문대로 맛나요</td>\n",
       "      <td>5.0</td>\n",
       "    </tr>\n",
       "    <tr>\n",
       "      <th>...</th>\n",
       "      <td>...</td>\n",
       "      <td>...</td>\n",
       "    </tr>\n",
       "    <tr>\n",
       "      <th>158727</th>\n",
       "      <td>제주하면 뭐다 ? 갈치조림 ~~~~🧡 서비스도 넉넉해서 배터져죽을뻔했어요 ㅠㅠㅠ 담...</td>\n",
       "      <td>5.0</td>\n",
       "    </tr>\n",
       "    <tr>\n",
       "      <th>158728</th>\n",
       "      <td>별한개도 아깝습니다. 처음으로 리뷰쓸려고 영수증 리뷰에 가입했습니다.해물뚝배기 먹었...</td>\n",
       "      <td>1.0</td>\n",
       "    </tr>\n",
       "    <tr>\n",
       "      <th>158729</th>\n",
       "      <td>성게미역국은 밍밍 \\n조림만 그나마 먹을만</td>\n",
       "      <td>3.0</td>\n",
       "    </tr>\n",
       "    <tr>\n",
       "      <th>158730</th>\n",
       "      <td>전복해물뚝배기 먹었는데\\n가격은 15,000원 대비\\n그냥저냥 먹을만하다</td>\n",
       "      <td>4.0</td>\n",
       "    </tr>\n",
       "    <tr>\n",
       "      <th>158731</th>\n",
       "      <td>비린내 하나도 못 느꼈고 반찬들도 맛있게 먹었어요 직원분들도 친절하세요! 우도 땅콩...</td>\n",
       "      <td>4.0</td>\n",
       "    </tr>\n",
       "  </tbody>\n",
       "</table>\n",
       "<p>158732 rows × 2 columns</p>\n",
       "</div>"
      ],
      "text/plain": [
       "                                                     text  label\n",
       "0               왜? 맞집일까요?\\n빈대떡은 타고 기름이..넘쳐나고\\n내가 왜  왔을까요?    0.5\n",
       "1                                   친절과 위생은 ㅎㅎ.. 그치만 맛있어요    5.0\n",
       "2                                                 늘 맛있는 곳    5.0\n",
       "3       별 다섯개주기엔 대기가 넘 길어요 이정도면 확장하셔요~~~ 포장하면 호딱들고갈수있음...    4.0\n",
       "4                                                소문대로 맛나요    5.0\n",
       "...                                                   ...    ...\n",
       "158727  제주하면 뭐다 ? 갈치조림 ~~~~🧡 서비스도 넉넉해서 배터져죽을뻔했어요 ㅠㅠㅠ 담...    5.0\n",
       "158728  별한개도 아깝습니다. 처음으로 리뷰쓸려고 영수증 리뷰에 가입했습니다.해물뚝배기 먹었...    1.0\n",
       "158729                            성게미역국은 밍밍 \\n조림만 그나마 먹을만    3.0\n",
       "158730           전복해물뚝배기 먹었는데\\n가격은 15,000원 대비\\n그냥저냥 먹을만하다    4.0\n",
       "158731  비린내 하나도 못 느꼈고 반찬들도 맛있게 먹었어요 직원분들도 친절하세요! 우도 땅콩...    4.0\n",
       "\n",
       "[158732 rows x 2 columns]"
      ]
     },
     "execution_count": 740,
     "metadata": {},
     "output_type": "execute_result"
    }
   ],
   "source": [
    "pd.read_csv('기타/naver_review.csv')"
   ]
  },
  {
   "cell_type": "markdown",
   "id": "71616ab0-26a4-4c23-a09f-d9a505c4d795",
   "metadata": {},
   "source": [
    "# Google 지도"
   ]
  },
  {
   "cell_type": "code",
   "execution_count": 2,
   "id": "1a9c6382-bebc-495d-aaae-5f2900a26f5f",
   "metadata": {},
   "outputs": [],
   "source": [
    "driver = webdriver.Chrome()"
   ]
  },
  {
   "cell_type": "code",
   "execution_count": 3,
   "id": "474490d6-c86c-44a7-ba58-a843ba5ea422",
   "metadata": {},
   "outputs": [],
   "source": [
    "driver.get('https://www.google.co.kr/maps')"
   ]
  },
  {
   "cell_type": "code",
   "execution_count": 4,
   "id": "07c8041e-af13-46fd-a384-c2a26a6cea9d",
   "metadata": {},
   "outputs": [],
   "source": [
    "elem = driver.find_element_by_name(\"q\")\n",
    "elem.send_keys('제주특별자치도 한식')\n",
    "elem.send_keys(Keys.RETURN)"
   ]
  },
  {
   "cell_type": "code",
   "execution_count": 7,
   "id": "7f6c6358-8686-487f-9a9a-9484280df6a1",
   "metadata": {},
   "outputs": [
    {
     "name": "stdout",
     "output_type": "stream",
     "text": [
      "21\n",
      "42\n",
      "63\n",
      "84\n",
      "105\n",
      "126\n",
      "147\n",
      "168\n",
      "189\n",
      "210\n",
      "231\n",
      "252\n",
      "273\n",
      "294\n",
      "315\n",
      "336\n",
      "357\n",
      "378\n",
      "399\n",
      "420\n",
      "440\n",
      "452\n"
     ]
    }
   ],
   "source": [
    "url_list=[]\n",
    "c=1\n",
    "while True:\n",
    "    bs=BeautifulSoup(driver.page_source,'html.parser')\n",
    "    if len(bs.select('div.section-scrollbox > div[style]'))==1:\n",
    "        some_tag = driver.find_element_by_css_selector('div[jsan=\"t-WPtQSFf6msE,7.wo1ice-loading,7.noprint\"]')\n",
    "        action=ActionChains(driver)\n",
    "        action.move_to_element(some_tag).perform()\n",
    "        time.sleep(1)\n",
    "    else:\n",
    "        if not bs.select('div.section-scrollbox > div[style]')[2].attrs['style']=='display: none;':\n",
    "            some_tag = driver.find_element_by_css_selector('div[jsan=\"t-WPtQSFf6msE,7.wo1ice-loading,7.noprint\"]')\n",
    "            action=ActionChains(driver)\n",
    "            action.move_to_element(some_tag).perform()\n",
    "            time.sleep(1)\n",
    "        else:\n",
    "            for i in bs.select('.section-layout > div > div > a'):\n",
    "                url_list.append(i.attrs['href'])\n",
    "            print(len(url_list))\n",
    "            if not 'disabled' in bs.select('button[aria-label=\"다음 페이지\"]')[0].attrs:\n",
    "                driver.find_element_by_css_selector('button[aria-label=\"다음 페이지\"]').click()\n",
    "                time.sleep(2)\n",
    "            else:\n",
    "                break"
   ]
  },
  {
   "cell_type": "code",
   "execution_count": 25,
   "id": "2742e295-38d5-456f-8bd8-08ee32b0080a",
   "metadata": {},
   "outputs": [
    {
     "data": {
      "text/plain": [
       "429"
      ]
     },
     "execution_count": 25,
     "metadata": {},
     "output_type": "execute_result"
    }
   ],
   "source": [
    "len(url_list)"
   ]
  },
  {
   "cell_type": "code",
   "execution_count": 9,
   "id": "f57a9432-263e-45de-9c8d-e9bf8e896fad",
   "metadata": {},
   "outputs": [
    {
     "data": {
      "text/plain": [
       "433"
      ]
     },
     "execution_count": 9,
     "metadata": {},
     "output_type": "execute_result"
    }
   ],
   "source": [
    "len(list(set(url_list)))"
   ]
  },
  {
   "cell_type": "code",
   "execution_count": 10,
   "id": "41e78141-f01f-4ceb-a73a-25edb1a5797f",
   "metadata": {},
   "outputs": [],
   "source": [
    "url_list=list(set(url_list))"
   ]
  },
  {
   "cell_type": "code",
   "execution_count": 17,
   "id": "1cec65aa-aa0e-464d-b84b-64c6f98ecc46",
   "metadata": {},
   "outputs": [
    {
     "name": "stdout",
     "output_type": "stream",
     "text": [
      "[401]\n"
     ]
    }
   ],
   "source": [
    "drop=[]\n",
    "list_=[\"https://www.google.co.kr/maps/place/%EC%97%90%EC%BD%94%EB%9E%9C%EB%93%9C/data=!4m5!3m4!1s0x350d033bc16446f1:0x8da89d22d276c267!8m2!3d33.4555296!4d126.6681873?authuser=0&hl=ko&rclk=1\",\n",
    "\"https://www.google.co.kr/maps/place/%ED%95%B4%EB%B9%84%EC%B9%98%EB%A6%AC%EC%A1%B0%ED%8A%B8/data=!4m5!3m4!1s0x350d0ecadc9a2b2f:0x5a8eff266c74b0fa!8m2!3d33.3231785!4d126.8445353?authuser=0&hl=ko&rclk=1\",\n",
    "\"https://www.google.co.kr/maps/place/%EC%83%9D%EA%B0%81%ED%95%98%EB%8A%94%EC%A0%95%EC%9B%90/data=!4m5!3m4!1s0x350c67825239f5d9:0x24a366902b85db5f!8m2!3d33.325925!4d126.255446?authuser=0&hl=ko&rclk=1\",\n",
    "\"https://www.google.co.kr/maps/place/%ED%95%9C%EB%9D%BC%EC%88%98%EB%AA%A9%EC%9B%90/data=!4m5!3m4!1s0x350cfbb3de46a5c1:0x9ee5737ec8ae8a22!8m2!3d33.4700463!4d126.4850147?authuser=0&hl=ko&rclk=1\"]\n",
    "for i,v in enumerate(url_list):\n",
    "    if  v in list_:\n",
    "        drop.append(i)\n",
    "print(drop)"
   ]
  },
  {
   "cell_type": "code",
   "execution_count": 18,
   "id": "3bd66bc2-979c-4b25-8319-2e055917b91e",
   "metadata": {},
   "outputs": [],
   "source": [
    "del url_list[401]"
   ]
  },
  {
   "cell_type": "code",
   "execution_count": 26,
   "id": "a7e1479c-24db-43e7-913f-d000d1eeaa21",
   "metadata": {},
   "outputs": [
    {
     "data": {
      "text/plain": [
       "429"
      ]
     },
     "execution_count": 26,
     "metadata": {},
     "output_type": "execute_result"
    }
   ],
   "source": [
    "len(url_list)"
   ]
  },
  {
   "cell_type": "code",
   "execution_count": 142,
   "id": "53002bda-4aec-4df5-a998-80348091bb6e",
   "metadata": {},
   "outputs": [],
   "source": [
    "driver.get(url_list[32])"
   ]
  },
  {
   "cell_type": "code",
   "execution_count": 20,
   "id": "ce53f11e-7541-49e2-ace7-84b1ebff8283",
   "metadata": {},
   "outputs": [],
   "source": [
    "google=[]\n",
    "count=0\n",
    "for v,i in enumerate(url_list[428:]):\n",
    "    count+=1\n",
    "    driver.get(i)\n",
    "    time.sleep(2)\n",
    "    bs=BeautifulSoup(driver.page_source,'html.parser')\n",
    "    if not bs.select('.ODSEW-ShBeI'):\n",
    "        continue\n",
    "    else:\n",
    "        if bs.select('button[class=\"BgrMEd BgrMEd-text\"]'):\n",
    "            c=0\n",
    "            a=WebDriverWait(driver, 3).until(lambda x:x.find_element_by_css_selector('button[class=\"BgrMEd BgrMEd-text\"]'))\n",
    "            driver.execute_script(\"arguments[0].click();\",a)\n",
    "            time.sleep(1)\n",
    "            while True:\n",
    "                bs=BeautifulSoup(driver.page_source,'html.parser')\n",
    "                if bs.select('.section-scrollbox > .wo1ice-loading'):\n",
    "                    if c<70:\n",
    "                        some_tag = driver.find_element_by_css_selector('div[jsan=\"t-WPtQSFf6msE,7.wo1ice-loading,7.noprint\"]')\n",
    "                        action=ActionChains(driver)\n",
    "                        action.move_to_element(some_tag).perform()\n",
    "                        time.sleep(1.2)\n",
    "                        c+=1\n",
    "                    else:\n",
    "                        for y in bs.select('.ODSEW-ShBeI'):\n",
    "                            if y.select('button[aria-label=\"더보기\"]'):\n",
    "                                driver.find_element_by_css_selector('button[aria-label=\"더보기\"]').click()\n",
    "                                time.sleep(0.5)\n",
    "                                label=y.select('span[aria-label]')[0].attrs['aria-label']\n",
    "                                text=y.select('.ODSEW-ShBeI-text')[0].text\n",
    "                                google.append({label:text})\n",
    "                            else:\n",
    "                                if y.select('.ODSEW-ShBeI-text')[0].text=='':\n",
    "                                    continue\n",
    "                                label=y.select('span[aria-label]')[0].attrs['aria-label']\n",
    "                                text=y.select('.ODSEW-ShBeI-text')[0].text\n",
    "                                google.append({label:text})\n",
    "                        break\n",
    "                else:\n",
    "                    for y in bs.select('.ODSEW-ShBeI'):\n",
    "                        if y.select('button[aria-label=\"더보기\"]'):\n",
    "                            driver.find_element_by_css_selector('button[aria-label=\"더보기\"]').click()\n",
    "                            time.sleep(0.5)\n",
    "                            label=y.select('span[aria-label]')[0].attrs['aria-label']\n",
    "                            text=y.select('.ODSEW-ShBeI-text')[0].text\n",
    "                            google.append({label:text})\n",
    "                        else:\n",
    "                            if y.select('.ODSEW-ShBeI-text')[0].text=='':\n",
    "                                continue\n",
    "                            label=y.select('span[aria-label]')[0].attrs['aria-label']\n",
    "                            text=y.select('.ODSEW-ShBeI-text')[0].text\n",
    "                            google.append({label:text})\n",
    "                    break\n",
    "        else:\n",
    "            for v in bs.select('.ODSEW-ShBeI'):\n",
    "                if v.select('button[aria-label=\"더보기\"]'):\n",
    "                    driver.find_element_by_css_selector('button[aria-label=\"더보기\"]').click()\n",
    "                    time.sleep(0.5)\n",
    "                    label=v.select('span[aria-label]')[0].attrs['aria-label']\n",
    "                    text=v.select('.ODSEW-ShBeI-text')[0].text\n",
    "                    google.append({label:text})\n",
    "                else:\n",
    "                    if v.select('.ODSEW-ShBeI-text')[0].text=='':\n",
    "                        continue\n",
    "                    label=v.select('span[aria-label]')[0].attrs['aria-label']\n",
    "                    text=v.select('.ODSEW-ShBeI-text')[0].text\n",
    "                    google.append({label:text})"
   ]
  },
  {
   "cell_type": "code",
   "execution_count": 20,
   "id": "e4cbef48-8ebd-4de1-bf31-d9ed11831d77",
   "metadata": {},
   "outputs": [],
   "source": [
    "some_tag = driver.find_element_by_css_selector('div[jsan=\"t-WPtQSFf6msE,7.wo1ice-loading,7.noprint\"]')\n",
    "action=ActionChains(driver)\n",
    "action.move_to_element(some_tag).perform()\n",
    "time.sleep(2)"
   ]
  },
  {
   "cell_type": "code",
   "execution_count": 16,
   "id": "1e68b752-c4a5-4836-bac4-310002c72760",
   "metadata": {},
   "outputs": [
    {
     "data": {
      "text/plain": [
       "{'jstcache': '1001',\n",
       " 'class': ['', 'wo1ice-loading', 'noprint'],\n",
       " 'style': '',\n",
       " 'jsan': 't-WPtQSFf6msE,7.wo1ice-loading,7.noprint'}"
      ]
     },
     "execution_count": 16,
     "metadata": {},
     "output_type": "execute_result"
    }
   ],
   "source": [
    "BeautifulSoup(driver.page_source,'html.parser').select('div.section-scrollbox > div[style]')[2].attrs"
   ]
  },
  {
   "cell_type": "code",
   "execution_count": 170,
   "id": "d47fb0ae-831a-4c18-abeb-564635426827",
   "metadata": {},
   "outputs": [
    {
     "data": {
      "text/plain": [
       "[]"
      ]
     },
     "execution_count": 170,
     "metadata": {},
     "output_type": "execute_result"
    }
   ],
   "source": [
    "BeautifulSoup(driver.page_source,'html.parser').select('.section-scrollbox > .wo1ice-loading')"
   ]
  },
  {
   "cell_type": "code",
   "execution_count": 971,
   "id": "02b9478d-eb08-4ea3-8479-e2013c8fa0e7",
   "metadata": {},
   "outputs": [
    {
     "data": {
      "text/plain": [
       "[<button aria-label=\"리뷰 더보기 (516)\" class=\"BgrMEd BgrMEd-text\" jsaction=\"pane.reviewlist.goToReviews\" jsan=\"7.BgrMEd,7.BgrMEd-text,0.aria-label,0.jsaction\" jstcache=\"280\"><img jstcache=\"281\" style=\"display:none\"/><span class=\"wNNZR gm2-button-alt\" jsan=\"7.wNNZR,7.gm2-button-alt\" jstcache=\"282\" style='font-family: \"Google Sans\", Roboto, \"Noto Sans KR\", Arial, sans-serif;'>리뷰 더보기 (516)</span></button>]"
      ]
     },
     "execution_count": 971,
     "metadata": {},
     "output_type": "execute_result"
    }
   ],
   "source": [
    "BeautifulSoup(driver.page_source,'html.parser').select('button[class=\"BgrMEd BgrMEd-text\"]')"
   ]
  },
  {
   "cell_type": "code",
   "execution_count": 973,
   "id": "30999656-5393-4092-aeaa-2e864e3c7958",
   "metadata": {},
   "outputs": [],
   "source": [
    "driver.find_element_by_css_selector('button[class=\"BgrMEd BgrMEd-text\"]').click()"
   ]
  },
  {
   "cell_type": "code",
   "execution_count": 21,
   "id": "1d0d983e-f2d9-4287-9287-34bee0c2c945",
   "metadata": {},
   "outputs": [
    {
     "data": {
      "text/plain": [
       "428"
      ]
     },
     "execution_count": 21,
     "metadata": {},
     "output_type": "execute_result"
    }
   ],
   "source": [
    "count-1"
   ]
  },
  {
   "cell_type": "code",
   "execution_count": 22,
   "id": "f70f2c35-c7d1-43be-88e6-06617103784c",
   "metadata": {},
   "outputs": [
    {
     "data": {
      "text/plain": [
       "35685"
      ]
     },
     "execution_count": 22,
     "metadata": {},
     "output_type": "execute_result"
    }
   ],
   "source": [
    "len(google)"
   ]
  },
  {
   "cell_type": "code",
   "execution_count": 23,
   "id": "18dc871d-3c1c-48e3-94b1-bf7b29384718",
   "metadata": {},
   "outputs": [],
   "source": [
    "backup=google"
   ]
  },
  {
   "cell_type": "code",
   "execution_count": 24,
   "id": "b093b857-8365-41d3-85b3-a3d1518c9853",
   "metadata": {},
   "outputs": [
    {
     "data": {
      "text/plain": [
       "35685"
      ]
     },
     "execution_count": 24,
     "metadata": {},
     "output_type": "execute_result"
    }
   ],
   "source": [
    "len(backup)"
   ]
  },
  {
   "cell_type": "code",
   "execution_count": 179,
   "id": "23996041-afa3-4475-b6bf-aa6143d5fec6",
   "metadata": {},
   "outputs": [
    {
     "data": {
      "text/plain": [
       "19566"
      ]
     },
     "execution_count": 179,
     "metadata": {},
     "output_type": "execute_result"
    }
   ],
   "source": [
    "for i in google:\n",
    "    backup.append(i)\n",
    "len(backup)"
   ]
  },
  {
   "cell_type": "code",
   "execution_count": 27,
   "id": "afbdbdb2-e4fa-4aad-8cf9-b94f15ea5cb2",
   "metadata": {},
   "outputs": [
    {
     "data": {
      "text/html": [
       "<div>\n",
       "<style scoped>\n",
       "    .dataframe tbody tr th:only-of-type {\n",
       "        vertical-align: middle;\n",
       "    }\n",
       "\n",
       "    .dataframe tbody tr th {\n",
       "        vertical-align: top;\n",
       "    }\n",
       "\n",
       "    .dataframe thead th {\n",
       "        text-align: right;\n",
       "    }\n",
       "</style>\n",
       "<table border=\"1\" class=\"dataframe\">\n",
       "  <thead>\n",
       "    <tr style=\"text-align: right;\">\n",
       "      <th></th>\n",
       "      <th>리뷰</th>\n",
       "      <th>별점</th>\n",
       "    </tr>\n",
       "  </thead>\n",
       "  <tbody>\n",
       "    <tr>\n",
       "      <th>0</th>\n",
       "      <td>숙소 근처여서 가게된거지만 또 공항이랑도 가까워서 가기 딱 좋아요😉 집으로 돌아가는...</td>\n",
       "      <td>별표 5개</td>\n",
       "    </tr>\n",
       "    <tr>\n",
       "      <th>0</th>\n",
       "      <td>정식에 갈치 구이가 토막은 나왔는데 조림에 갈치가 부셔져서 나와 좀 이상했음\\n메뉴...</td>\n",
       "      <td>별표 4개</td>\n",
       "    </tr>\n",
       "    <tr>\n",
       "      <th>0</th>\n",
       "      <td>저희 포함 두테이블 있었는데 음식 나오는데20분 주문실수로 10분 더 기다리고 30...</td>\n",
       "      <td>별표 2개</td>\n",
       "    </tr>\n",
       "    <tr>\n",
       "      <th>0</th>\n",
       "      <td>백반 식사시 조기를 튀겨주시네요</td>\n",
       "      <td>별표 4개</td>\n",
       "    </tr>\n",
       "    <tr>\n",
       "      <th>0</th>\n",
       "      <td>갈치조림 맛있어요 비린내도 안나고 얼큰하구요. 밑반찬도 깔끔하고 좋았어요</td>\n",
       "      <td>별표 5개</td>\n",
       "    </tr>\n",
       "    <tr>\n",
       "      <th>...</th>\n",
       "      <td>...</td>\n",
       "      <td>...</td>\n",
       "    </tr>\n",
       "    <tr>\n",
       "      <th>0</th>\n",
       "      <td>요즘 제주도비행기 가격이 많이 저렴해서 제주도 자주 방문하네요ㅎㅎ 숙소 근처라서 방...</td>\n",
       "      <td>별표 5개</td>\n",
       "    </tr>\n",
       "    <tr>\n",
       "      <th>0</th>\n",
       "      <td>끼야아아앙 대박 JMTGR 인스타에도 업로드했어여엉ㅋㅋ 친구들이랑 단체여행와서 내리...</td>\n",
       "      <td>별표 5개</td>\n",
       "    </tr>\n",
       "    <tr>\n",
       "      <th>0</th>\n",
       "      <td>깔끔하고 맛있어요 재료도 싱싱하구요</td>\n",
       "      <td>별표 5개</td>\n",
       "    </tr>\n",
       "    <tr>\n",
       "      <th>0</th>\n",
       "      <td>정말 제주 여행시 꼭 들려서 먹길 잘했다 라고 생각할 정도로 1등 집이 였습니다. ...</td>\n",
       "      <td>별표 5개</td>\n",
       "    </tr>\n",
       "    <tr>\n",
       "      <th>0</th>\n",
       "      <td>수제버거 너무 맛있어요^^</td>\n",
       "      <td>별표 5개</td>\n",
       "    </tr>\n",
       "  </tbody>\n",
       "</table>\n",
       "<p>35685 rows × 2 columns</p>\n",
       "</div>"
      ],
      "text/plain": [
       "                                                   리뷰       별점\n",
       "0   숙소 근처여서 가게된거지만 또 공항이랑도 가까워서 가기 딱 좋아요😉 집으로 돌아가는...   별표 5개 \n",
       "0   정식에 갈치 구이가 토막은 나왔는데 조림에 갈치가 부셔져서 나와 좀 이상했음\\n메뉴...   별표 4개 \n",
       "0   저희 포함 두테이블 있었는데 음식 나오는데20분 주문실수로 10분 더 기다리고 30...   별표 2개 \n",
       "0                                   백반 식사시 조기를 튀겨주시네요   별표 4개 \n",
       "0            갈치조림 맛있어요 비린내도 안나고 얼큰하구요. 밑반찬도 깔끔하고 좋았어요   별표 5개 \n",
       "..                                                ...      ...\n",
       "0   요즘 제주도비행기 가격이 많이 저렴해서 제주도 자주 방문하네요ㅎㅎ 숙소 근처라서 방...   별표 5개 \n",
       "0   끼야아아앙 대박 JMTGR 인스타에도 업로드했어여엉ㅋㅋ 친구들이랑 단체여행와서 내리...   별표 5개 \n",
       "0                                 깔끔하고 맛있어요 재료도 싱싱하구요   별표 5개 \n",
       "0   정말 제주 여행시 꼭 들려서 먹길 잘했다 라고 생각할 정도로 1등 집이 였습니다. ...   별표 5개 \n",
       "0                                      수제버거 너무 맛있어요^^   별표 5개 \n",
       "\n",
       "[35685 rows x 2 columns]"
      ]
     },
     "execution_count": 27,
     "metadata": {},
     "output_type": "execute_result"
    }
   ],
   "source": [
    "backup_df=pd.DataFrame()\n",
    "for i in backup:\n",
    "    backup_df=backup_df.append(pd.DataFrame({'리뷰':i.values(),'별점':i.keys()}))\n",
    "backup_df"
   ]
  },
  {
   "cell_type": "code",
   "execution_count": 28,
   "id": "5bdaa5ed-5a66-4529-bb9b-ccd30b18a9fd",
   "metadata": {},
   "outputs": [],
   "source": [
    "backup_df.to_csv('기타/구글리뷰_백업.csv',index=False)"
   ]
  },
  {
   "cell_type": "code",
   "execution_count": 29,
   "id": "fa7cb2a5-0492-494b-9a20-9caef30c68ec",
   "metadata": {},
   "outputs": [
    {
     "data": {
      "text/html": [
       "<div>\n",
       "<style scoped>\n",
       "    .dataframe tbody tr th:only-of-type {\n",
       "        vertical-align: middle;\n",
       "    }\n",
       "\n",
       "    .dataframe tbody tr th {\n",
       "        vertical-align: top;\n",
       "    }\n",
       "\n",
       "    .dataframe thead th {\n",
       "        text-align: right;\n",
       "    }\n",
       "</style>\n",
       "<table border=\"1\" class=\"dataframe\">\n",
       "  <thead>\n",
       "    <tr style=\"text-align: right;\">\n",
       "      <th></th>\n",
       "      <th>리뷰</th>\n",
       "      <th>별점</th>\n",
       "    </tr>\n",
       "  </thead>\n",
       "  <tbody>\n",
       "    <tr>\n",
       "      <th>0</th>\n",
       "      <td>숙소 근처여서 가게된거지만 또 공항이랑도 가까워서 가기 딱 좋아요😉 집으로 돌아가는...</td>\n",
       "      <td>별표 5개</td>\n",
       "    </tr>\n",
       "    <tr>\n",
       "      <th>1</th>\n",
       "      <td>정식에 갈치 구이가 토막은 나왔는데 조림에 갈치가 부셔져서 나와 좀 이상했음\\n메뉴...</td>\n",
       "      <td>별표 4개</td>\n",
       "    </tr>\n",
       "    <tr>\n",
       "      <th>2</th>\n",
       "      <td>저희 포함 두테이블 있었는데 음식 나오는데20분 주문실수로 10분 더 기다리고 30...</td>\n",
       "      <td>별표 2개</td>\n",
       "    </tr>\n",
       "    <tr>\n",
       "      <th>3</th>\n",
       "      <td>백반 식사시 조기를 튀겨주시네요</td>\n",
       "      <td>별표 4개</td>\n",
       "    </tr>\n",
       "    <tr>\n",
       "      <th>4</th>\n",
       "      <td>갈치조림 맛있어요 비린내도 안나고 얼큰하구요. 밑반찬도 깔끔하고 좋았어요</td>\n",
       "      <td>별표 5개</td>\n",
       "    </tr>\n",
       "    <tr>\n",
       "      <th>...</th>\n",
       "      <td>...</td>\n",
       "      <td>...</td>\n",
       "    </tr>\n",
       "    <tr>\n",
       "      <th>35680</th>\n",
       "      <td>요즘 제주도비행기 가격이 많이 저렴해서 제주도 자주 방문하네요ㅎㅎ 숙소 근처라서 방...</td>\n",
       "      <td>별표 5개</td>\n",
       "    </tr>\n",
       "    <tr>\n",
       "      <th>35681</th>\n",
       "      <td>끼야아아앙 대박 JMTGR 인스타에도 업로드했어여엉ㅋㅋ 친구들이랑 단체여행와서 내리...</td>\n",
       "      <td>별표 5개</td>\n",
       "    </tr>\n",
       "    <tr>\n",
       "      <th>35682</th>\n",
       "      <td>깔끔하고 맛있어요 재료도 싱싱하구요</td>\n",
       "      <td>별표 5개</td>\n",
       "    </tr>\n",
       "    <tr>\n",
       "      <th>35683</th>\n",
       "      <td>정말 제주 여행시 꼭 들려서 먹길 잘했다 라고 생각할 정도로 1등 집이 였습니다. ...</td>\n",
       "      <td>별표 5개</td>\n",
       "    </tr>\n",
       "    <tr>\n",
       "      <th>35684</th>\n",
       "      <td>수제버거 너무 맛있어요^^</td>\n",
       "      <td>별표 5개</td>\n",
       "    </tr>\n",
       "  </tbody>\n",
       "</table>\n",
       "<p>35685 rows × 2 columns</p>\n",
       "</div>"
      ],
      "text/plain": [
       "                                                      리뷰       별점\n",
       "0      숙소 근처여서 가게된거지만 또 공항이랑도 가까워서 가기 딱 좋아요😉 집으로 돌아가는...   별표 5개 \n",
       "1      정식에 갈치 구이가 토막은 나왔는데 조림에 갈치가 부셔져서 나와 좀 이상했음\\n메뉴...   별표 4개 \n",
       "2      저희 포함 두테이블 있었는데 음식 나오는데20분 주문실수로 10분 더 기다리고 30...   별표 2개 \n",
       "3                                      백반 식사시 조기를 튀겨주시네요   별표 4개 \n",
       "4               갈치조림 맛있어요 비린내도 안나고 얼큰하구요. 밑반찬도 깔끔하고 좋았어요   별표 5개 \n",
       "...                                                  ...      ...\n",
       "35680  요즘 제주도비행기 가격이 많이 저렴해서 제주도 자주 방문하네요ㅎㅎ 숙소 근처라서 방...   별표 5개 \n",
       "35681  끼야아아앙 대박 JMTGR 인스타에도 업로드했어여엉ㅋㅋ 친구들이랑 단체여행와서 내리...   별표 5개 \n",
       "35682                                깔끔하고 맛있어요 재료도 싱싱하구요   별표 5개 \n",
       "35683  정말 제주 여행시 꼭 들려서 먹길 잘했다 라고 생각할 정도로 1등 집이 였습니다. ...   별표 5개 \n",
       "35684                                     수제버거 너무 맛있어요^^   별표 5개 \n",
       "\n",
       "[35685 rows x 2 columns]"
      ]
     },
     "execution_count": 29,
     "metadata": {},
     "output_type": "execute_result"
    }
   ],
   "source": [
    "pd.read_csv('기타/구글리뷰_백업.csv')"
   ]
  },
  {
   "cell_type": "code",
   "execution_count": 157,
   "id": "4f1da507-9335-45b0-b346-1e0ffa311a4d",
   "metadata": {},
   "outputs": [
    {
     "data": {
      "text/html": [
       "<div>\n",
       "<style scoped>\n",
       "    .dataframe tbody tr th:only-of-type {\n",
       "        vertical-align: middle;\n",
       "    }\n",
       "\n",
       "    .dataframe tbody tr th {\n",
       "        vertical-align: top;\n",
       "    }\n",
       "\n",
       "    .dataframe thead th {\n",
       "        text-align: right;\n",
       "    }\n",
       "</style>\n",
       "<table border=\"1\" class=\"dataframe\">\n",
       "  <thead>\n",
       "    <tr style=\"text-align: right;\">\n",
       "      <th></th>\n",
       "      <th>리뷰</th>\n",
       "      <th>별점</th>\n",
       "    </tr>\n",
       "  </thead>\n",
       "  <tbody>\n",
       "    <tr>\n",
       "      <th>0</th>\n",
       "      <td>맛! 정말 맛있게 먹었습니다.\\n밑반찬은 식재료의 식감이 그대로 느껴지게 조리하였고...</td>\n",
       "      <td>별표 5개</td>\n",
       "    </tr>\n",
       "    <tr>\n",
       "      <th>0</th>\n",
       "      <td>조용하고 정갈한 분위기를 원하시면 추천해드립니다\\n음식 맛도 괜찮고 많은 양은 아니...</td>\n",
       "      <td>별표 3개</td>\n",
       "    </tr>\n",
       "    <tr>\n",
       "      <th>0</th>\n",
       "      <td>좋은 재료를 잘 다루는 음식.. 전복 육회등 단품 메뉴는 사전에 예약해야 맛볼수 있...</td>\n",
       "      <td>별표 4개</td>\n",
       "    </tr>\n",
       "    <tr>\n",
       "      <th>0</th>\n",
       "      <td>조용한 바다 가까운 곳에 있는 한정식집.  미리 전화 예약을 하고 들렀습니다.\\n친...</td>\n",
       "      <td>별표 4개</td>\n",
       "    </tr>\n",
       "    <tr>\n",
       "      <th>0</th>\n",
       "      <td>한우육전밥상과 병어조림밥상이 있습니다.\\n병어조림밥상은 2인분 이상부터 주문이 가능...</td>\n",
       "      <td>별표 4개</td>\n",
       "    </tr>\n",
       "    <tr>\n",
       "      <th>...</th>\n",
       "      <td>...</td>\n",
       "      <td>...</td>\n",
       "    </tr>\n",
       "    <tr>\n",
       "      <th>0</th>\n",
       "      <td>갈치조림 2인분 3만원 공기밥별도\\n맛있습니다. 고추가루 팍팍 양념이 진합니다</td>\n",
       "      <td>별표 4개</td>\n",
       "    </tr>\n",
       "    <tr>\n",
       "      <th>0</th>\n",
       "      <td>반찬 맛 양 전부 굿이에요~</td>\n",
       "      <td>별표 5개</td>\n",
       "    </tr>\n",
       "    <tr>\n",
       "      <th>0</th>\n",
       "      <td>먹을만한 집이었어요. 우럭조림을 먹었는데 밑반찬도 맛있었어요.</td>\n",
       "      <td>별표 5개</td>\n",
       "    </tr>\n",
       "    <tr>\n",
       "      <th>0</th>\n",
       "      <td>반찬과 음식 가격대비 매우 좋아요. 맛있습니다</td>\n",
       "      <td>별표 5개</td>\n",
       "    </tr>\n",
       "    <tr>\n",
       "      <th>0</th>\n",
       "      <td>맛있고 저렴하고 ?!!!! ♥</td>\n",
       "      <td>별표 5개</td>\n",
       "    </tr>\n",
       "  </tbody>\n",
       "</table>\n",
       "<p>5136 rows × 2 columns</p>\n",
       "</div>"
      ],
      "text/plain": [
       "                                                   리뷰       별점\n",
       "0   맛! 정말 맛있게 먹었습니다.\\n밑반찬은 식재료의 식감이 그대로 느껴지게 조리하였고...   별표 5개 \n",
       "0   조용하고 정갈한 분위기를 원하시면 추천해드립니다\\n음식 맛도 괜찮고 많은 양은 아니...   별표 3개 \n",
       "0   좋은 재료를 잘 다루는 음식.. 전복 육회등 단품 메뉴는 사전에 예약해야 맛볼수 있...   별표 4개 \n",
       "0   조용한 바다 가까운 곳에 있는 한정식집.  미리 전화 예약을 하고 들렀습니다.\\n친...   별표 4개 \n",
       "0   한우육전밥상과 병어조림밥상이 있습니다.\\n병어조림밥상은 2인분 이상부터 주문이 가능...   별표 4개 \n",
       "..                                                ...      ...\n",
       "0         갈치조림 2인분 3만원 공기밥별도\\n맛있습니다. 고추가루 팍팍 양념이 진합니다   별표 4개 \n",
       "0                                     반찬 맛 양 전부 굿이에요~   별표 5개 \n",
       "0                  먹을만한 집이었어요. 우럭조림을 먹었는데 밑반찬도 맛있었어요.   별표 5개 \n",
       "0                           반찬과 음식 가격대비 매우 좋아요. 맛있습니다   별표 5개 \n",
       "0                                    맛있고 저렴하고 ?!!!! ♥   별표 5개 \n",
       "\n",
       "[5136 rows x 2 columns]"
      ]
     },
     "execution_count": 157,
     "metadata": {},
     "output_type": "execute_result"
    }
   ],
   "source": [
    "google_df=pd.DataFrame()\n",
    "for i in google:\n",
    "    google_df=google_df.append(pd.DataFrame({'리뷰':i.values(),'별점':i.keys()}))\n",
    "google_df"
   ]
  },
  {
   "cell_type": "code",
   "execution_count": 30,
   "id": "553e142a-f99b-42b9-b91f-bdbc0fe833c5",
   "metadata": {},
   "outputs": [
    {
     "data": {
      "text/html": [
       "<div>\n",
       "<style scoped>\n",
       "    .dataframe tbody tr th:only-of-type {\n",
       "        vertical-align: middle;\n",
       "    }\n",
       "\n",
       "    .dataframe tbody tr th {\n",
       "        vertical-align: top;\n",
       "    }\n",
       "\n",
       "    .dataframe thead th {\n",
       "        text-align: right;\n",
       "    }\n",
       "</style>\n",
       "<table border=\"1\" class=\"dataframe\">\n",
       "  <thead>\n",
       "    <tr style=\"text-align: right;\">\n",
       "      <th></th>\n",
       "      <th>리뷰</th>\n",
       "    </tr>\n",
       "    <tr>\n",
       "      <th>별점</th>\n",
       "      <th></th>\n",
       "    </tr>\n",
       "  </thead>\n",
       "  <tbody>\n",
       "    <tr>\n",
       "      <th>별표 1개</th>\n",
       "      <td>2336</td>\n",
       "    </tr>\n",
       "    <tr>\n",
       "      <th>별표 2개</th>\n",
       "      <td>1690</td>\n",
       "    </tr>\n",
       "    <tr>\n",
       "      <th>별표 3개</th>\n",
       "      <td>4759</td>\n",
       "    </tr>\n",
       "    <tr>\n",
       "      <th>별표 4개</th>\n",
       "      <td>10048</td>\n",
       "    </tr>\n",
       "    <tr>\n",
       "      <th>별표 5개</th>\n",
       "      <td>16852</td>\n",
       "    </tr>\n",
       "  </tbody>\n",
       "</table>\n",
       "</div>"
      ],
      "text/plain": [
       "            리뷰\n",
       "별점            \n",
       " 별표 1개    2336\n",
       " 별표 2개    1690\n",
       " 별표 3개    4759\n",
       " 별표 4개   10048\n",
       " 별표 5개   16852"
      ]
     },
     "execution_count": 30,
     "metadata": {},
     "output_type": "execute_result"
    }
   ],
   "source": [
    "backup_df.groupby('별점').count()"
   ]
  },
  {
   "cell_type": "markdown",
   "id": "65231168-f67c-43b1-a5e0-0514ee9a2282",
   "metadata": {},
   "source": [
    "# 트립어드바이저"
   ]
  },
  {
   "cell_type": "code",
   "execution_count": 154,
   "id": "edc209db-3873-404b-a8c2-ff92dfd99829",
   "metadata": {},
   "outputs": [],
   "source": [
    "driver = webdriver.Chrome()"
   ]
  },
  {
   "cell_type": "code",
   "execution_count": 125,
   "id": "5af2068b-0a6c-4b4c-8eda-5e11ca189c47",
   "metadata": {},
   "outputs": [],
   "source": [
    "driver.get('https://www.tripadvisor.co.kr/Restaurants-g983296-Jeju_Island.html')"
   ]
  },
  {
   "cell_type": "code",
   "execution_count": 5,
   "id": "3224febb-54d9-4002-b24a-5971672e8209",
   "metadata": {},
   "outputs": [],
   "source": [
    "# 한식 클릭\n",
    "\"\"\"a=WebDriverWait(driver, 3).until(lambda x:x.find_element_by_css_selector(\"label[for='checkbox_40']\")).click()\"\"\""
   ]
  },
  {
   "cell_type": "code",
   "execution_count": 126,
   "id": "397b76e9-4ee8-45ad-937b-22d3a9a95405",
   "metadata": {},
   "outputs": [
    {
     "name": "stdout",
     "output_type": "stream",
     "text": [
      "31  수집\n",
      "62  수집\n",
      "93  수집\n",
      "124  수집\n",
      "155  수집\n",
      "186  수집\n",
      "217  수집\n",
      "248  수집\n",
      "279  수집\n",
      "310  수집\n",
      "341  수집\n",
      "372  수집\n",
      "403  수집\n",
      "434  수집\n",
      "465  수집\n",
      "496  수집\n",
      "527  수집\n",
      "558  수집\n",
      "589  수집\n",
      "620  수집\n",
      "651  수집\n",
      "682  수집\n",
      "713  수집\n",
      "744  수집\n",
      "775  수집\n",
      "806  수집\n",
      "837  수집\n",
      "868  수집\n",
      "899  수집\n",
      "930  수집\n",
      "961  수집\n",
      "992  수집\n",
      "1023  수집\n",
      "1054  수집\n",
      "1085  수집\n",
      "1116  수집\n",
      "1147  수집\n",
      "1178  수집\n",
      "1209  수집\n",
      "1240  수집\n",
      "1271  수집\n",
      "1302  수집\n",
      "1333  수집\n",
      "1364  수집\n",
      "1395  수집\n",
      "1426  수집\n",
      "1457  수집\n",
      "1488  수집\n",
      "1519  수집\n",
      "1550  수집\n",
      "1581  수집\n",
      "1612  수집\n",
      "1643  수집\n",
      "1674  수집\n",
      "1705  수집\n",
      "1736  수집\n",
      "1767  수집\n",
      "1798  수집\n",
      "1829  수집\n",
      "1860  수집\n",
      "1891  수집\n",
      "1922  수집\n",
      "1953  수집\n",
      "1984  수집\n",
      "2015  수집\n",
      "2046  수집\n",
      "2077  수집\n",
      "2108  수집\n",
      "2139  수집\n",
      "2170  수집\n",
      "2201  수집\n",
      "2232  수집\n",
      "2263  수집\n",
      "2294  수집\n",
      "2325  수집\n",
      "2356  수집\n",
      "2387  수집\n",
      "2392  수집\n",
      "2393  수집\n",
      "2394  수집\n",
      "2395  수집\n",
      "2396  수집\n",
      "2397  수집\n",
      "2398  수집\n",
      "2399  수집\n",
      "2400  수집\n",
      "2401  수집\n",
      "2402  수집\n",
      "2403  수집\n"
     ]
    }
   ],
   "source": [
    "f_url=[]\n",
    "base_url='https://www.tripadvisor.co.kr'\n",
    "while True:\n",
    "    bs=BeautifulSoup(driver.page_source,'html.parser')\n",
    "    for i in bs.select('div[data-test]'):\n",
    "        if '리뷰를 작성해 주세요' in i.text:\n",
    "            continue\n",
    "        else:\n",
    "            f_url.append(base_url+i.select('a')[0].attrs['href'])\n",
    "    print(len(f_url),' 수집')\n",
    "    time.sleep(1)\n",
    "    if len(bs.select('a[class=\"nav next rndBtn ui_button primary taLnk\"]')) == 0:\n",
    "        break\n",
    "    else:\n",
    "        a=WebDriverWait(driver, 3).until(lambda x:x.find_element_by_css_selector('a[class=\"nav next rndBtn ui_button primary taLnk\"]')).click()\n",
    "        time.sleep(2)"
   ]
  },
  {
   "cell_type": "code",
   "execution_count": 127,
   "id": "4230f42e-112d-4b2b-969a-cf16c38e901b",
   "metadata": {},
   "outputs": [
    {
     "data": {
      "text/plain": [
       "2403"
      ]
     },
     "execution_count": 127,
     "metadata": {},
     "output_type": "execute_result"
    }
   ],
   "source": [
    "len(f_url)"
   ]
  },
  {
   "cell_type": "code",
   "execution_count": 128,
   "id": "947c1daa-ac6f-4817-bfa0-dde8d1b3c88f",
   "metadata": {},
   "outputs": [],
   "source": [
    "f_url=list(set(f_url))"
   ]
  },
  {
   "cell_type": "code",
   "execution_count": 129,
   "id": "6deda3b3-c83f-43a7-ae09-47f137f3d299",
   "metadata": {},
   "outputs": [
    {
     "data": {
      "text/plain": [
       "2280"
      ]
     },
     "execution_count": 129,
     "metadata": {},
     "output_type": "execute_result"
    }
   ],
   "source": [
    "len(f_url)"
   ]
  },
  {
   "cell_type": "code",
   "execution_count": 178,
   "id": "72a92177-d8b2-4e45-9c9a-29605e454d06",
   "metadata": {},
   "outputs": [],
   "source": [
    "bs=BeautifulSoup(driver.page_source,'html.parser')"
   ]
  },
  {
   "cell_type": "code",
   "execution_count": 179,
   "id": "b733fc5b-4dba-414e-a06d-3337b1604cd4",
   "metadata": {},
   "outputs": [
    {
     "data": {
      "text/plain": [
       "'참기름 뜬 돌솥밥은 느끼하고전복죽은 밋밋했어요생각했던것 만큼 대단한맛은아니였습니다...너무 큰 기대는 마시길...솔직한 후기입니다'"
      ]
     },
     "execution_count": 179,
     "metadata": {},
     "output_type": "execute_result"
    }
   ],
   "source": [
    "bs.select('#REVIEWS .ui_column.is-9')[0].select('p[class=\"partial_entry\"]')[0].text"
   ]
  },
  {
   "cell_type": "code",
   "execution_count": 201,
   "id": "26efc8c4-12aa-4cb2-973c-c2e36bedc02a",
   "metadata": {
    "tags": []
   },
   "outputs": [
    {
     "name": "stdout",
     "output_type": "stream",
     "text": [
      "1322\n"
     ]
    }
   ],
   "source": [
    "for i,v in enumerate(f_url):\n",
    "    if v=='https://www.tripadvisor.co.kr/Restaurant_Review-g297885-d8945114-Reviews-Arapa_Pa-Jeju_Jeju_Island.html':\n",
    "        print(i)"
   ]
  },
  {
   "cell_type": "code",
   "execution_count": 160,
   "id": "960dd8ad-1990-43c7-883d-03df359eca3f",
   "metadata": {},
   "outputs": [
    {
     "data": {
      "text/plain": [
       "'https://www.tripadvisor.co.kr/Restaurant_Review-g297885-d8974189-Reviews-Im_Seong_Chinese_Restaurant-Jeju_Jeju_Island.html'"
      ]
     },
     "execution_count": 160,
     "metadata": {},
     "output_type": "execute_result"
    }
   ],
   "source": [
    "f_url[1056]"
   ]
  },
  {
   "cell_type": "code",
   "execution_count": 202,
   "id": "bb146eb2-df7b-446b-a03e-a10b7e5e36f3",
   "metadata": {},
   "outputs": [
    {
     "name": "stdout",
     "output_type": "stream",
     "text": [
      "0 0\n",
      "22 100\n",
      "58 200\n",
      "109 300\n",
      "168 400\n",
      "189 500\n",
      "232 600\n",
      "277 700\n",
      "313 800\n",
      "344 900\n"
     ]
    }
   ],
   "source": [
    "N_text=[]\n",
    "for v,i in enumerate(f_url[1322:]):\n",
    "    if v%100==0:print(len(N_text),v)\n",
    "    driver.get(i)\n",
    "    a=WebDriverWait(driver,10).until(lambda x:x.find_element_by_css_selector('#filters_detail_checkbox_trating__1'))\n",
    "    b=WebDriverWait(driver,10).until(lambda x:x.find_element_by_css_selector('#filters_detail_checkbox_trating__2'))\n",
    "    driver.execute_script(\"arguments[0].click();\",a)\n",
    "    driver.execute_script(\"arguments[0].click();\",b)\n",
    "    time.sleep(1.5)\n",
    "    while True:\n",
    "        bs=BeautifulSoup(driver.page_source,'html.parser')\n",
    "        if not bs or bs.select('.ui_alert.warning'):\n",
    "            break\n",
    "        # 리뷰 수집\n",
    "        #if bs.select('span[class=\"taLnk ulBlueLinks\"]'):\n",
    "            #a=WebDriverWait(driver, 3).until(lambda x:x.find_element_by_css_selector('span[class=\"taLnk ulBlueLinks\"]'))\n",
    "            #driver.execute_script(\"arguments[0].click();\",a)\n",
    "            #time.sleep(1.5)\n",
    "        s = bs.select('#REVIEWS .ui_column.is-9')\n",
    "        for y in s:\n",
    "            txt=y.select('p[class=\"partial_entry\"]')[0]\n",
    "            N_text.append(txt.text)\n",
    "        #리뷰 다음페이지 버튼 있을시 버튼 클릭\n",
    "        if bs.select('.unified > a[class=\"nav next ui_button primary\"]'):\n",
    "            a=WebDriverWait(driver,10).until(lambda x:x.find_element_by_css_selector('.unified > a[class=\"nav next ui_button primary\"]'))\n",
    "            driver.execute_script('arguments[0].click();',a)\n",
    "            time.sleep(1.5)\n",
    "        #다음페이지 버튼 없다면 종료\n",
    "        else:\n",
    "            break"
   ]
  },
  {
   "cell_type": "code",
   "execution_count": 196,
   "id": "b13a66e3-c5df-4a90-adb3-922baf9a2400",
   "metadata": {},
   "outputs": [
    {
     "data": {
      "text/plain": [
       "['모바일 너무 맛있는 고기고기 질이 좋은 건지 신선한 건지 모르겠지만 엄청 부드럽고 맛있음 5시쯤 갔더니 대기없이 바로 들어갔음 6시쯤 되니 사람들이 많아지면서 대기줄이 생김고기를 구워주시는데 너무 맛있음 멜젓이 비린내도 하나도 없고 너무 맛있음기본 찬이 많지는 않지만 맛있음 김치찌개에 돼지고기가 들어갔음에도 아주 시원하고 깔끔하면서 좋음(기름진 김치찌개를 좋아하시는분은 안 좋을지도)손님이 많은데 직원분들이 일처리가 빠르신 편이라 테이블 회전율도 빠른편인거 같음 꼭 가보시길 적극 추천함!!!']"
      ]
     },
     "execution_count": 196,
     "metadata": {},
     "output_type": "execute_result"
    }
   ],
   "source": [
    "re.compile(r\"{}(.*){}\".format('작성. ','방문 날짜')).findall(BeautifulSoup(driver.page_source,'html.parser').select('.ui_column .is-9')[0].text.replace('\\n',' ').replace('...','').replace('숨기기',''))"
   ]
  },
  {
   "cell_type": "code",
   "execution_count": 203,
   "id": "08c6347f-c177-4d36-a068-b1fdc8161383",
   "metadata": {},
   "outputs": [
    {
     "data": {
      "text/plain": [
       "370"
      ]
     },
     "execution_count": 203,
     "metadata": {},
     "output_type": "execute_result"
    }
   ],
   "source": [
    "len(N_text)"
   ]
  },
  {
   "cell_type": "code",
   "execution_count": 204,
   "id": "a9687b32-9b6f-4d56-b892-c064b67e620d",
   "metadata": {
    "tags": []
   },
   "outputs": [],
   "source": [
    "N_text_df=pd.DataFrame(N_text)"
   ]
  },
  {
   "cell_type": "code",
   "execution_count": 205,
   "id": "e04d84e3-7c6c-455a-92e9-4a6fd46eec94",
   "metadata": {},
   "outputs": [],
   "source": [
    "list_df=list_df.append(N_text)"
   ]
  },
  {
   "cell_type": "code",
   "execution_count": 166,
   "id": "06697e59-256b-495c-8ac2-d559ae721845",
   "metadata": {},
   "outputs": [],
   "source": [
    "list_df=pd.DataFrame(list_)"
   ]
  },
  {
   "cell_type": "code",
   "execution_count": 206,
   "id": "6cf0e99e-3d11-48ed-8d45-d2c59fbcfa9e",
   "metadata": {},
   "outputs": [
    {
     "data": {
      "text/html": [
       "<div>\n",
       "<style scoped>\n",
       "    .dataframe tbody tr th:only-of-type {\n",
       "        vertical-align: middle;\n",
       "    }\n",
       "\n",
       "    .dataframe tbody tr th {\n",
       "        vertical-align: top;\n",
       "    }\n",
       "\n",
       "    .dataframe thead th {\n",
       "        text-align: right;\n",
       "    }\n",
       "</style>\n",
       "<table border=\"1\" class=\"dataframe\">\n",
       "  <thead>\n",
       "    <tr style=\"text-align: right;\">\n",
       "      <th></th>\n",
       "      <th>0</th>\n",
       "    </tr>\n",
       "  </thead>\n",
       "  <tbody>\n",
       "    <tr>\n",
       "      <th>0</th>\n",
       "      <td>전체적으로 사람이 너무 몰려 정신이 없어요. \\n음료는 이십분이 다되서 나왔고\\n음...</td>\n",
       "    </tr>\n",
       "    <tr>\n",
       "      <th>1</th>\n",
       "      <td>Not a value for money so disappointing . We pa...</td>\n",
       "    </tr>\n",
       "    <tr>\n",
       "      <th>2</th>\n",
       "      <td>아이들이 많아서 룸으로 된 식당 검색하다 방문 했는데 별로 좋지 않은 기억만 남았....</td>\n",
       "    </tr>\n",
       "    <tr>\n",
       "      <th>3</th>\n",
       "      <td>런치먹으러 광원으로 향하는 길에 차가 너무 많이 막히길래 전화해서 3시에서 5분정....</td>\n",
       "    </tr>\n",
       "    <tr>\n",
       "      <th>4</th>\n",
       "      <td>Overprice, Low level Beef, Bad Services, Stres...</td>\n",
       "    </tr>\n",
       "    <tr>\n",
       "      <th>...</th>\n",
       "      <td>...</td>\n",
       "    </tr>\n",
       "    <tr>\n",
       "      <th>365</th>\n",
       "      <td>파리 네마리가 쌍으로 날라다니는데 잡을생각도안하시고 문제있더라구요 맛은 달콤하니 ....</td>\n",
       "    </tr>\n",
       "    <tr>\n",
       "      <th>366</th>\n",
       "      <td>刺し身とか、シーフードがいろいろ安いとは思いますが、店員さんの愛想は悪いです。店もあまりきれ...</td>\n",
       "    </tr>\n",
       "    <tr>\n",
       "      <th>367</th>\n",
       "      <td>관광버스가 열심히 들락거립니다.\\n돗대기 시장 저리가라 입니다.식사중에 와서 계산하...</td>\n",
       "    </tr>\n",
       "    <tr>\n",
       "      <th>368</th>\n",
       "      <td>제주 2박3일 일정\\n마지막 저녁식사 장소\\n그러나.\\n공항에서부터 구토..\\n비행...</td>\n",
       "    </tr>\n",
       "    <tr>\n",
       "      <th>369</th>\n",
       "      <td>조금 대기하다 식사하였고 많은 추천으로 방문했지만 상당히 실망스러웠음.\\n그저 관광...</td>\n",
       "    </tr>\n",
       "  </tbody>\n",
       "</table>\n",
       "<p>982 rows × 1 columns</p>\n",
       "</div>"
      ],
      "text/plain": [
       "                                                     0\n",
       "0    전체적으로 사람이 너무 몰려 정신이 없어요. \\n음료는 이십분이 다되서 나왔고\\n음...\n",
       "1    Not a value for money so disappointing . We pa...\n",
       "2    아이들이 많아서 룸으로 된 식당 검색하다 방문 했는데 별로 좋지 않은 기억만 남았....\n",
       "3    런치먹으러 광원으로 향하는 길에 차가 너무 많이 막히길래 전화해서 3시에서 5분정....\n",
       "4    Overprice, Low level Beef, Bad Services, Stres...\n",
       "..                                                 ...\n",
       "365  파리 네마리가 쌍으로 날라다니는데 잡을생각도안하시고 문제있더라구요 맛은 달콤하니 ....\n",
       "366  刺し身とか、シーフードがいろいろ安いとは思いますが、店員さんの愛想は悪いです。店もあまりきれ...\n",
       "367  관광버스가 열심히 들락거립니다.\\n돗대기 시장 저리가라 입니다.식사중에 와서 계산하...\n",
       "368  제주 2박3일 일정\\n마지막 저녁식사 장소\\n그러나.\\n공항에서부터 구토..\\n비행...\n",
       "369  조금 대기하다 식사하였고 많은 추천으로 방문했지만 상당히 실망스러웠음.\\n그저 관광...\n",
       "\n",
       "[982 rows x 1 columns]"
      ]
     },
     "execution_count": 206,
     "metadata": {},
     "output_type": "execute_result"
    }
   ],
   "source": [
    "list_df"
   ]
  },
  {
   "cell_type": "code",
   "execution_count": 207,
   "id": "07280da1-416c-463c-ae89-de455959f724",
   "metadata": {},
   "outputs": [],
   "source": [
    "list_df.to_csv('기타/trip.csv',encoding='utf-8')"
   ]
  },
  {
   "cell_type": "markdown",
   "id": "e5fa7608-8278-4d3b-b608-285f11a4d33d",
   "metadata": {},
   "source": [
    "# 카카오맵"
   ]
  },
  {
   "cell_type": "code",
   "execution_count": 449,
   "id": "c476e5a7-d5e3-4ffd-a2cb-bddc83b5d715",
   "metadata": {},
   "outputs": [],
   "source": [
    "driver = webdriver.Chrome()"
   ]
  },
  {
   "cell_type": "code",
   "execution_count": 139,
   "id": "8377bfb3-9409-4a2d-8489-a208418c4b45",
   "metadata": {},
   "outputs": [],
   "source": [
    "driver.get('https://map.kakao.com/')"
   ]
  },
  {
   "cell_type": "code",
   "execution_count": 140,
   "id": "8dbd4a26-9a00-43b0-8652-ecff12179014",
   "metadata": {},
   "outputs": [],
   "source": [
    "elem = driver.find_element_by_name(\"q\")\n",
    "elem.send_keys('제주특별자치도 한식')\n",
    "elem.send_keys(Keys.RETURN)"
   ]
  },
  {
   "cell_type": "code",
   "execution_count": 141,
   "id": "596e0737-908e-4ed4-99d8-bf504e89a96d",
   "metadata": {
    "tags": []
   },
   "outputs": [],
   "source": [
    "url=[]\n",
    "c=3\n",
    "while True:\n",
    "    bs=BeautifulSoup(driver.page_source,'html.parser')\n",
    "    for i in bs.select('.score > a[href]'):\n",
    "        if i.attrs['href']:\n",
    "            url.append(i.attrs['href'])\n",
    "    if not bs.select('a[class=\"more HIDDEN\"]'):\n",
    "        driver.find_element_by_css_selector('a[id=\"info.search.place.more\"]').click()\n",
    "        time.sleep(1.5)\n",
    "    else:\n",
    "        if \"INACTIVE HIDDEN\" in str(bs.select('a[id=\"info.search.page.no{}\"]'.format(c))):\n",
    "                break\n",
    "        else:\n",
    "            if c==6:\n",
    "                driver.find_element_by_css_selector('button[id=\"info.search.page.next\"]').click()\n",
    "                c=2\n",
    "                time.sleep(1.5)\n",
    "            else:\n",
    "                driver.find_element_by_css_selector('a[id=\"info.search.page.no{}\"]'.format(c)).click()\n",
    "                c+=1\n",
    "                time.sleep(1.5)"
   ]
  },
  {
   "cell_type": "code",
   "execution_count": 145,
   "id": "b6113140-5077-4d94-a8c9-3360fdabc034",
   "metadata": {},
   "outputs": [
    {
     "name": "stdout",
     "output_type": "stream",
     "text": [
      "500 500\n"
     ]
    }
   ],
   "source": [
    "print(len(url),len(list(set(url))))"
   ]
  },
  {
   "cell_type": "code",
   "execution_count": 472,
   "id": "7caf373e-729e-4deb-9c92-dee722828280",
   "metadata": {},
   "outputs": [
    {
     "data": {
      "text/plain": [
       "346"
      ]
     },
     "execution_count": 472,
     "metadata": {},
     "output_type": "execute_result"
    }
   ],
   "source": [
    "len(url[154:])"
   ]
  },
  {
   "cell_type": "code",
   "execution_count": 361,
   "id": "bf41dd86-23e2-40c2-b9b7-186d277117a6",
   "metadata": {},
   "outputs": [],
   "source": [
    "driver.get(url[0])"
   ]
  },
  {
   "cell_type": "code",
   "execution_count": 473,
   "id": "76177a90-dd38-4a4d-a69d-ecb11c7c79ad",
   "metadata": {
    "tags": []
   },
   "outputs": [],
   "source": [
    "리뷰=[]\n",
    "for i in url[154:]:\n",
    "    c=2\n",
    "    driver.get(i)\n",
    "    time.sleep(2)\n",
    "    while True:\n",
    "        bs=BeautifulSoup(driver.page_source,'html.parser')\n",
    "        for i in bs.select('.list_evaluation > li'):\n",
    "            if i.select('.txt_fold'):\n",
    "                a=WebDriverWait(driver, 3).until(lambda x:x.find_element_by_css_selector('.txt_fold > button'))\n",
    "                driver.execute_script(\"arguments[0].click();\",a)\n",
    "                time.sleep(1)\n",
    "                if not i.select('.num_rate'):\n",
    "                    continue\n",
    "                else:\n",
    "                    리뷰.append({i.select('.num_rate')[0].text:i.select('.txt_comment')[0].text.replace('\\n',' ').replace('접기','')})\n",
    "            else:\n",
    "                if i.select('.box_blind'):\n",
    "                    continue\n",
    "                elif not i.select('.num_rate') or i.select('.txt_comment')[0].text=='더보기':\n",
    "                    continue\n",
    "                else:\n",
    "                    리뷰.append({i.select('.num_rate')[0].text:i.select('.txt_comment')[0].text.replace('\\n',' ').replace('더보기','')})\n",
    "        if c%5==1:\n",
    "            if BeautifulSoup(driver.page_source,'html.parser').select('a[data-logevent=\"point,page,next\"]'):\n",
    "                a=WebDriverWait(driver, 3).until(lambda x:x.find_element_by_css_selector('a[data-logevent=\"point,page,next\"]'))\n",
    "                driver.execute_script(\"arguments[0].click();\",a)\n",
    "                c+=1\n",
    "                time.sleep(2)\n",
    "            else:\n",
    "                break\n",
    "        else:\n",
    "            if BeautifulSoup(driver.page_source,'html.parser').select('a[data-logevent=\"point,page,page_number{}\"]'.format(c)):\n",
    "                a=WebDriverWait(driver, 3).until(lambda x:x.find_element_by_css_selector('a[data-logevent=\"point,page,page_number{}\"]'.format(c)))\n",
    "                driver.execute_script(\"arguments[0].click();\",a)\n",
    "                c+=1\n",
    "                time.sleep(2)\n",
    "            else:\n",
    "                break"
   ]
  },
  {
   "cell_type": "code",
   "execution_count": 475,
   "id": "11e9e299-498a-4188-a22f-c9dc1312509d",
   "metadata": {},
   "outputs": [],
   "source": [
    "df=pd.DataFrame()\n",
    "for i in 리뷰:\n",
    "    df=df.append(pd.DataFrame({'리뷰':i.values(),'별점':i.keys()}))"
   ]
  },
  {
   "cell_type": "code",
   "execution_count": 476,
   "id": "ae6de47a-0d21-4f31-ab07-82d5de519e34",
   "metadata": {},
   "outputs": [
    {
     "data": {
      "text/plain": [
       "5점    12116\n",
       "1점     2995\n",
       "4점     2954\n",
       "3점     1436\n",
       "2점      964\n",
       "Name: 별점, dtype: int64"
      ]
     },
     "execution_count": 476,
     "metadata": {},
     "output_type": "execute_result"
    }
   ],
   "source": [
    "df.별점.value_counts()"
   ]
  },
  {
   "cell_type": "code",
   "execution_count": 474,
   "id": "3377fefe-9f98-4d26-a359-7458e5bd5a9b",
   "metadata": {},
   "outputs": [
    {
     "data": {
      "text/plain": [
       "20465"
      ]
     },
     "execution_count": 474,
     "metadata": {},
     "output_type": "execute_result"
    }
   ],
   "source": [
    "len(리뷰)"
   ]
  },
  {
   "cell_type": "markdown",
   "id": "ad2948a6-16ec-49d1-a57a-04db961daa13",
   "metadata": {},
   "source": [
    "# 뉴스기사 수집"
   ]
  },
  {
   "cell_type": "code",
   "execution_count": 44,
   "id": "ba9d28c8-9b7d-4d25-b100-9e828d67c008",
   "metadata": {},
   "outputs": [],
   "source": [
    "label_list=['사회','경제','제주관광']"
   ]
  },
  {
   "cell_type": "code",
   "execution_count": 3,
   "id": "20287a9b-cdb1-4839-8d55-dd4745906d65",
   "metadata": {},
   "outputs": [],
   "source": [
    "url='https://www.newsjeju.net/news/articleList.html?page={}&sc_section_code=&sc_sub_section_code=&sc_serial_code=&sc_area=&sc_level=&sc_article_type=&sc_view_level=&sc_sdate=&sc_edate=&sc_serial_number=&sc_word=&sc_word2=&sc_andor=&sc_order_by=E&view_type=sm'"
   ]
  },
  {
   "cell_type": "code",
   "execution_count": 45,
   "id": "69c88bd6-959f-4c6f-b72e-cf31c6d62752",
   "metadata": {},
   "outputs": [],
   "source": [
    "base_url='https://www.newsjeju.net'"
   ]
  },
  {
   "cell_type": "code",
   "execution_count": 49,
   "id": "205dfc85-4117-449a-8812-b19e5c502305",
   "metadata": {},
   "outputs": [
    {
     "name": "stdout",
     "output_type": "stream",
     "text": [
      "554\n",
      "1190\n",
      "1764\n",
      "2341\n",
      "2945\n",
      "3319\n",
      "3804\n",
      "4256\n",
      "4676\n",
      "5071\n",
      "5432\n",
      "5860\n",
      "6273\n",
      "6629\n",
      "7120\n",
      "7647\n",
      "8209\n",
      "8689\n",
      "9229\n",
      "9777\n",
      "10341\n",
      "10702\n",
      "11012\n",
      "11429\n",
      "11450\n",
      "11473\n",
      "11499\n",
      "11525\n",
      "11810\n",
      "12109\n",
      "12406\n",
      "12696\n",
      "13058\n",
      "13392\n",
      "13721\n",
      "13974\n",
      "14188\n",
      "14407\n",
      "14778\n",
      "15158\n",
      "15510\n",
      "15875\n",
      "16200\n",
      "16549\n",
      "16937\n",
      "17324\n",
      "17714\n",
      "18038\n",
      "18355\n",
      "18713\n",
      "19080\n",
      "19546\n",
      "20047\n",
      "20495\n",
      "20837\n",
      "21170\n",
      "21567\n",
      "21958\n",
      "22314\n",
      "22661\n",
      "22938\n",
      "23182\n",
      "23492\n",
      "23878\n",
      "24178\n"
     ]
    },
    {
     "ename": "KeyboardInterrupt",
     "evalue": "",
     "output_type": "error",
     "traceback": [
      "\u001b[0;31m---------------------------------------------------------------------------\u001b[0m",
      "\u001b[0;31mKeyboardInterrupt\u001b[0m                         Traceback (most recent call last)",
      "\u001b[0;32m/var/folders/_g/kl94k0td3h1gy80byz1z3wbc0000gn/T/ipykernel_94459/2495426851.py\u001b[0m in \u001b[0;36m<module>\u001b[0;34m\u001b[0m\n\u001b[1;32m      2\u001b[0m \u001b[0mtarget_url\u001b[0m\u001b[0;34m=\u001b[0m\u001b[0;34m[\u001b[0m\u001b[0;34m]\u001b[0m\u001b[0;34m\u001b[0m\u001b[0;34m\u001b[0m\u001b[0m\n\u001b[1;32m      3\u001b[0m \u001b[0;32mwhile\u001b[0m \u001b[0;32mTrue\u001b[0m\u001b[0;34m:\u001b[0m\u001b[0;34m\u001b[0m\u001b[0;34m\u001b[0m\u001b[0m\n\u001b[0;32m----> 4\u001b[0;31m     \u001b[0mr\u001b[0m\u001b[0;34m=\u001b[0m\u001b[0mrequests\u001b[0m\u001b[0;34m.\u001b[0m\u001b[0mget\u001b[0m\u001b[0;34m(\u001b[0m\u001b[0murl\u001b[0m\u001b[0;34m.\u001b[0m\u001b[0mformat\u001b[0m\u001b[0;34m(\u001b[0m\u001b[0mc\u001b[0m\u001b[0;34m)\u001b[0m\u001b[0;34m,\u001b[0m\u001b[0mheaders\u001b[0m\u001b[0;34m=\u001b[0m\u001b[0mheader_info\u001b[0m\u001b[0;34m)\u001b[0m\u001b[0;34m\u001b[0m\u001b[0;34m\u001b[0m\u001b[0m\n\u001b[0m\u001b[1;32m      5\u001b[0m     \u001b[0;32mif\u001b[0m \u001b[0mr\u001b[0m\u001b[0;34m.\u001b[0m\u001b[0mstatus_code\u001b[0m \u001b[0;34m!=\u001b[0m \u001b[0;36m200\u001b[0m\u001b[0;34m:\u001b[0m\u001b[0;34m\u001b[0m\u001b[0;34m\u001b[0m\u001b[0m\n\u001b[1;32m      6\u001b[0m         \u001b[0mprint\u001b[0m\u001b[0;34m(\u001b[0m\u001b[0;34m'err'\u001b[0m\u001b[0;34m)\u001b[0m\u001b[0;34m\u001b[0m\u001b[0;34m\u001b[0m\u001b[0m\n",
      "\u001b[0;32m/opt/homebrew/Caskroom/miniforge/base/envs/tf/lib/python3.8/site-packages/requests/api.py\u001b[0m in \u001b[0;36mget\u001b[0;34m(url, params, **kwargs)\u001b[0m\n\u001b[1;32m     74\u001b[0m \u001b[0;34m\u001b[0m\u001b[0m\n\u001b[1;32m     75\u001b[0m     \u001b[0mkwargs\u001b[0m\u001b[0;34m.\u001b[0m\u001b[0msetdefault\u001b[0m\u001b[0;34m(\u001b[0m\u001b[0;34m'allow_redirects'\u001b[0m\u001b[0;34m,\u001b[0m \u001b[0;32mTrue\u001b[0m\u001b[0;34m)\u001b[0m\u001b[0;34m\u001b[0m\u001b[0;34m\u001b[0m\u001b[0m\n\u001b[0;32m---> 76\u001b[0;31m     \u001b[0;32mreturn\u001b[0m \u001b[0mrequest\u001b[0m\u001b[0;34m(\u001b[0m\u001b[0;34m'get'\u001b[0m\u001b[0;34m,\u001b[0m \u001b[0murl\u001b[0m\u001b[0;34m,\u001b[0m \u001b[0mparams\u001b[0m\u001b[0;34m=\u001b[0m\u001b[0mparams\u001b[0m\u001b[0;34m,\u001b[0m \u001b[0;34m**\u001b[0m\u001b[0mkwargs\u001b[0m\u001b[0;34m)\u001b[0m\u001b[0;34m\u001b[0m\u001b[0;34m\u001b[0m\u001b[0m\n\u001b[0m\u001b[1;32m     77\u001b[0m \u001b[0;34m\u001b[0m\u001b[0m\n\u001b[1;32m     78\u001b[0m \u001b[0;34m\u001b[0m\u001b[0m\n",
      "\u001b[0;32m/opt/homebrew/Caskroom/miniforge/base/envs/tf/lib/python3.8/site-packages/requests/api.py\u001b[0m in \u001b[0;36mrequest\u001b[0;34m(method, url, **kwargs)\u001b[0m\n\u001b[1;32m     59\u001b[0m     \u001b[0;31m# cases, and look like a memory leak in others.\u001b[0m\u001b[0;34m\u001b[0m\u001b[0;34m\u001b[0m\u001b[0;34m\u001b[0m\u001b[0m\n\u001b[1;32m     60\u001b[0m     \u001b[0;32mwith\u001b[0m \u001b[0msessions\u001b[0m\u001b[0;34m.\u001b[0m\u001b[0mSession\u001b[0m\u001b[0;34m(\u001b[0m\u001b[0;34m)\u001b[0m \u001b[0;32mas\u001b[0m \u001b[0msession\u001b[0m\u001b[0;34m:\u001b[0m\u001b[0;34m\u001b[0m\u001b[0;34m\u001b[0m\u001b[0m\n\u001b[0;32m---> 61\u001b[0;31m         \u001b[0;32mreturn\u001b[0m \u001b[0msession\u001b[0m\u001b[0;34m.\u001b[0m\u001b[0mrequest\u001b[0m\u001b[0;34m(\u001b[0m\u001b[0mmethod\u001b[0m\u001b[0;34m=\u001b[0m\u001b[0mmethod\u001b[0m\u001b[0;34m,\u001b[0m \u001b[0murl\u001b[0m\u001b[0;34m=\u001b[0m\u001b[0murl\u001b[0m\u001b[0;34m,\u001b[0m \u001b[0;34m**\u001b[0m\u001b[0mkwargs\u001b[0m\u001b[0;34m)\u001b[0m\u001b[0;34m\u001b[0m\u001b[0;34m\u001b[0m\u001b[0m\n\u001b[0m\u001b[1;32m     62\u001b[0m \u001b[0;34m\u001b[0m\u001b[0m\n\u001b[1;32m     63\u001b[0m \u001b[0;34m\u001b[0m\u001b[0m\n",
      "\u001b[0;32m/opt/homebrew/Caskroom/miniforge/base/envs/tf/lib/python3.8/site-packages/requests/sessions.py\u001b[0m in \u001b[0;36mrequest\u001b[0;34m(self, method, url, params, data, headers, cookies, files, auth, timeout, allow_redirects, proxies, hooks, stream, verify, cert, json)\u001b[0m\n\u001b[1;32m    540\u001b[0m         }\n\u001b[1;32m    541\u001b[0m         \u001b[0msend_kwargs\u001b[0m\u001b[0;34m.\u001b[0m\u001b[0mupdate\u001b[0m\u001b[0;34m(\u001b[0m\u001b[0msettings\u001b[0m\u001b[0;34m)\u001b[0m\u001b[0;34m\u001b[0m\u001b[0;34m\u001b[0m\u001b[0m\n\u001b[0;32m--> 542\u001b[0;31m         \u001b[0mresp\u001b[0m \u001b[0;34m=\u001b[0m \u001b[0mself\u001b[0m\u001b[0;34m.\u001b[0m\u001b[0msend\u001b[0m\u001b[0;34m(\u001b[0m\u001b[0mprep\u001b[0m\u001b[0;34m,\u001b[0m \u001b[0;34m**\u001b[0m\u001b[0msend_kwargs\u001b[0m\u001b[0;34m)\u001b[0m\u001b[0;34m\u001b[0m\u001b[0;34m\u001b[0m\u001b[0m\n\u001b[0m\u001b[1;32m    543\u001b[0m \u001b[0;34m\u001b[0m\u001b[0m\n\u001b[1;32m    544\u001b[0m         \u001b[0;32mreturn\u001b[0m \u001b[0mresp\u001b[0m\u001b[0;34m\u001b[0m\u001b[0;34m\u001b[0m\u001b[0m\n",
      "\u001b[0;32m/opt/homebrew/Caskroom/miniforge/base/envs/tf/lib/python3.8/site-packages/requests/sessions.py\u001b[0m in \u001b[0;36msend\u001b[0;34m(self, request, **kwargs)\u001b[0m\n\u001b[1;32m    653\u001b[0m \u001b[0;34m\u001b[0m\u001b[0m\n\u001b[1;32m    654\u001b[0m         \u001b[0;31m# Send the request\u001b[0m\u001b[0;34m\u001b[0m\u001b[0;34m\u001b[0m\u001b[0;34m\u001b[0m\u001b[0m\n\u001b[0;32m--> 655\u001b[0;31m         \u001b[0mr\u001b[0m \u001b[0;34m=\u001b[0m \u001b[0madapter\u001b[0m\u001b[0;34m.\u001b[0m\u001b[0msend\u001b[0m\u001b[0;34m(\u001b[0m\u001b[0mrequest\u001b[0m\u001b[0;34m,\u001b[0m \u001b[0;34m**\u001b[0m\u001b[0mkwargs\u001b[0m\u001b[0;34m)\u001b[0m\u001b[0;34m\u001b[0m\u001b[0;34m\u001b[0m\u001b[0m\n\u001b[0m\u001b[1;32m    656\u001b[0m \u001b[0;34m\u001b[0m\u001b[0m\n\u001b[1;32m    657\u001b[0m         \u001b[0;31m# Total elapsed time of the request (approximately)\u001b[0m\u001b[0;34m\u001b[0m\u001b[0;34m\u001b[0m\u001b[0;34m\u001b[0m\u001b[0m\n",
      "\u001b[0;32m/opt/homebrew/Caskroom/miniforge/base/envs/tf/lib/python3.8/site-packages/requests/adapters.py\u001b[0m in \u001b[0;36msend\u001b[0;34m(self, request, stream, timeout, verify, cert, proxies)\u001b[0m\n\u001b[1;32m    437\u001b[0m         \u001b[0;32mtry\u001b[0m\u001b[0;34m:\u001b[0m\u001b[0;34m\u001b[0m\u001b[0;34m\u001b[0m\u001b[0m\n\u001b[1;32m    438\u001b[0m             \u001b[0;32mif\u001b[0m \u001b[0;32mnot\u001b[0m \u001b[0mchunked\u001b[0m\u001b[0;34m:\u001b[0m\u001b[0;34m\u001b[0m\u001b[0;34m\u001b[0m\u001b[0m\n\u001b[0;32m--> 439\u001b[0;31m                 resp = conn.urlopen(\n\u001b[0m\u001b[1;32m    440\u001b[0m                     \u001b[0mmethod\u001b[0m\u001b[0;34m=\u001b[0m\u001b[0mrequest\u001b[0m\u001b[0;34m.\u001b[0m\u001b[0mmethod\u001b[0m\u001b[0;34m,\u001b[0m\u001b[0;34m\u001b[0m\u001b[0;34m\u001b[0m\u001b[0m\n\u001b[1;32m    441\u001b[0m                     \u001b[0murl\u001b[0m\u001b[0;34m=\u001b[0m\u001b[0murl\u001b[0m\u001b[0;34m,\u001b[0m\u001b[0;34m\u001b[0m\u001b[0;34m\u001b[0m\u001b[0m\n",
      "\u001b[0;32m/opt/homebrew/Caskroom/miniforge/base/envs/tf/lib/python3.8/site-packages/urllib3/connectionpool.py\u001b[0m in \u001b[0;36murlopen\u001b[0;34m(self, method, url, body, headers, retries, redirect, assert_same_host, timeout, pool_timeout, release_conn, chunked, body_pos, **response_kw)\u001b[0m\n\u001b[1;32m    697\u001b[0m \u001b[0;34m\u001b[0m\u001b[0m\n\u001b[1;32m    698\u001b[0m             \u001b[0;31m# Make the request on the httplib connection object.\u001b[0m\u001b[0;34m\u001b[0m\u001b[0;34m\u001b[0m\u001b[0;34m\u001b[0m\u001b[0m\n\u001b[0;32m--> 699\u001b[0;31m             httplib_response = self._make_request(\n\u001b[0m\u001b[1;32m    700\u001b[0m                 \u001b[0mconn\u001b[0m\u001b[0;34m,\u001b[0m\u001b[0;34m\u001b[0m\u001b[0;34m\u001b[0m\u001b[0m\n\u001b[1;32m    701\u001b[0m                 \u001b[0mmethod\u001b[0m\u001b[0;34m,\u001b[0m\u001b[0;34m\u001b[0m\u001b[0;34m\u001b[0m\u001b[0m\n",
      "\u001b[0;32m/opt/homebrew/Caskroom/miniforge/base/envs/tf/lib/python3.8/site-packages/urllib3/connectionpool.py\u001b[0m in \u001b[0;36m_make_request\u001b[0;34m(self, conn, method, url, timeout, chunked, **httplib_request_kw)\u001b[0m\n\u001b[1;32m    380\u001b[0m         \u001b[0;31m# Trigger any extra validation we need to do.\u001b[0m\u001b[0;34m\u001b[0m\u001b[0;34m\u001b[0m\u001b[0;34m\u001b[0m\u001b[0m\n\u001b[1;32m    381\u001b[0m         \u001b[0;32mtry\u001b[0m\u001b[0;34m:\u001b[0m\u001b[0;34m\u001b[0m\u001b[0;34m\u001b[0m\u001b[0m\n\u001b[0;32m--> 382\u001b[0;31m             \u001b[0mself\u001b[0m\u001b[0;34m.\u001b[0m\u001b[0m_validate_conn\u001b[0m\u001b[0;34m(\u001b[0m\u001b[0mconn\u001b[0m\u001b[0;34m)\u001b[0m\u001b[0;34m\u001b[0m\u001b[0;34m\u001b[0m\u001b[0m\n\u001b[0m\u001b[1;32m    383\u001b[0m         \u001b[0;32mexcept\u001b[0m \u001b[0;34m(\u001b[0m\u001b[0mSocketTimeout\u001b[0m\u001b[0;34m,\u001b[0m \u001b[0mBaseSSLError\u001b[0m\u001b[0;34m)\u001b[0m \u001b[0;32mas\u001b[0m \u001b[0me\u001b[0m\u001b[0;34m:\u001b[0m\u001b[0;34m\u001b[0m\u001b[0;34m\u001b[0m\u001b[0m\n\u001b[1;32m    384\u001b[0m             \u001b[0;31m# Py2 raises this as a BaseSSLError, Py3 raises it as socket timeout.\u001b[0m\u001b[0;34m\u001b[0m\u001b[0;34m\u001b[0m\u001b[0;34m\u001b[0m\u001b[0m\n",
      "\u001b[0;32m/opt/homebrew/Caskroom/miniforge/base/envs/tf/lib/python3.8/site-packages/urllib3/connectionpool.py\u001b[0m in \u001b[0;36m_validate_conn\u001b[0;34m(self, conn)\u001b[0m\n\u001b[1;32m   1008\u001b[0m         \u001b[0;31m# Force connect early to allow us to validate the connection.\u001b[0m\u001b[0;34m\u001b[0m\u001b[0;34m\u001b[0m\u001b[0;34m\u001b[0m\u001b[0m\n\u001b[1;32m   1009\u001b[0m         \u001b[0;32mif\u001b[0m \u001b[0;32mnot\u001b[0m \u001b[0mgetattr\u001b[0m\u001b[0;34m(\u001b[0m\u001b[0mconn\u001b[0m\u001b[0;34m,\u001b[0m \u001b[0;34m\"sock\"\u001b[0m\u001b[0;34m,\u001b[0m \u001b[0;32mNone\u001b[0m\u001b[0;34m)\u001b[0m\u001b[0;34m:\u001b[0m  \u001b[0;31m# AppEngine might not have  `.sock`\u001b[0m\u001b[0;34m\u001b[0m\u001b[0;34m\u001b[0m\u001b[0m\n\u001b[0;32m-> 1010\u001b[0;31m             \u001b[0mconn\u001b[0m\u001b[0;34m.\u001b[0m\u001b[0mconnect\u001b[0m\u001b[0;34m(\u001b[0m\u001b[0;34m)\u001b[0m\u001b[0;34m\u001b[0m\u001b[0;34m\u001b[0m\u001b[0m\n\u001b[0m\u001b[1;32m   1011\u001b[0m \u001b[0;34m\u001b[0m\u001b[0m\n\u001b[1;32m   1012\u001b[0m         \u001b[0;32mif\u001b[0m \u001b[0;32mnot\u001b[0m \u001b[0mconn\u001b[0m\u001b[0;34m.\u001b[0m\u001b[0mis_verified\u001b[0m\u001b[0;34m:\u001b[0m\u001b[0;34m\u001b[0m\u001b[0;34m\u001b[0m\u001b[0m\n",
      "\u001b[0;32m/opt/homebrew/Caskroom/miniforge/base/envs/tf/lib/python3.8/site-packages/urllib3/connection.py\u001b[0m in \u001b[0;36mconnect\u001b[0;34m(self)\u001b[0m\n\u001b[1;32m    409\u001b[0m             \u001b[0mcontext\u001b[0m\u001b[0;34m.\u001b[0m\u001b[0mload_default_certs\u001b[0m\u001b[0;34m(\u001b[0m\u001b[0;34m)\u001b[0m\u001b[0;34m\u001b[0m\u001b[0;34m\u001b[0m\u001b[0m\n\u001b[1;32m    410\u001b[0m \u001b[0;34m\u001b[0m\u001b[0m\n\u001b[0;32m--> 411\u001b[0;31m         self.sock = ssl_wrap_socket(\n\u001b[0m\u001b[1;32m    412\u001b[0m             \u001b[0msock\u001b[0m\u001b[0;34m=\u001b[0m\u001b[0mconn\u001b[0m\u001b[0;34m,\u001b[0m\u001b[0;34m\u001b[0m\u001b[0;34m\u001b[0m\u001b[0m\n\u001b[1;32m    413\u001b[0m             \u001b[0mkeyfile\u001b[0m\u001b[0;34m=\u001b[0m\u001b[0mself\u001b[0m\u001b[0;34m.\u001b[0m\u001b[0mkey_file\u001b[0m\u001b[0;34m,\u001b[0m\u001b[0;34m\u001b[0m\u001b[0;34m\u001b[0m\u001b[0m\n",
      "\u001b[0;32m/opt/homebrew/Caskroom/miniforge/base/envs/tf/lib/python3.8/site-packages/urllib3/util/ssl_.py\u001b[0m in \u001b[0;36mssl_wrap_socket\u001b[0;34m(sock, keyfile, certfile, cert_reqs, ca_certs, server_hostname, ssl_version, ciphers, ssl_context, ca_cert_dir, key_password, ca_cert_data, tls_in_tls)\u001b[0m\n\u001b[1;32m    447\u001b[0m \u001b[0;34m\u001b[0m\u001b[0m\n\u001b[1;32m    448\u001b[0m     \u001b[0;32mif\u001b[0m \u001b[0msend_sni\u001b[0m\u001b[0;34m:\u001b[0m\u001b[0;34m\u001b[0m\u001b[0;34m\u001b[0m\u001b[0m\n\u001b[0;32m--> 449\u001b[0;31m         ssl_sock = _ssl_wrap_socket_impl(\n\u001b[0m\u001b[1;32m    450\u001b[0m             \u001b[0msock\u001b[0m\u001b[0;34m,\u001b[0m \u001b[0mcontext\u001b[0m\u001b[0;34m,\u001b[0m \u001b[0mtls_in_tls\u001b[0m\u001b[0;34m,\u001b[0m \u001b[0mserver_hostname\u001b[0m\u001b[0;34m=\u001b[0m\u001b[0mserver_hostname\u001b[0m\u001b[0;34m\u001b[0m\u001b[0;34m\u001b[0m\u001b[0m\n\u001b[1;32m    451\u001b[0m         )\n",
      "\u001b[0;32m/opt/homebrew/Caskroom/miniforge/base/envs/tf/lib/python3.8/site-packages/urllib3/util/ssl_.py\u001b[0m in \u001b[0;36m_ssl_wrap_socket_impl\u001b[0;34m(sock, ssl_context, tls_in_tls, server_hostname)\u001b[0m\n\u001b[1;32m    491\u001b[0m \u001b[0;34m\u001b[0m\u001b[0m\n\u001b[1;32m    492\u001b[0m     \u001b[0;32mif\u001b[0m \u001b[0mserver_hostname\u001b[0m\u001b[0;34m:\u001b[0m\u001b[0;34m\u001b[0m\u001b[0;34m\u001b[0m\u001b[0m\n\u001b[0;32m--> 493\u001b[0;31m         \u001b[0;32mreturn\u001b[0m \u001b[0mssl_context\u001b[0m\u001b[0;34m.\u001b[0m\u001b[0mwrap_socket\u001b[0m\u001b[0;34m(\u001b[0m\u001b[0msock\u001b[0m\u001b[0;34m,\u001b[0m \u001b[0mserver_hostname\u001b[0m\u001b[0;34m=\u001b[0m\u001b[0mserver_hostname\u001b[0m\u001b[0;34m)\u001b[0m\u001b[0;34m\u001b[0m\u001b[0;34m\u001b[0m\u001b[0m\n\u001b[0m\u001b[1;32m    494\u001b[0m     \u001b[0;32melse\u001b[0m\u001b[0;34m:\u001b[0m\u001b[0;34m\u001b[0m\u001b[0;34m\u001b[0m\u001b[0m\n\u001b[1;32m    495\u001b[0m         \u001b[0;32mreturn\u001b[0m \u001b[0mssl_context\u001b[0m\u001b[0;34m.\u001b[0m\u001b[0mwrap_socket\u001b[0m\u001b[0;34m(\u001b[0m\u001b[0msock\u001b[0m\u001b[0;34m)\u001b[0m\u001b[0;34m\u001b[0m\u001b[0;34m\u001b[0m\u001b[0m\n",
      "\u001b[0;32m/opt/homebrew/Caskroom/miniforge/base/envs/tf/lib/python3.8/ssl.py\u001b[0m in \u001b[0;36mwrap_socket\u001b[0;34m(self, sock, server_side, do_handshake_on_connect, suppress_ragged_eofs, server_hostname, session)\u001b[0m\n\u001b[1;32m    498\u001b[0m         \u001b[0;31m# SSLSocket class handles server_hostname encoding before it calls\u001b[0m\u001b[0;34m\u001b[0m\u001b[0;34m\u001b[0m\u001b[0;34m\u001b[0m\u001b[0m\n\u001b[1;32m    499\u001b[0m         \u001b[0;31m# ctx._wrap_socket()\u001b[0m\u001b[0;34m\u001b[0m\u001b[0;34m\u001b[0m\u001b[0;34m\u001b[0m\u001b[0m\n\u001b[0;32m--> 500\u001b[0;31m         return self.sslsocket_class._create(\n\u001b[0m\u001b[1;32m    501\u001b[0m             \u001b[0msock\u001b[0m\u001b[0;34m=\u001b[0m\u001b[0msock\u001b[0m\u001b[0;34m,\u001b[0m\u001b[0;34m\u001b[0m\u001b[0;34m\u001b[0m\u001b[0m\n\u001b[1;32m    502\u001b[0m             \u001b[0mserver_side\u001b[0m\u001b[0;34m=\u001b[0m\u001b[0mserver_side\u001b[0m\u001b[0;34m,\u001b[0m\u001b[0;34m\u001b[0m\u001b[0;34m\u001b[0m\u001b[0m\n",
      "\u001b[0;32m/opt/homebrew/Caskroom/miniforge/base/envs/tf/lib/python3.8/ssl.py\u001b[0m in \u001b[0;36m_create\u001b[0;34m(cls, sock, server_side, do_handshake_on_connect, suppress_ragged_eofs, server_hostname, context, session)\u001b[0m\n\u001b[1;32m   1038\u001b[0m                         \u001b[0;31m# non-blocking\u001b[0m\u001b[0;34m\u001b[0m\u001b[0;34m\u001b[0m\u001b[0;34m\u001b[0m\u001b[0m\n\u001b[1;32m   1039\u001b[0m                         \u001b[0;32mraise\u001b[0m \u001b[0mValueError\u001b[0m\u001b[0;34m(\u001b[0m\u001b[0;34m\"do_handshake_on_connect should not be specified for non-blocking sockets\"\u001b[0m\u001b[0;34m)\u001b[0m\u001b[0;34m\u001b[0m\u001b[0;34m\u001b[0m\u001b[0m\n\u001b[0;32m-> 1040\u001b[0;31m                     \u001b[0mself\u001b[0m\u001b[0;34m.\u001b[0m\u001b[0mdo_handshake\u001b[0m\u001b[0;34m(\u001b[0m\u001b[0;34m)\u001b[0m\u001b[0;34m\u001b[0m\u001b[0;34m\u001b[0m\u001b[0m\n\u001b[0m\u001b[1;32m   1041\u001b[0m             \u001b[0;32mexcept\u001b[0m \u001b[0;34m(\u001b[0m\u001b[0mOSError\u001b[0m\u001b[0;34m,\u001b[0m \u001b[0mValueError\u001b[0m\u001b[0;34m)\u001b[0m\u001b[0;34m:\u001b[0m\u001b[0;34m\u001b[0m\u001b[0;34m\u001b[0m\u001b[0m\n\u001b[1;32m   1042\u001b[0m                 \u001b[0mself\u001b[0m\u001b[0;34m.\u001b[0m\u001b[0mclose\u001b[0m\u001b[0;34m(\u001b[0m\u001b[0;34m)\u001b[0m\u001b[0;34m\u001b[0m\u001b[0;34m\u001b[0m\u001b[0m\n",
      "\u001b[0;32m/opt/homebrew/Caskroom/miniforge/base/envs/tf/lib/python3.8/ssl.py\u001b[0m in \u001b[0;36mdo_handshake\u001b[0;34m(self, block)\u001b[0m\n\u001b[1;32m   1307\u001b[0m             \u001b[0;32mif\u001b[0m \u001b[0mtimeout\u001b[0m \u001b[0;34m==\u001b[0m \u001b[0;36m0.0\u001b[0m \u001b[0;32mand\u001b[0m \u001b[0mblock\u001b[0m\u001b[0;34m:\u001b[0m\u001b[0;34m\u001b[0m\u001b[0;34m\u001b[0m\u001b[0m\n\u001b[1;32m   1308\u001b[0m                 \u001b[0mself\u001b[0m\u001b[0;34m.\u001b[0m\u001b[0msettimeout\u001b[0m\u001b[0;34m(\u001b[0m\u001b[0;32mNone\u001b[0m\u001b[0;34m)\u001b[0m\u001b[0;34m\u001b[0m\u001b[0;34m\u001b[0m\u001b[0m\n\u001b[0;32m-> 1309\u001b[0;31m             \u001b[0mself\u001b[0m\u001b[0;34m.\u001b[0m\u001b[0m_sslobj\u001b[0m\u001b[0;34m.\u001b[0m\u001b[0mdo_handshake\u001b[0m\u001b[0;34m(\u001b[0m\u001b[0;34m)\u001b[0m\u001b[0;34m\u001b[0m\u001b[0;34m\u001b[0m\u001b[0m\n\u001b[0m\u001b[1;32m   1310\u001b[0m         \u001b[0;32mfinally\u001b[0m\u001b[0;34m:\u001b[0m\u001b[0;34m\u001b[0m\u001b[0;34m\u001b[0m\u001b[0m\n\u001b[1;32m   1311\u001b[0m             \u001b[0mself\u001b[0m\u001b[0;34m.\u001b[0m\u001b[0msettimeout\u001b[0m\u001b[0;34m(\u001b[0m\u001b[0mtimeout\u001b[0m\u001b[0;34m)\u001b[0m\u001b[0;34m\u001b[0m\u001b[0;34m\u001b[0m\u001b[0m\n",
      "\u001b[0;31mKeyboardInterrupt\u001b[0m: "
     ]
    }
   ],
   "source": [
    "c=1\n",
    "target_url=[]\n",
    "while True:\n",
    "    r=requests.get(url.format(c),headers=header_info)\n",
    "    if r.status_code != 200:\n",
    "        print('err')\n",
    "        continue\n",
    "    bs=BeautifulSoup(r.text,'html.parser').select('.article-list-content > .list-block')\n",
    "    if len(bs) < 1:\n",
    "        for i in range(5):\n",
    "            bs=BeautifulSoup(r.text,'html.parser').select('.article-list-content > .list-block')\n",
    "            if len(bs) < 1 and i < 4:\n",
    "                continue\n",
    "            else: print('len(bs) < 1');break\n",
    "    try:\n",
    "        for i in bs:\n",
    "            target=i.select('a')[0]\n",
    "            date=i.select('.list-dated')[0].text\n",
    "            label=date[:date.find(' ')]\n",
    "            if label in label_list and 'href' in target.attrs:\n",
    "                target_url.append({label:base_url+target.attrs['href']})\n",
    "    except IndexError:\n",
    "        c+=1\n",
    "        continue\n",
    "    if '2017' in date:\n",
    "        break\n",
    "    if c%100==0:print(len(target_url))\n",
    "    c+=1"
   ]
  },
  {
   "cell_type": "code",
   "execution_count": 125,
   "id": "d4448cb2-7584-4fa8-a512-4cc6ce2f59bf",
   "metadata": {},
   "outputs": [
    {
     "data": {
      "text/plain": [
       "True"
      ]
     },
     "execution_count": 125,
     "metadata": {},
     "output_type": "execute_result"
    }
   ],
   "source": [
    "'2021' in BeautifulSoup(r.text,'html.parser').select('.article-list-content > .list-block')[0].select('.list-dated')[0].text"
   ]
  },
  {
   "cell_type": "code",
   "execution_count": 53,
   "id": "aaa50101-71ce-4d3b-a354-c9620f3f3992",
   "metadata": {},
   "outputs": [
    {
     "data": {
      "text/plain": [
       "24208"
      ]
     },
     "execution_count": 53,
     "metadata": {},
     "output_type": "execute_result"
    }
   ],
   "source": [
    "len(target_url)"
   ]
  },
  {
   "cell_type": "code",
   "execution_count": 98,
   "id": "bca5fe91-980d-4bcd-ba16-cc20fb7606c4",
   "metadata": {},
   "outputs": [
    {
     "name": "stdout",
     "output_type": "stream",
     "text": [
      "['사회', '사회', '사회', '사회', '사회'] ['https://www.newsjeju.net/news/articleView.html?idxno=366722', 'https://www.newsjeju.net/news/articleView.html?idxno=366721', 'https://www.newsjeju.net/news/articleView.html?idxno=366714', 'https://www.newsjeju.net/news/articleView.html?idxno=366710', 'https://www.newsjeju.net/news/articleView.html?idxno=366707']\n"
     ]
    }
   ],
   "source": [
    "k=[]; v=[]\n",
    "v+=[list(i.values())[0] for i in target_url]\n",
    "k+=[list(i.keys())[0] for i in target_url]\n",
    "print(k[:5],v[:5])"
   ]
  },
  {
   "cell_type": "code",
   "execution_count": 177,
   "id": "264332bf-b2f1-4f02-8b0b-9b8b4fdbaba8",
   "metadata": {},
   "outputs": [],
   "source": [
    "en=['\\'',\"'\",'\"','\\xa0',',','”']"
   ]
  },
  {
   "cell_type": "code",
   "execution_count": 99,
   "id": "d8179bcb-6461-4d36-b2a2-5283c46a51d6",
   "metadata": {},
   "outputs": [
    {
     "name": "stdout",
     "output_type": "stream",
     "text": [
      "0\n",
      "1000\n",
      "2000\n",
      "3000\n",
      "4000\n",
      "5000\n",
      "6000\n",
      "7000\n",
      "8000\n",
      "9000\n",
      "10000\n",
      "11000\n",
      "12000\n",
      "13000\n",
      "14000\n",
      "15000\n",
      "16000\n",
      "17000\n",
      "18000\n",
      "19000\n",
      "20000\n",
      "21000\n",
      "22000\n",
      "23000\n",
      "24000\n"
     ]
    }
   ],
   "source": [
    "news_text=[]\n",
    "for i in range(len(target_url)):\n",
    "    r=requests.get(v[i],headers=header_info)\n",
    "    bs=BeautifulSoup(r.text,'html.parser').select('.article-head-title,#article-view-content-div p')\n",
    "    txt=''\n",
    "    for y in bs:\n",
    "        txt+=y.text+' '\n",
    "    news_text.append({k[i]:txt})\n",
    "    if i%1000==0:print(i)"
   ]
  },
  {
   "cell_type": "code",
   "execution_count": 112,
   "id": "2f9c0687-f7cb-46de-9272-316f57b994bd",
   "metadata": {},
   "outputs": [
    {
     "data": {
      "text/plain": [
       "['제주 이승용 변호사 살인사건, 교사범 송환·조사 제주 장기 미제 중 하나인 \\'이승용 변호사 살인사건\\'이 새 국면을 맞고 있다. 약 22년이 지난 사건을 경찰이 재수사를 진행하면서 해외에 머물던 전직 조직폭력원을 국내로 송환했다. 20일 제주경찰청은 지난 18일 \\'살인 교사\\'와 \\'협박\\' 혐의를 적용하고 전직 조폭 김모(55. 남)씨를 캄보디아에서 국내로 송환해 조사를 진행 중이라고 밝혔다. 제주 출신인 이승용 변호사는 서울대 법대 졸업 후 검찰(사법시험 24회)에 입문했다. 추미애 전 법무부장관 등이 사법시험 동기다. 서울 등에서 검사 생활을 하던 이승용 변호사는 1992년 고향인 제주로 내려와 변호사 사무실을 차렸다. 장기 미제로 남은 \\'이승용 변호사\\' 살인사건은 1999년으로 거슬러 올라간다. 그해 11월5일 새벽 故 이승용 변호사(당시 44세. 남)는 제주북초등학교 북쪽 옛 체신아파트 입구 삼거리에 주차된 자신의 차량 안에서 숨진 채 발견됐다. 사망 추정 시각은 11월5일 새벽 5~6시 사이다. 당시 이 변호사는 흉기에 가슴과 배를 3차례 찔린 상태였다. 부검 결과 사인은 심장 관통에 의한 과다출혈로 잠정적 결론 났다. 경찰은 괴한에게 일격을 당한 피해자가 차량 안으로 들어와 이동하려다가 사망한 것으로 추정했다. 또 해당 사건을 \\'계획적 범행\\'으로 보고 수사에 나섰다. 그러나 용의선상에 오른 사람들에게 뚜렷한 혐의점을 찾지 못했다. 사건은 미궁으로 흘렀고, 2014년 11월4일 자정 공소시효가 만료됐다. 미제로 먼지가 쌓이던 사건은 지난해 SBS <그것이 알고 싶다>에서 다루면서 재수사가 이뤄졌다. 방송은 자신을 과거 제주 조직폭력배 \\'유탁파\\' 조직원으로 소개한 김씨가 자신이 변호사 살인을 교사했다는 인터뷰가 담겼다. 당시 김씨는 \"조폭 두목의 지시를 받고, 조직원 중 한 명에게 변호사의 살인을 교사했다\"고 주장했다. 김씨의 방송 인터뷰 진술은 제주 경찰 입장에서는 충격적이었다. 사유는 살인사건이 발생한 1999년부터 수많은 용의선상에 올랐던 인물 중 김씨는 포함되지 않았던 새로운 인물이기 때문이다. 제주 경찰은 방송 인터뷰를 토대로 재수사에 돌입했다. 2020년 7월1일자로 김씨를 입건하고, 올해 4월 체포영장을 발부받아 인터폴 적색수배에 나섰다. 캄보디아에서 불법체류자 신분으로 숨어있던 김씨는 올해 6월23일 현지 경찰관에 잡혔고, 8월18일 추방돼 인천공항을 통해 국내로 들어왔다. 제주 경찰은 같은 날 오후 4시10분쯤 김씨와 함께 입도했다. 공소시효가 만료된 사건임에도 경찰이 재수사에 나설 수 있는 배경은 김씨가 2014년 11월4일 이전부터 해외에 있었던 점을 주목했다. 살인죄의 경우 2015년 7일 공소시효가 폐지됐지만, \\'이승용 변호사 살인사건\\' 경우는 그 이전으로 이미 지난 사건이 돼 버린다. 다만 형사소송법상 \\'형사처벌을 면할 목적으로 해외 도피경우 공소시효가 정지\\'는 예외 조항을 토대로 경찰은 공소시효가 지나지 않은 것으로 판단해 수사를 잇고 있다. 현재 경찰은 김씨를 대상으로 살인 교사와 관련된 정황 등 여러 가지 수사를 진행 중이다. 김씨에 대한 영장실질심사는 오는 21일 오전 제주지법에서 진행된다. 제주 경찰 관계자는 \"김씨의 방송 인터뷰 외에도 당시 사건과 관련된 증거들을 수집한 상황\"이라며 \"수사 중인 상황이라 자세한 언급을 하지 못한다\"고 말했다.  ']"
      ]
     },
     "execution_count": 112,
     "metadata": {},
     "output_type": "execute_result"
    }
   ],
   "source": [
    "news_text[0][k[0]]"
   ]
  },
  {
   "cell_type": "code",
   "execution_count": 113,
   "id": "2ab5049f-7f71-43d8-9762-4e9e75dee7bf",
   "metadata": {},
   "outputs": [
    {
     "name": "stdout",
     "output_type": "stream",
     "text": [
      "0\n",
      "2000\n",
      "4000\n",
      "6000\n",
      "8000\n",
      "10000\n",
      "12000\n",
      "14000\n",
      "16000\n",
      "18000\n",
      "20000\n",
      "22000\n",
      "24000\n"
     ]
    }
   ],
   "source": [
    "for i in range(len(news_text)):\n",
    "    news_text[i][k[i]]=[news_text[i][k[i]][0].replace(y,'') for y in ['\\xa0','\\\\']]\n",
    "    if i%2000==0:print(i)"
   ]
  },
  {
   "cell_type": "code",
   "execution_count": 118,
   "id": "05dceb0f-b931-48a6-8d04-fa723d892ab3",
   "metadata": {},
   "outputs": [],
   "source": [
    "for i in range(len(news_text)):\n",
    "    del news_text[i][k[i]][0]"
   ]
  },
  {
   "cell_type": "code",
   "execution_count": 119,
   "id": "33cd5707-8832-4d72-822e-018d460e5151",
   "metadata": {},
   "outputs": [
    {
     "data": {
      "text/plain": [
       "{'사회': ['제주 이승용 변호사 살인사건, 교사범 송환·조사 제주 장기 미제 중 하나인 이승용 변호사 살인사건이 새 국면을 맞고 있다. 약 22년이 지난 사건을 경찰이 재수사를 진행하면서 해외에 머물던 전직 조직폭력원을 국내로 송환했다. 20일 제주경찰청은 지난 18일 살인 교사와 협박 혐의를 적용하고 전직 조폭 김모(55. 남)씨를 캄보디아에서 국내로 송환해 조사를 진행 중이라고 밝혔다. 제주 출신인 이승용 변호사는 서울대 법대 졸업 후 검찰(사법시험 24회)에 입문했다. 추미애 전 법무부장관 등이 사법시험 동기다. 서울 등에서 검사 생활을 하던 이승용 변호사는 1992년 고향인 제주로 내려와 변호사 사무실을 차렸다. 장기 미제로 남은 이승용 변호사 살인사건은 1999년으로 거슬러 올라간다. 그해 11월5일 새벽 故 이승용 변호사(당시 44세. 남)는 제주북초등학교 북쪽 옛 체신아파트 입구 삼거리에 주차된 자신의 차량 안에서 숨진 채 발견됐다. 사망 추정 시각은 11월5일 새벽 5~6시 사이다. 당시 이 변호사는 흉기에 가슴과 배를 3차례 찔린 상태였다. 부검 결과 사인은 심장 관통에 의한 과다출혈로 잠정적 결론 났다. 경찰은 괴한에게 일격을 당한 피해자가 차량 안으로 들어와 이동하려다가 사망한 것으로 추정했다. 또 해당 사건을 계획적 범행으로 보고 수사에 나섰다. 그러나 용의선상에 오른 사람들에게 뚜렷한 혐의점을 찾지 못했다. 사건은 미궁으로 흘렀고, 2014년 11월4일 자정 공소시효가 만료됐다. 미제로 먼지가 쌓이던 사건은 지난해 SBS <그것이 알고 싶다>에서 다루면서 재수사가 이뤄졌다. 방송은 자신을 과거 제주 조직폭력배 유탁파 조직원으로 소개한 김씨가 자신이 변호사 살인을 교사했다는 인터뷰가 담겼다. 당시 김씨는 \"조폭 두목의 지시를 받고, 조직원 중 한 명에게 변호사의 살인을 교사했다\"고 주장했다. 김씨의 방송 인터뷰 진술은 제주 경찰 입장에서는 충격적이었다. 사유는 살인사건이 발생한 1999년부터 수많은 용의선상에 올랐던 인물 중 김씨는 포함되지 않았던 새로운 인물이기 때문이다. 제주 경찰은 방송 인터뷰를 토대로 재수사에 돌입했다. 2020년 7월1일자로 김씨를 입건하고, 올해 4월 체포영장을 발부받아 인터폴 적색수배에 나섰다. 캄보디아에서 불법체류자 신분으로 숨어있던 김씨는 올해 6월23일 현지 경찰관에 잡혔고, 8월18일 추방돼 인천공항을 통해 국내로 들어왔다. 제주 경찰은 같은 날 오후 4시10분쯤 김씨와 함께 입도했다. 공소시효가 만료된 사건임에도 경찰이 재수사에 나설 수 있는 배경은 김씨가 2014년 11월4일 이전부터 해외에 있었던 점을 주목했다. 살인죄의 경우 2015년 7일 공소시효가 폐지됐지만, 이승용 변호사 살인사건 경우는 그 이전으로 이미 지난 사건이 돼 버린다. 다만 형사소송법상 형사처벌을 면할 목적으로 해외 도피경우 공소시효가 정지는 예외 조항을 토대로 경찰은 공소시효가 지나지 않은 것으로 판단해 수사를 잇고 있다. 현재 경찰은 김씨를 대상으로 살인 교사와 관련된 정황 등 여러 가지 수사를 진행 중이다. 김씨에 대한 영장실질심사는 오는 21일 오전 제주지법에서 진행된다. 제주 경찰 관계자는 \"김씨의 방송 인터뷰 외에도 당시 사건과 관련된 증거들을 수집한 상황\"이라며 \"수사 중인 상황이라 자세한 언급을 하지 못한다\"고 말했다.  ']}"
      ]
     },
     "execution_count": 119,
     "metadata": {},
     "output_type": "execute_result"
    }
   ],
   "source": [
    "news_text[0]"
   ]
  },
  {
   "cell_type": "code",
   "execution_count": 131,
   "id": "a94c9ac5-390c-4808-91ee-0627885e67cc",
   "metadata": {},
   "outputs": [],
   "source": [
    "news_text_df=pd.DataFrame()\n",
    "for i in range(len(news_text)):\n",
    "    news_text_df=news_text_df.append(pd.DataFrame({'label':news_text[i].keys(),'text':news_text[i][k[i]][0]}))"
   ]
  },
  {
   "cell_type": "code",
   "execution_count": 185,
   "id": "2132497d-540a-4c4f-a0aa-577ce97658a7",
   "metadata": {},
   "outputs": [
    {
     "name": "stdout",
     "output_type": "stream",
     "text": [
      "뉴스의 최대 길이 : 9560\n",
      "뉴스의 최소 길이 : 130\n",
      "뉴스의 평균 길이 : 723.9545945478895\n"
     ]
    },
    {
     "data": {
      "image/png": "[encoded data removed]",
      "text/plain": [
       "<Figure size 432x288 with 1 Axes>"
      ]
     },
     "metadata": {
      "needs_background": "light"
     },
     "output_type": "display_data"
    }
   ],
   "source": [
    "print('뉴스의 최대 길이 :',max(len(l) for l in news_text_df.text))\n",
    "print('뉴스의 최소 길이 :',min(len(l) for l in news_text_df.text))\n",
    "print('뉴스의 평균 길이 :',sum(map(len, news_text_df.text))/len(news_text_df.text))\n",
    "plt.hist([len(s) for s in news_text_df.text], bins=100)\n",
    "plt.xlabel('length of samples')\n",
    "plt.ylabel('number of samples')\n",
    "plt.show()"
   ]
  },
  {
   "cell_type": "code",
   "execution_count": 167,
   "id": "b5cbcae2-0c1e-4ee2-be07-f3ea3a488068",
   "metadata": {},
   "outputs": [],
   "source": [
    "news_text_df.reset_index(inplace=True)"
   ]
  },
  {
   "cell_type": "code",
   "execution_count": 171,
   "id": "ca6d0b0b-35e9-4b43-af65-d6f430432847",
   "metadata": {},
   "outputs": [],
   "source": [
    "c=1\n",
    "for i,v in enumerate(news_text_df.text):\n",
    "    if len(v)<130:\n",
    "        news_text_df.drop(i,inplace=True)"
   ]
  },
  {
   "cell_type": "code",
   "execution_count": 177,
   "id": "91de6812-8d50-4363-b823-b061e9ace26f",
   "metadata": {},
   "outputs": [
    {
     "data": {
      "text/html": [
       "<div>\n",
       "<style scoped>\n",
       "    .dataframe tbody tr th:only-of-type {\n",
       "        vertical-align: middle;\n",
       "    }\n",
       "\n",
       "    .dataframe tbody tr th {\n",
       "        vertical-align: top;\n",
       "    }\n",
       "\n",
       "    .dataframe thead th {\n",
       "        text-align: right;\n",
       "    }\n",
       "</style>\n",
       "<table border=\"1\" class=\"dataframe\">\n",
       "  <thead>\n",
       "    <tr style=\"text-align: right;\">\n",
       "      <th></th>\n",
       "      <th>label</th>\n",
       "      <th>text</th>\n",
       "    </tr>\n",
       "  </thead>\n",
       "  <tbody>\n",
       "    <tr>\n",
       "      <th>0</th>\n",
       "      <td>사회</td>\n",
       "      <td>제주 이승용 변호사 살인사건, 교사범 송환·조사 제주 장기 미제 중 하나인 이승용 ...</td>\n",
       "    </tr>\n",
       "    <tr>\n",
       "      <th>1</th>\n",
       "      <td>사회</td>\n",
       "      <td>제주형 지하수 모델, 저명 국제학술지 실려 기존화산섬 지하수 모델과 차별화된 제주형...</td>\n",
       "    </tr>\n",
       "    <tr>\n",
       "      <th>2</th>\n",
       "      <td>사회</td>\n",
       "      <td>제주 평화리더 500人 페스티벌 유튜브 생중계 제주 평화리더 500人 페스티벌이 오...</td>\n",
       "    </tr>\n",
       "    <tr>\n",
       "      <th>3</th>\n",
       "      <td>사회</td>\n",
       "      <td>제주 노래방 관련 확진자만 74명 제주도내 코로나19 집단감염 사례가 하루가 멀다하...</td>\n",
       "    </tr>\n",
       "    <tr>\n",
       "      <th>4</th>\n",
       "      <td>사회</td>\n",
       "      <td>백신 접종자 4인까지 모임 허용... 제주는? 정부가 현행 사회적 거리두기를 2주 ...</td>\n",
       "    </tr>\n",
       "    <tr>\n",
       "      <th>...</th>\n",
       "      <td>...</td>\n",
       "      <td>...</td>\n",
       "    </tr>\n",
       "    <tr>\n",
       "      <th>24198</th>\n",
       "      <td>제주관광</td>\n",
       "      <td>중문면세점 개점 5주년...이벤트 팡팡  제주관광공사(사장 양영근)는 중문면세점 개...</td>\n",
       "    </tr>\n",
       "    <tr>\n",
       "      <th>24199</th>\n",
       "      <td>사회</td>\n",
       "      <td>정의당 도당 \"제주의 물 팔아먹는 것이 새정치는 아니\" 한국공항의 지하수 증산안이 ...</td>\n",
       "    </tr>\n",
       "    <tr>\n",
       "      <th>24200</th>\n",
       "      <td>경제</td>\n",
       "      <td>제주에너지공사 출범 2년 째 지속적인 흑자 달성 제주에너지공사가 출범 첫 해 흑자에...</td>\n",
       "    </tr>\n",
       "    <tr>\n",
       "      <th>24202</th>\n",
       "      <td>사회</td>\n",
       "      <td>제주국제공항, 다채로운 문화행사로 북적북적 한국공항공사 제주지역본부(본부장 신종균)...</td>\n",
       "    </tr>\n",
       "    <tr>\n",
       "      <th>24207</th>\n",
       "      <td>사회</td>\n",
       "      <td>대한안마사협회 제주지부 직장 내 성희롱 예방교육 실시 대한안마사협회 제주지부는 26...</td>\n",
       "    </tr>\n",
       "  </tbody>\n",
       "</table>\n",
       "<p>23147 rows × 2 columns</p>\n",
       "</div>"
      ],
      "text/plain": [
       "      label                                               text\n",
       "0        사회  제주 이승용 변호사 살인사건, 교사범 송환·조사 제주 장기 미제 중 하나인 이승용 ...\n",
       "1        사회  제주형 지하수 모델, 저명 국제학술지 실려 기존화산섬 지하수 모델과 차별화된 제주형...\n",
       "2        사회  제주 평화리더 500人 페스티벌 유튜브 생중계 제주 평화리더 500人 페스티벌이 오...\n",
       "3        사회  제주 노래방 관련 확진자만 74명 제주도내 코로나19 집단감염 사례가 하루가 멀다하...\n",
       "4        사회  백신 접종자 4인까지 모임 허용... 제주는? 정부가 현행 사회적 거리두기를 2주 ...\n",
       "...     ...                                                ...\n",
       "24198  제주관광  중문면세점 개점 5주년...이벤트 팡팡  제주관광공사(사장 양영근)는 중문면세점 개...\n",
       "24199    사회  정의당 도당 \"제주의 물 팔아먹는 것이 새정치는 아니\" 한국공항의 지하수 증산안이 ...\n",
       "24200    경제  제주에너지공사 출범 2년 째 지속적인 흑자 달성 제주에너지공사가 출범 첫 해 흑자에...\n",
       "24202    사회  제주국제공항, 다채로운 문화행사로 북적북적 한국공항공사 제주지역본부(본부장 신종균)...\n",
       "24207    사회  대한안마사협회 제주지부 직장 내 성희롱 예방교육 실시 대한안마사협회 제주지부는 26...\n",
       "\n",
       "[23147 rows x 2 columns]"
      ]
     },
     "execution_count": 177,
     "metadata": {},
     "output_type": "execute_result"
    }
   ],
   "source": [
    "news_text_df"
   ]
  },
  {
   "cell_type": "code",
   "execution_count": 186,
   "id": "82d2ccec-30ed-4947-954b-a1c02b3b1f8d",
   "metadata": {},
   "outputs": [],
   "source": [
    "pd.DataFrame(news_text_df).to_csv('기타/제주news_text.csv',index=False)"
   ]
  },
  {
   "cell_type": "code",
   "execution_count": null,
   "id": "2de39708-9521-47d3-bc35-3581e0386095",
   "metadata": {},
   "outputs": [],
   "source": []
  }
 ],
 "metadata": {
  "kernelspec": {
   "display_name": "Python 3 (ipykernel)",
   "language": "python",
   "name": "python3"
  },
  "language_info": {
   "codemirror_mode": {
    "name": "ipython",
    "version": 3
   },
   "file_extension": ".py",
   "mimetype": "text/x-python",
   "name": "python",
   "nbconvert_exporter": "python",
   "pygments_lexer": "ipython3",
   "version": "3.8.6"
  }
 },
 "nbformat": 4,
 "nbformat_minor": 5
}
